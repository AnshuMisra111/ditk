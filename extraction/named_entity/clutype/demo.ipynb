{
 "cells": [
  {
   "cell_type": "code",
   "execution_count": 10,
   "metadata": {},
   "outputs": [],
   "source": [
    "from main import ClustType"
   ]
  },
  {
   "cell_type": "code",
   "execution_count": 11,
   "metadata": {},
   "outputs": [],
   "source": [
    "clustType_instance = ClustType()"
   ]
  },
  {
   "cell_type": "code",
   "execution_count": 12,
   "metadata": {},
   "outputs": [],
   "source": [
    "file_path = {\n",
    "  \"test\": \"data/ner_test_input.txt\",\n",
    "  \"dev\": \"data/ner_test_input.txt\",\n",
    "  \"train\": \"data/ner_test_input.txt\"\n",
    "}\n",
    "read_data = clustType_instance.read_dataset(file_path, \"CoNLL\", freebase_link=\"data/freebase_links.nt\")"
   ]
  },
  {
   "cell_type": "code",
   "execution_count": 13,
   "metadata": {
    "scrolled": true
   },
   "outputs": [
    {
     "name": "stdout",
     "output_type": "stream",
     "text": [
      "Start candidate generation...\n",
      "Mining Contiguous Patterns\n",
      "Ending Mining of Patterns of Size: 1\n",
      "Documents Remaining: 32\n",
      "Ending Mining of Patterns of Size: 2\n",
      "Documents Remaining: 23\n",
      "Ending Mining of Patterns of Size: 3\n",
      "Documents Remaining: 20\n",
      "Ending Mining of Patterns of Size: 4\n",
      "Documents Remaining: 11\n",
      "Candidate generation done.\n",
      "Start DBpediaSpotlight\n",
      "Start DBpediaSpotlight\n",
      " Start DBpediaSpotlightStart DBpediaSpotlight\n",
      " Start DBpediaSpotlight\n",
      "\n",
      "Start joining the files\n",
      "Filter not-of-interested entities\n",
      "start parsing the corpus...\n",
      "construct WL, WR, PiL, PiR DONE\n",
      "#mention before filter: 27 , #PiL rows: 12 , #PiR rows: 27 , #candidates before filter: 9\n",
      "start filtering mentions...\n",
      "filter mentions DONE\n",
      "start construct mid, cid, PiC...\n",
      "construct mention-mid, PiC, candidate-cid DONE\n",
      "#mentions after filter: 27 , PiC #rows: 27 , #candidates after filter: 9\n",
      "candidate, max# mentions:  earl 3\n",
      "candidate avg# mentions:  3.0\n",
      "start construct PiL, PiR, RP_pid\n",
      "construct PiL, PiR, RP_pid DONE\n",
      "#RPs: 7\n",
      "start mention KNN graph construction...\n",
      "construct W_M DONE\n",
      "start feature generation...\n",
      "generate feature matrices, string_wid, context_wid DONE\n",
      "#RP string terms: 9 , #RP context terms: 16\n"
     ]
    }
   ],
   "source": [
    "clustType_instance.train(read_data)"
   ]
  },
  {
   "cell_type": "code",
   "execution_count": 14,
   "metadata": {
    "scrolled": true
   },
   "outputs": [
    {
     "name": "stdout",
     "output_type": "stream",
     "text": [
      "Data loading...\n",
      "#links in S_L: 4 , #links in S_R: 9\n",
      "S_M dims 27 27 #links in S_M: 0\n",
      "Loading DONE\n",
      "No target type entity seeded!!!!\n",
      "seeding DONE\n",
      "start ClusType...\n",
      "iter 10 obj:  0.0 rel obj change:  nan\n",
      "iter 20 obj:  0.0 rel obj change:  nan\n",
      "iter 30 obj:  0.0 rel obj change:  nan\n",
      "iter 40 obj:  0.0 rel obj change:  nan\n",
      "ClusType done!\n",
      "Output file has been created at: data/ner_test_output.txt\n"
     ]
    }
   ],
   "source": [
    "output_file = clustType_instance.predict(read_data)\n",
    "print \"Output file has been created at: {}\".format(output_file)"
   ]
  },
  {
   "cell_type": "code",
   "execution_count": 15,
   "metadata": {},
   "outputs": [
    {
     "name": "stdout",
     "output_type": "stream",
     "text": [
      "precision: 0\trecall: 0.0\tf1: 0.0\n"
     ]
    }
   ],
   "source": [
    "precision, recall, f1_score = clustType_instance.evaluate(None, read_data)\n",
    "print(\"precision: {}\\trecall: {}\\tf1: {}\".format(precision, recall, f1_score))"
   ]
  },
  {
   "cell_type": "code",
   "execution_count": null,
   "metadata": {},
   "outputs": [],
   "source": []
  }
 ],
 "metadata": {
  "kernelspec": {
   "display_name": "Python 2",
   "language": "python",
   "name": "python2"
  },
  "language_info": {
   "codemirror_mode": {
    "name": "ipython",
    "version": 2
   },
   "file_extension": ".py",
   "mimetype": "text/x-python",
   "name": "python",
   "nbconvert_exporter": "python",
   "pygments_lexer": "ipython2",
   "version": "2.7.14"
  }
 },
 "nbformat": 4,
 "nbformat_minor": 2
}
