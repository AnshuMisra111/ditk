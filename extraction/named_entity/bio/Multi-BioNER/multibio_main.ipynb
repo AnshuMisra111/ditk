{
 "cells": [
  {
   "cell_type": "code",
   "execution_count": 1,
   "metadata": {
    "collapsed": true
   },
   "outputs": [],
   "source": [
    "import argparse\n",
    "import matplotlib.pyplot as plt\n",
    "from multibio_model import MultiBio\n",
    "\n"
   ]
  },
  {
   "cell_type": "code",
   "execution_count": 2,
   "metadata": {},
   "outputs": [],
   "source": [
    "def main(test_input):\n",
    "    parser = argparse.ArgumentParser(description='Learning with LM-LSTM-CRF together with Language Model')\n",
    "    parser.add_argument('--rand_embedding', action='store_true', default= False, help='random initialize word embedding')\n",
    "    parser.add_argument('--emb_file', default='data_bioner_5/source.txt', help='path to pre-trained embedding')\n",
    "    parser.add_argument('--train_file', nargs='+', default=[ \"data_bioner_5/BC4CHEMD-IOBES/train\"],\n",
    "                        help='path to training file')\n",
    "    parser.add_argument('--dev_file', nargs='+', default=[ \"data_bioner_5/BC4CHEMD-IOBES/devel\"],\n",
    "                        help='path to development file')\n",
    "    parser.add_argument('--test_file', nargs='+', default=[ \"data_bioner_5/BC4CHEMD-IOBES/test\"],\n",
    "                        help='path to test file')\n",
    "    parser.add_argument('--gpu', type=int, default=-1, help='gpu id')\n",
    "    parser.add_argument('--batch_size', type=int, default=40, help='batch_size')\n",
    "    parser.add_argument('--unk', default='unk', help='unknow-token in pre-trained embedding')\n",
    "    parser.add_argument('--char_hidden', type=int, default=300, help='dimension of char-level layers')\n",
    "    parser.add_argument('--word_hidden', type=int, default=300, help='dimension of word-level layers')\n",
    "    parser.add_argument('--drop_out', type=float, default=0.5, help='dropout ratio')\n",
    "    parser.add_argument('--epoch', type=int, default=1, help='maximum epoch number')\n",
    "    parser.add_argument('--start_epoch', type=int, default=0, help='start point of epoch')\n",
    "    parser.add_argument('--checkpoint', default='./checkpoint/', help='checkpoint path')\n",
    "    parser.add_argument('--caseless', action='store_true', default=True, help='caseless or not')\n",
    "    parser.add_argument('--char_dim', type=int, default=30, help='dimension of char embedding')\n",
    "    parser.add_argument('--word_dim', type=int, default=50, help='dimension of word embedding')\n",
    "    parser.add_argument('--char_layers', type=int, default=1, help='number of char level layers')\n",
    "    parser.add_argument('--word_layers', type=int, default=1, help='number of word level layers')\n",
    "    parser.add_argument('--lr', type=float, default=0.01, help='initial learning rate')\n",
    "    parser.add_argument('--lr_decay', type=float, default=0.05, help='decay ratio of learning rate')\n",
    "    parser.add_argument('--fine_tune', action='store_false', default=True, help='fine tune the diction of word embedding or not')\n",
    "    parser.add_argument('--load_check_point', default=False, help='path previous checkpoint that want to be loaded')\n",
    "    parser.add_argument('--load_opt', action='store_true', default=False, help='also load optimizer from the checkpoint')\n",
    "    parser.add_argument('--update', choices=['sgd', 'adam'], default='sgd', help='optimizer choice')\n",
    "    parser.add_argument('--momentum', type=float, default=0.9, help='momentum for sgd')\n",
    "    parser.add_argument('--clip_grad', type=float, default=5.0, help='clip grad at')\n",
    "    parser.add_argument('--small_crf', action='store_false', default=True,\n",
    "                        help='use small crf instead of large crf, refer model.crf module for more details')\n",
    "    parser.add_argument('--mini_count', type=float, default=5, help='thresholds to replace rare words with <unk>')\n",
    "    parser.add_argument('--lambda0', type=float, default=1, help='lambda0')\n",
    "    parser.add_argument('--co_train', action='store_true', default=False, help='cotrain language model')\n",
    "    parser.add_argument('--patience', type=int, default=50, help='patience for early stop')\n",
    "    parser.add_argument('--high_way', action='store_true', default=False, help='use highway layers')\n",
    "    parser.add_argument('--highway_layers', type=int, default=1, help='number of highway layers')\n",
    "    parser.add_argument('--eva_matrix', choices=['a', 'fa'], default='fa', help='use f1 and accuracy or accuracy alone')\n",
    "    parser.add_argument('--least_iters', type=int, default=50, help='at least train how many epochs before stop')\n",
    "    parser.add_argument('--shrink_embedding', action='store_true', default=True,\n",
    "                        help='shrink the embedding dictionary to corpus (open this if pre-trained embedding dictionary is too large, but disable this may yield better results on external corpus)')\n",
    "    parser.add_argument('--output_annotation', action='store_true', default=True, help='output annotation results or not')\n",
    "    parser.add_argument('--output_file', default='annotate/output', help='path to output file')\n",
    "    args = parser.parse_args(args=[])\n",
    "    model = MultiBio(args)\n",
    "    model.read_dataset(None, None)\n",
    "    model.build_model()\n",
    "    loss_list, acc_list = model.train(None)\n",
    "\n",
    "    plt.subplot(2, 1, 1)\n",
    "    plt.title('Training loss')\n",
    "    # loss_hist_ = loss_hist[1::100]  # sparse the curve a bit\n",
    "    plt.plot(loss_list, '-o')\n",
    "    plt.xlim(0,5)\n",
    "    plt.xlabel('Epoch')\n",
    "\n",
    "    plt.subplot(2, 1, 2)\n",
    "    plt.title('Accuracy')\n",
    "    plt.plot(acc_list, '-o', label='Training')\n",
    "    plt.xlabel('Epoch')\n",
    "    plt.axis([0, 5, 0, 100])\n",
    "    plt.legend(loc='lower right')\n",
    "    # plt.gcf().set_size_inches(15, 12)\n",
    "    #plt.savefig('BC2GM-IOBES.png')\n",
    "    plt.show(block=False)\n",
    "    \n",
    "    out_path = model.predict(None, None, None)\n",
    "    test_f1, test_pre, test_rec, test_acc = model.evaluate(None, None, None, None)\n",
    "    print(\"Test evaluation: f1 = %.4f, recall = %.4f, precision = %.4f \" % (test_f1, test_rec, test_pre))\n",
    "\n",
    "    parser = argparse.ArgumentParser(description='Evaluating LM-BLSTM-CRF')\n",
    "    parser.add_argument('--load_arg', default='./checkpoint/cwlm_lstm_crf.json', help='path to arg json')\n",
    "    parser.add_argument('--load_check_point', default='./checkpoint/cwlm_lstm_crf.model',\n",
    "                        help='path to model checkpoint file')\n",
    "    parser.add_argument('--gpu', type=int, default=-1, help='gpu id')\n",
    "    parser.add_argument('--decode_type', choices=['label', 'string'], default='label',\n",
    "                        help='type of decode function, set `label` to couple label with text, or set `string` to insert label into test')\n",
    "    parser.add_argument('--batch_size', type=int, default=50, help='size of batch')\n",
    "    parser.add_argument('--eva_matrix', choices=['a', 'fa'], default='fa',\n",
    "                        help='use f1 and accuracy or accuracy alone')\n",
    "    parser.add_argument('--input_file', default=test_input, help='path to input un-annotated corpus')\n",
    "    parser.add_argument('--output_file', default='annotate/output', help='path to output file')\n",
    "    parser.add_argument('--dataset_no', type=int, default=1, help='number of the datasets')\n",
    "    args = parser.parse_args(args=[])\n",
    "    out_path = model.load_model(args)\n",
    "    return out_path\n"
   ]
  },
  {
   "cell_type": "code",
   "execution_count": 3,
   "metadata": {},
   "outputs": [
    {
     "name": "stdout",
     "output_type": "stream",
     "text": [
      "setting:"
     ]
    },
    {
     "name": "stdout",
     "output_type": "stream",
     "text": [
      "\n"
     ]
    },
    {
     "name": "stdout",
     "output_type": "stream",
     "text": [
      "Namespace(batch_size=40, caseless=True, char_dim=30, char_hidden=300, char_layers=1, checkpoint='./checkpoint/', clip_grad=5.0, co_train=False, dev_file=['data_bioner_5/BC4CHEMD-IOBES/devel'], drop_out=0.5, emb_file='data_bioner_5/source.txt', epoch=1, eva_matrix='fa', fine_tune=True, gpu=-1, high_way=False, highway_layers=1, lambda0=1, least_iters=50, load_check_point=False, load_opt=False, lr=0.01, lr_decay=0.05, mini_count=5, momentum=0.9, output_annotation=True, output_file='annotate/output', patience=50, rand_embedding=False, shrink_embedding=True, small_crf=True, start_epoch=0, test_file=['data_bioner_5/BC4CHEMD-IOBES/test'], train_file=['data_bioner_5/BC4CHEMD-IOBES/train'], unk='unk', update='sgd', word_dim=50, word_hidden=300, word_layers=1)"
     ]
    },
    {
     "name": "stdout",
     "output_type": "stream",
     "text": [
      "\n"
     ]
    },
    {
     "name": "stdout",
     "output_type": "stream",
     "text": [
      "loading corpus"
     ]
    },
    {
     "name": "stdout",
     "output_type": "stream",
     "text": [
      "\n"
     ]
    },
    {
     "name": "stdout",
     "output_type": "stream",
     "text": [
      "constructing coding table"
     ]
    },
    {
     "name": "stdout",
     "output_type": "stream",
     "text": [
      "\n"
     ]
    },
    {
     "name": "stdout",
     "output_type": "stream",
     "text": [
      "feature size: '68'"
     ]
    },
    {
     "name": "stdout",
     "output_type": "stream",
     "text": [
      "\n"
     ]
    },
    {
     "name": "stdout",
     "output_type": "stream",
     "text": [
      "loading embedding"
     ]
    },
    {
     "name": "stdout",
     "output_type": "stream",
     "text": [
      "\n"
     ]
    },
    {
     "name": "stderr",
     "output_type": "stream",
     "text": [
      "C:\\Users\\User\\PycharmProjects\\Multi-Bio\\ditk\\extraction\\named_entity\\bio\\Multi-BioNER\\model\\utils.py:823: UserWarning: nn.init.uniform is now deprecated in favor of nn.init.uniform_.\n  nn.init.uniform(input_embedding, -bias, bias)\n"
     ]
    },
    {
     "name": "stdout",
     "output_type": "stream",
     "text": [
      "embedding size: '1421'"
     ]
    },
    {
     "name": "stdout",
     "output_type": "stream",
     "text": [
      "\n"
     ]
    },
    {
     "name": "stdout",
     "output_type": "stream",
     "text": [
      "constructing dataset"
     ]
    },
    {
     "name": "stdout",
     "output_type": "stream",
     "text": [
      "\n"
     ]
    },
    {
     "name": "stdout",
     "output_type": "stream",
     "text": [
      "building model"
     ]
    },
    {
     "name": "stdout",
     "output_type": "stream",
     "text": [
      "\n"
     ]
    },
    {
     "name": "stderr",
     "output_type": "stream",
     "text": [
      "C:\\Users\\User\\PycharmProjects\\Multi-Bio\\lib\\site-packages\\torch\\nn\\modules\\rnn.py:46: UserWarning: dropout option adds dropout after all but last recurrent layer, so non-zero dropout expects num_layers greater than 1, but got dropout=0.5 and num_layers=1\n  \"num_layers={}\".format(dropout, num_layers))\n"
     ]
    },
    {
     "name": "stderr",
     "output_type": "stream",
     "text": [
      "C:\\Users\\User\\PycharmProjects\\Multi-Bio\\ditk\\extraction\\named_entity\\bio\\Multi-BioNER\\model\\utils.py:841: UserWarning: nn.init.uniform is now deprecated in favor of nn.init.uniform_.\n  nn.init.uniform(weight, -bias, bias)\n"
     ]
    },
    {
     "name": "stderr",
     "output_type": "stream",
     "text": [
      "C:\\Users\\User\\PycharmProjects\\Multi-Bio\\ditk\\extraction\\named_entity\\bio\\Multi-BioNER\\model\\utils.py:844: UserWarning: nn.init.uniform is now deprecated in favor of nn.init.uniform_.\n  nn.init.uniform(weight, -bias, bias)\n"
     ]
    },
    {
     "name": "stderr",
     "output_type": "stream",
     "text": [
      "C:\\Users\\User\\PycharmProjects\\Multi-Bio\\ditk\\extraction\\named_entity\\bio\\Multi-BioNER\\model\\utils.py:830: UserWarning: nn.init.uniform is now deprecated in favor of nn.init.uniform_.\n  nn.init.uniform(input_linear.weight, -bias, bias)\n"
     ]
    },
    {
     "name": "stdout",
     "output_type": "stream",
     "text": [
      "\r - Tot it 4 (epoch 0):   0%|          | 0/1 [00:00<?, ?it/s]"
     ]
    },
    {
     "name": "stderr",
     "output_type": "stream",
     "text": [
      "C:\\Users\\User\\PycharmProjects\\Multi-Bio\\ditk\\extraction\\named_entity\\bio\\Multi-BioNER\\multibio_model.py:215: UserWarning: torch.nn.utils.clip_grad_norm is now deprecated in favor of torch.nn.utils.clip_grad_norm_.\n  nn.utils.clip_grad_norm(self.ner_model.parameters(), self.args.clip_grad)\n"
     ]
    },
    {
     "name": "stdout",
     "output_type": "stream",
     "text": [
      "\r - Tot it 4 (epoch 0): 100%|██████████| 1/1 [00:06<00:00,  6.58s/it]"
     ]
    },
    {
     "name": "stdout",
     "output_type": "stream",
     "text": [
      "\r                                                                    "
     ]
    },
    {
     "name": "stdout",
     "output_type": "stream",
     "text": [
      "\r"
     ]
    },
    {
     "name": "stdout",
     "output_type": "stream",
     "text": [
      "(loss: 42.8699, epoch: 0, dataset: 0, dev F1 = 0.0089, dev pre = 0.0057, dev rec = 0.0200)"
     ]
    },
    {
     "name": "stdout",
     "output_type": "stream",
     "text": [
      "\n"
     ]
    },
    {
     "name": "stdout",
     "output_type": "stream",
     "text": [
      "epoch: 0\t in 1 take: 8.629549264907837 s"
     ]
    },
    {
     "name": "stdout",
     "output_type": "stream",
     "text": [
      "\n"
     ]
    },
    {
     "data": {
      "image/png": "[encoded data removed]",
      "text/plain": [
       "<Figure size 432x288 with 2 Axes>"
      ]
     },
     "metadata": {},
     "output_type": "display_data"
    },
    {
     "name": "stdout",
     "output_type": "stream",
     "text": [
      "\r - Process:   0%|          | 0/1 [00:00<?, ?it/s]"
     ]
    },
    {
     "name": "stdout",
     "output_type": "stream",
     "text": [
      "\r - Process: 100%|██████████| 1/1 [00:01<00:00,  1.88s/it]"
     ]
    },
    {
     "name": "stdout",
     "output_type": "stream",
     "text": [
      "\r                                                         "
     ]
    },
    {
     "name": "stdout",
     "output_type": "stream",
     "text": [
      "\r"
     ]
    },
    {
     "name": "stdout",
     "output_type": "stream",
     "text": [
      "Test evaluation: f1 = 0.0089, recall = 0.0200, precision = 0.0057 "
     ]
    },
    {
     "name": "stdout",
     "output_type": "stream",
     "text": [
      "\n"
     ]
    },
    {
     "name": "stdout",
     "output_type": "stream",
     "text": [
      "CSCI548 model loading"
     ]
    },
    {
     "name": "stdout",
     "output_type": "stream",
     "text": [
      "\n"
     ]
    },
    {
     "name": "stdout",
     "output_type": "stream",
     "text": [
      "loading dictionary"
     ]
    },
    {
     "name": "stdout",
     "output_type": "stream",
     "text": [
      "\n"
     ]
    },
    {
     "name": "stdout",
     "output_type": "stream",
     "text": [
      "loading model"
     ]
    },
    {
     "name": "stdout",
     "output_type": "stream",
     "text": [
      "\n"
     ]
    },
    {
     "name": "stdout",
     "output_type": "stream",
     "text": [
      "loading corpus"
     ]
    },
    {
     "name": "stdout",
     "output_type": "stream",
     "text": [
      "\n"
     ]
    },
    {
     "name": "stdout",
     "output_type": "stream",
     "text": [
      "annotating the entity type"
     ]
    },
    {
     "name": "stdout",
     "output_type": "stream",
     "text": [
      " "
     ]
    },
    {
     "name": "stdout",
     "output_type": "stream",
     "text": [
      "0"
     ]
    },
    {
     "name": "stdout",
     "output_type": "stream",
     "text": [
      "\n"
     ]
    },
    {
     "name": "stdout",
     "output_type": "stream",
     "text": [
      "\r - Process:   0%|          | 0/1 [00:00<?, ?it/s]"
     ]
    },
    {
     "name": "stdout",
     "output_type": "stream",
     "text": [
      "\r                                                 "
     ]
    },
    {
     "name": "stdout",
     "output_type": "stream",
     "text": [
      "\r"
     ]
    },
    {
     "name": "stdout",
     "output_type": "stream",
     "text": [
      "\r - Process:   0%|          | 0/1 [00:00<?, ?it/s]"
     ]
    },
    {
     "name": "stdout",
     "output_type": "stream",
     "text": [
      "\r                                                 "
     ]
    },
    {
     "name": "stdout",
     "output_type": "stream",
     "text": [
      "\r"
     ]
    },
    {
     "name": "stdout",
     "output_type": "stream",
     "text": [
      "\r - Process:   0%|          | 0/1 [00:00<?, ?it/s]"
     ]
    },
    {
     "name": "stdout",
     "output_type": "stream",
     "text": [
      "\r                                                 "
     ]
    },
    {
     "name": "stdout",
     "output_type": "stream",
     "text": [
      "\r"
     ]
    },
    {
     "name": "stdout",
     "output_type": "stream",
     "text": [
      "\r - Process:   0%|          | 0/1 [00:00<?, ?it/s]"
     ]
    },
    {
     "name": "stdout",
     "output_type": "stream",
     "text": [
      "\r                                                 "
     ]
    },
    {
     "name": "stdout",
     "output_type": "stream",
     "text": [
      "\r"
     ]
    },
    {
     "name": "stdout",
     "output_type": "stream",
     "text": [
      "\r - Process:   0%|          | 0/1 [00:00<?, ?it/s]"
     ]
    },
    {
     "name": "stdout",
     "output_type": "stream",
     "text": [
      "\r                                                 "
     ]
    },
    {
     "name": "stdout",
     "output_type": "stream",
     "text": [
      "\r"
     ]
    },
    {
     "name": "stdout",
     "output_type": "stream",
     "text": [
      "\r - Process:   0%|          | 0/1 [00:00<?, ?it/s]"
     ]
    },
    {
     "name": "stdout",
     "output_type": "stream",
     "text": [
      "\r                                                 "
     ]
    },
    {
     "name": "stdout",
     "output_type": "stream",
     "text": [
      "\r"
     ]
    },
    {
     "name": "stdout",
     "output_type": "stream",
     "text": [
      "\r - Process:   0%|          | 0/1 [00:00<?, ?it/s]"
     ]
    },
    {
     "name": "stdout",
     "output_type": "stream",
     "text": [
      "\r                                                 "
     ]
    },
    {
     "name": "stdout",
     "output_type": "stream",
     "text": [
      "\r"
     ]
    },
    {
     "name": "stdout",
     "output_type": "stream",
     "text": [
      "\r - Process:   0%|          | 0/1 [00:00<?, ?it/s]"
     ]
    },
    {
     "name": "stdout",
     "output_type": "stream",
     "text": [
      "\r                                                 "
     ]
    },
    {
     "name": "stdout",
     "output_type": "stream",
     "text": [
      "\r"
     ]
    },
    {
     "name": "stdout",
     "output_type": "stream",
     "text": [
      "\r - Process:   0%|          | 0/1 [00:00<?, ?it/s]"
     ]
    },
    {
     "name": "stdout",
     "output_type": "stream",
     "text": [
      "\r                                                 "
     ]
    },
    {
     "name": "stdout",
     "output_type": "stream",
     "text": [
      "\r"
     ]
    },
    {
     "name": "stdout",
     "output_type": "stream",
     "text": [
      "Test evaluation: f1 = 0.0089, recall = 0.0200, precision = 0.0057 "
     ]
    },
    {
     "name": "stdout",
     "output_type": "stream",
     "text": [
      "\n"
     ]
    },
    {
     "name": "stdout",
     "output_type": "stream",
     "text": [
      "annotate/output0.txt"
     ]
    },
    {
     "name": "stdout",
     "output_type": "stream",
     "text": [
      "\n"
     ]
    }
   ],
   "source": [
    "if __name__ == \"__main__\":\n",
    "    test_input_path = \"ner_test_input.txt\"\n",
    "    out_path = main(test_input_path)\n",
    "    print(out_path)"
   ]
  },
  {
   "cell_type": "code",
   "execution_count": 5,
   "metadata": {},
   "outputs": [],
   "source": [
    "\n"
   ]
  },
  {
   "cell_type": "code",
   "execution_count": null,
   "metadata": {},
   "outputs": [],
   "source": []
  }
 ],
 "metadata": {
  "kernelspec": {
   "display_name": "Python 2",
   "language": "python",
   "name": "python2"
  },
  "language_info": {
   "codemirror_mode": {
    "name": "ipython",
    "version": 2
   },
   "file_extension": ".py",
   "mimetype": "text/x-python",
   "name": "python",
   "nbconvert_exporter": "python",
   "pygments_lexer": "ipython2",
   "version": "2.7.6"
  }
 },
 "nbformat": 4,
 "nbformat_minor": 0
}
