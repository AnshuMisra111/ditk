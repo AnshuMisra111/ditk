{
 "cells": [
  {
   "cell_type": "markdown",
   "metadata": {},
   "source": [
    "All import statements and variable initializations have been done  "
   ]
  },
  {
   "cell_type": "code",
   "execution_count": 1,
   "metadata": {},
   "outputs": [],
   "source": [
    "from sequence_lableler_final import Sequence_labeler , parse_config\n",
    "import os\n",
    "import sys"
   ]
  },
  {
   "cell_type": "code",
   "execution_count": 2,
   "metadata": {},
   "outputs": [],
   "source": [
    "path = \"conf/fcepublic.conf\"\n",
    "temp_model_path = \"model/model\"\n",
    "config = parse_config(\"config\", path)\n",
    "file_paths = { \"train\": config[\"path_train\"] , \"dev\" : config[\"path_dev\"], \"test\" : config[\"path_test\"]}"
   ]
  },
  {
   "cell_type": "code",
   "execution_count": 3,
   "metadata": {},
   "outputs": [],
   "source": [
    "labeler = Sequence_labeler(config)"
   ]
  },
  {
   "cell_type": "code",
   "execution_count": 4,
   "metadata": {},
   "outputs": [
    {
     "name": "stdout",
     "output_type": "stream",
     "text": [
      "inside read_dataset\n",
      "train 91\n",
      "dev 30\n",
      "test 141\n"
     ]
    }
   ],
   "source": [
    "dataset = labeler.read_dataset(file_paths,\"ConLL\")"
   ]
  },
  {
   "cell_type": "markdown",
   "metadata": {},
   "source": [
    "read and load the datasets for train , test and dev"
   ]
  },
  {
   "cell_type": "code",
   "execution_count": 5,
   "metadata": {},
   "outputs": [],
   "source": [
    "dataset_formatted = dict()\n",
    "dataset_formatted[\"train\"] = labeler.data_formatted(dataset[\"train\"])\n",
    "dataset_formatted[\"dev\"] = labeler.data_formatted(dataset[\"dev\"])\n",
    "dataset_formatted[\"test\"] = labeler.data_formatted(dataset[\"test\"])\n",
    "data_train, data_dev, data_test = dataset_formatted[\"train\"],dataset_formatted[\"dev\"],dataset_formatted[\"test\"]"
   ]
  },
  {
   "cell_type": "markdown",
   "metadata": {},
   "source": [
    "building the vocabulary "
   ]
  },
  {
   "cell_type": "code",
   "execution_count": 6,
   "metadata": {},
   "outputs": [
    {
     "name": "stdout",
     "output_type": "stream",
     "text": [
      "\n",
      "\n",
      " in build vocab  \n",
      "Counter({'O': 187, 'I-WORK_OF_ART': 17, 'B-PERSON': 9, 'B-WORK_OF_ART': 6, 'I-FAC': 3, 'I-PERSON': 3, 'B-ORDINAL': 2, 'TRUE_LABEL': 1, 'B-GPE': 1, 'B-CARDINAL': 1, 'B-FAC': 1})  label_counter\n",
      "n_words: 88\n",
      "n_chars: 49\n",
      "n_labels: 11\n",
      "n_singletons: 17\n"
     ]
    },
    {
     "name": "stderr",
     "output_type": "stream",
     "text": [
      "/Users/aishwaryaadiga/anaconda2/envs/python3/lib/python3.5/site-packages/tensorflow/python/ops/gradients_impl.py:110: UserWarning: Converting sparse IndexedSlices to a dense Tensor of unknown shape. This may consume a large amount of memory.\n",
      "  \"Converting sparse IndexedSlices to a dense Tensor of unknown shape. \"\n"
     ]
    }
   ],
   "source": [
    "labeler.build_vocabs(data_train, data_dev, data_test, config[\"preload_vectors\"])\n",
    "labeler.construct_network()\n",
    "labeler.initialize_session()"
   ]
  },
  {
   "cell_type": "markdown",
   "metadata": {},
   "source": [
    "loading word embeddings and models preloaded"
   ]
  },
  {
   "cell_type": "code",
   "execution_count": 7,
   "metadata": {},
   "outputs": [
    {
     "name": "stdout",
     "output_type": "stream",
     "text": [
      "n_preloaded_embeddings: 85\n"
     ]
    }
   ],
   "source": [
    "if config[\"preload_vectors\"] != None:\n",
    "    labeler.preload_word_embeddings(config[\"preload_vectors\"])\n",
    "if config[\"load\"] != None and len(config[\"load\"])  > 0 and os.path.exists(config[\"load\"]):\n",
    "    try:\n",
    "        labeler.load_model(labeler.session, temp_model_path)\n",
    "    except:\n",
    "        print(\"error in loading the model\")"
   ]
  },
  {
   "cell_type": "markdown",
   "metadata": {},
   "source": [
    "Training the model "
   ]
  },
  {
   "cell_type": "code",
   "execution_count": 8,
   "metadata": {},
   "outputs": [
    {
     "name": "stdout",
     "output_type": "stream",
     "text": [
      "EPOCH: 0\n",
      "current_learningrate: 1.0\n",
      "precision:  0.7727272727272727  recall:  0.9444444444444444  F1 :  0.85\n",
      "saving  model/model\n",
      "inside save\n",
      "model_pickle.p\n",
      "best_epoch: 0\n",
      "EPOCH: 1\n",
      "current_learningrate: 1.0\n",
      "precision:  0.75  recall:  1.0  F1 :  0.8571428571428571\n",
      "saving  model/model\n",
      "inside save\n",
      "model_pickle.p\n",
      "best_epoch: 1\n",
      "EPOCH: 2\n",
      "current_learningrate: 1.0\n",
      "precision:  0.75  recall:  1.0  F1 :  0.8571428571428571\n",
      "best_epoch: 1\n",
      "EPOCH: 3\n",
      "current_learningrate: 1.0\n",
      "precision:  0.75  recall:  1.0  F1 :  0.8571428571428571\n",
      "best_epoch: 1\n"
     ]
    }
   ],
   "source": [
    "labeler.train(data_train,data_dev,temp_model_path)"
   ]
  },
  {
   "cell_type": "markdown",
   "metadata": {},
   "source": [
    "predictions "
   ]
  },
  {
   "cell_type": "code",
   "execution_count": 10,
   "metadata": {},
   "outputs": [],
   "source": [
    "predictions_formatted = labeler.predict(data_test)"
   ]
  },
  {
   "cell_type": "markdown",
   "metadata": {},
   "source": [
    "predictions are printed in the format [start index, span, token, token type] - \n",
    "The first two indices are None in this case for all predictions \n"
   ]
  },
  {
   "cell_type": "code",
   "execution_count": 13,
   "metadata": {},
   "outputs": [
    {
     "name": "stdout",
     "output_type": "stream",
     "text": [
      "[[None, None, 'but', 'O'], [None, None, 'I', 'O'], [None, None, 'am', 'O'], [None, None, 'not', 'O'], [None, None, 'selling', 'O'], [None, None, 'medicine', 'O'], [None, None, 'or', 'O'], [None, None, 'pharmaceuticals', 'O'], [None, None, '/.', 'O']]\n"
     ]
    }
   ],
   "source": [
    "print(predictions_formatted[2])"
   ]
  },
  {
   "cell_type": "code",
   "execution_count": 14,
   "metadata": {},
   "outputs": [],
   "source": [
    "cost = 0\n",
    "predicted_labels = []\n",
    "groundTruths = []\n",
    "\n",
    "for i in range(len(predictions_formatted)):\n",
    "    predicted_labels_sent = []\n",
    "    groundTruths_sent = []\n",
    "    for j in range(len(predictions_formatted[i])):\n",
    "        predicted_labels_sent.append(labeler.label2id[predictions_formatted[i][j][-1]])\n",
    "\n",
    "    predicted_labels.append(predicted_labels_sent)\n",
    "\n",
    "\n",
    "for i in data_test:\n",
    "    groundTruths_sent = []\n",
    "    for item in i : \n",
    "        groundTruths_sent.append(item)\n",
    "    groundTruths.append(groundTruths_sent)"
   ]
  },
  {
   "cell_type": "code",
   "execution_count": 15,
   "metadata": {},
   "outputs": [],
   "source": [
    "with open('result.txt','w',encoding = 'utf-8') as f:\n",
    "    for i in range(len(data_test)):\n",
    "        for j in range(len(data_test[i])):\n",
    "\n",
    "\n",
    "            f.write(str(data_test[i][j][0])+\" \"+str(data_test[i][j][3])+ \" \" +  str(labeler.id2label[predicted_labels[i][j]]))\n",
    "            f.write(\"\\n\")\n",
    "\n",
    "        f.write(\"\\n\")"
   ]
  },
  {
   "cell_type": "code",
   "execution_count": 16,
   "metadata": {},
   "outputs": [],
   "source": [
    "precision,recall,f1 = labeler.evaluate(predicted_labels,groundTruths, cost,\"test\")"
   ]
  },
  {
   "cell_type": "markdown",
   "metadata": {},
   "source": [
    "This result is on a  small sample dataset, actual numbers are reported in the presentation "
   ]
  },
  {
   "cell_type": "code",
   "execution_count": 17,
   "metadata": {},
   "outputs": [
    {
     "name": "stdout",
     "output_type": "stream",
     "text": [
      "0.765625 1.0 0.8672566371681416\n"
     ]
    }
   ],
   "source": [
    "print(precision,recall,f1)"
   ]
  }
 ],
 "metadata": {
  "kernelspec": {
   "display_name": "Python 2",
   "language": "python",
   "name": "python2"
  },
  "language_info": {
   "codemirror_mode": {
    "name": "ipython",
    "version": 2
   },
   "file_extension": ".py",
   "mimetype": "text/x-python",
   "name": "python",
   "nbconvert_exporter": "python",
   "pygments_lexer": "ipython2",
   "version": "2.7.15"
  }
 },
 "nbformat": 4,
 "nbformat_minor": 2
}
