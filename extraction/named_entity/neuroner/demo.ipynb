{
 "cells": [
  {
   "cell_type": "markdown",
   "metadata": {},
   "source": [
    "# Named Entity Recognition"
   ]
  },
  {
   "cell_type": "markdown",
   "metadata": {},
   "source": [
    "### Approach"
   ]
  },
  {
   "cell_type": "markdown",
   "metadata": {},
   "source": [
    "The neuroner class implements named entity reognition using bi-directional LSTM's. The paper generates character enhances token embeddings as follows-\n",
    "\n",
    "- Character embeddings are passed through BLSTM\n",
    "- The output of BLSTM is combined with word embeddings to get character enhanced token embeddings\n",
    "\n",
    "The character enhanced token embeddings are passed through another BLSTM to generate predictions for each token"
   ]
  },
  {
   "cell_type": "markdown",
   "metadata": {},
   "source": [
    "Let's import the `neuroner` package"
   ]
  },
  {
   "cell_type": "code",
   "execution_count": 1,
   "metadata": {
    "collapsed": true
   },
   "outputs": [],
   "source": [
    "from neuroner import neuroner"
   ]
  },
  {
   "cell_type": "markdown",
   "metadata": {},
   "source": [
    "### Instantiate object of class"
   ]
  },
  {
   "cell_type": "code",
   "execution_count": 2,
   "metadata": {},
   "outputs": [
    {
     "name": "stdout",
     "output_type": "stream",
     "text": [
      "{'train_model': 1, 'use_pretrained_model': 0, 'pretrained_model_folder': './trained_models/conll_2003_en/', 'dataset_text_folder': './data/conll2003/en', 'main_evaluation_mode': 'bio', 'output_folder': './output', 'use_character_lstm': 1, 'character_embedding_dimension': 25, 'character_lstm_hidden_state_dimension': 25, 'token_pretrained_embedding_filepath': './data/word_vectors/glove.6B.100d.txt', 'token_embedding_dimension': 100, 'token_lstm_hidden_state_dimension': 1, 'use_crf': 1, 'patience': 10, 'maximum_number_of_epochs': 1, 'optimizer': 'sgd', 'learning_rate': 0.005, 'gradient_clipping_value': 5.0, 'dropout_rate': 0.5, 'number_of_cpu_threads': 8, 'number_of_gpus': 0, 'experiment_name': 'test', 'output_scores': 0, 'tagging_format': 'bio', 'tokenizer': 'spacy', 'spacylanguage': 'en', 'remap_unknown_tokens_to_unk': 1, 'load_only_pretrained_token_embeddings': 0, 'load_all_pretrained_token_embeddings': 'False', 'check_for_lowercase': 1, 'check_for_digits_replaced_with_zeros': 1, 'freeze_token_embeddings': 0, 'debug': 0, 'verbose': 0, 'plot_format': 'pdf', 'reload_character_embeddings': 1, 'reload_character_lstm': 1, 'reload_token_embeddings': 1, 'reload_token_lstm': 1, 'reload_feedforward': 1, 'reload_crf': 1, 'parameters_filepath': './parameters.ini'}\n"
     ]
    }
   ],
   "source": [
    "ner = neuroner(parameters_filepath='./parameters.ini')"
   ]
  },
  {
   "cell_type": "markdown",
   "metadata": {},
   "source": [
    "### Loading and Preprocessing Dataset"
   ]
  },
  {
   "cell_type": "markdown",
   "metadata": {},
   "source": [
    "Give the path for train, dev and test files"
   ]
  },
  {
   "cell_type": "code",
   "execution_count": 3,
   "metadata": {
    "collapsed": true
   },
   "outputs": [],
   "source": [
    "inputFiles = {'train': '/Users/lakshya/Desktop/CSCI-548/Named-Entity-Recognition-with-Bidirectional-LSTM-CNNs-master/conll/train.txt',\n",
    "              'dev': '/Users/lakshya/Desktop/CSCI-548/Named-Entity-Recognition-with-Bidirectional-LSTM-CNNs-master/conll/valid.txt',\n",
    "              'test': '/Users/lakshya/Desktop/CSCI-548/Named-Entity-Recognition-with-Bidirectional-LSTM-CNNs-master/conll/test.txt'}"
   ]
  },
  {
   "cell_type": "markdown",
   "metadata": {},
   "source": [
    "Read and load the entire dataset"
   ]
  },
  {
   "cell_type": "code",
   "execution_count": 4,
   "metadata": {
    "collapsed": true,
    "scrolled": true
   },
   "outputs": [],
   "source": [
    "data = ner.read_dataset(inputFiles)"
   ]
  },
  {
   "cell_type": "markdown",
   "metadata": {},
   "source": [
    "### Preview Data\n",
    "\n",
    "Let's look at some data from train, dev and test"
   ]
  },
  {
   "cell_type": "code",
   "execution_count": 5,
   "metadata": {},
   "outputs": [
    {
     "data": {
      "text/plain": [
       "[['-DOCSTART-', '-X-', '-X-', 'O'],\n",
       " [],\n",
       " ['EU', 'NNP', 'B-NP', 'B-ORG'],\n",
       " ['rejects', 'VBZ', 'B-VP', 'O'],\n",
       " ['German', 'JJ', 'B-NP', 'B-MISC'],\n",
       " ['call', 'NN', 'I-NP', 'O'],\n",
       " ['to', 'TO', 'B-VP', 'O'],\n",
       " ['boycott', 'VB', 'I-VP', 'O'],\n",
       " ['British', 'JJ', 'B-NP', 'B-MISC'],\n",
       " ['lamb', 'NN', 'I-NP', 'O'],\n",
       " ['.', '.', 'O', 'O'],\n",
       " []]"
      ]
     },
     "execution_count": 5,
     "metadata": {},
     "output_type": "execute_result"
    }
   ],
   "source": [
    "data['train'][0:12]"
   ]
  },
  {
   "cell_type": "code",
   "execution_count": 6,
   "metadata": {},
   "outputs": [
    {
     "data": {
      "text/plain": [
       "[['-DOCSTART-', '-X-', '-X-', 'O'],\n",
       " [],\n",
       " ['CRICKET', 'NNP', 'B-NP', 'O'],\n",
       " ['-', ':', 'O', 'O'],\n",
       " ['LEICESTERSHIRE', 'NNP', 'B-NP', 'B-ORG'],\n",
       " ['TAKE', 'NNP', 'I-NP', 'O'],\n",
       " ['OVER', 'IN', 'B-PP', 'O'],\n",
       " ['AT', 'NNP', 'B-NP', 'O'],\n",
       " ['TOP', 'NNP', 'I-NP', 'O'],\n",
       " ['AFTER', 'NNP', 'I-NP', 'O'],\n",
       " ['INNINGS', 'NNP', 'I-NP', 'O'],\n",
       " ['VICTORY', 'NN', 'I-NP', 'O'],\n",
       " ['.', '.', 'O', 'O'],\n",
       " []]"
      ]
     },
     "execution_count": 6,
     "metadata": {},
     "output_type": "execute_result"
    }
   ],
   "source": [
    "data['dev'][0:14]"
   ]
  },
  {
   "cell_type": "code",
   "execution_count": 7,
   "metadata": {},
   "outputs": [
    {
     "data": {
      "text/plain": [
       "[['-DOCSTART-', '-X-', '-X-', 'O'],\n",
       " [],\n",
       " ['SOCCER', 'NN', 'B-NP', 'O'],\n",
       " ['-', ':', 'O', 'O'],\n",
       " ['JAPAN', 'NNP', 'B-NP', 'B-LOC'],\n",
       " ['GET', 'VB', 'B-VP', 'O'],\n",
       " ['LUCKY', 'NNP', 'B-NP', 'O'],\n",
       " ['WIN', 'NNP', 'I-NP', 'O'],\n",
       " [',', ',', 'O', 'O'],\n",
       " ['CHINA', 'NNP', 'B-NP', 'B-PER'],\n",
       " ['IN', 'IN', 'B-PP', 'O'],\n",
       " ['SURPRISE', 'DT', 'B-NP', 'O'],\n",
       " ['DEFEAT', 'NN', 'I-NP', 'O'],\n",
       " ['.', '.', 'O', 'O'],\n",
       " []]"
      ]
     },
     "execution_count": 7,
     "metadata": {},
     "output_type": "execute_result"
    }
   ],
   "source": [
    "data['test'][0:15]"
   ]
  },
  {
   "cell_type": "markdown",
   "metadata": {},
   "source": [
    "### Train the model"
   ]
  },
  {
   "cell_type": "code",
   "execution_count": 8,
   "metadata": {},
   "outputs": [
    {
     "name": "stdout",
     "output_type": "stream",
     "text": [
      "Checking the validity of BRAT-formatted train set... Done.\n",
      "Checking compatibility between CONLL and BRAT for train_compatible_with_brat set ... Done.\n",
      "Checking the validity of BRAT-formatted valid set... Done.\n",
      "Checking compatibility between CONLL and BRAT for valid_compatible_with_brat set ... Done.\n",
      "Checking the validity of BRAT-formatted test set... Done.\n",
      "Checking compatibility between CONLL and BRAT for test_compatible_with_brat set ... Done.\n",
      "Preprocessing dataset... done (32.40 seconds)\n",
      "WARNING:tensorflow:From /usr/local/lib/python3.7/site-packages/tensorflow/python/framework/op_def_library.py:263: colocate_with (from tensorflow.python.framework.ops) is deprecated and will be removed in a future version.\n",
      "Instructions for updating:\n",
      "Colocations handled automatically by placer.\n",
      "WARNING:tensorflow:From /Users/lakshya/Desktop/CSCI-548/ditk/extraction/named_entity/neuroner/entity_lstm.py:46: bidirectional_dynamic_rnn (from tensorflow.python.ops.rnn) is deprecated and will be removed in a future version.\n",
      "Instructions for updating:\n",
      "Please use `keras.layers.Bidirectional(keras.layers.RNN(cell))`, which is equivalent to this API\n",
      "WARNING:tensorflow:From /usr/local/lib/python3.7/site-packages/tensorflow/python/ops/rnn.py:443: dynamic_rnn (from tensorflow.python.ops.rnn) is deprecated and will be removed in a future version.\n",
      "Instructions for updating:\n",
      "Please use `keras.layers.RNN(cell)`, which is equivalent to this API\n",
      "WARNING:tensorflow:From /usr/local/lib/python3.7/site-packages/tensorflow/python/ops/rnn.py:626: to_int32 (from tensorflow.python.ops.math_ops) is deprecated and will be removed in a future version.\n",
      "Instructions for updating:\n",
      "Use tf.cast instead.\n",
      "WARNING:tensorflow:From /Users/lakshya/Desktop/CSCI-548/ditk/extraction/named_entity/neuroner/entity_lstm.py:146: calling dropout (from tensorflow.python.ops.nn_ops) with keep_prob is deprecated and will be removed in a future version.\n",
      "Instructions for updating:\n",
      "Please use `rate` instead of `keep_prob`. Rate should be set to `rate = 1 - keep_prob`.\n"
     ]
    },
    {
     "name": "stderr",
     "output_type": "stream",
     "text": [
      "/usr/local/lib/python3.7/site-packages/tensorflow/python/ops/gradients_impl.py:110: UserWarning: Converting sparse IndexedSlices to a dense Tensor of unknown shape. This may consume a large amount of memory.\n",
      "  \"Converting sparse IndexedSlices to a dense Tensor of unknown shape. \"\n"
     ]
    },
    {
     "name": "stdout",
     "output_type": "stream",
     "text": [
      "Load token embeddings... done (1.01 seconds)\n",
      "number_of_token_original_case_found: 400000\n",
      "number_of_token_lowercase_found: 8770\n",
      "number_of_token_digits_replaced_with_zeros_found: 68\n",
      "number_of_token_lowercase_and_digits_replaced_with_zeros_found: 5\n",
      "number_of_loaded_word_vectors: 408843\n",
      "dataset.vocabulary_size: 409977\n",
      "\n",
      "Starting epoch 0\n",
      "Training completed in 0.00 seconds\n",
      "Evaluate model on the train set\n",
      "              precision    recall  f1-score   support\n",
      "\n",
      "       B-LOC     0.0000    0.0000    0.0000      3143\n",
      "       I-LOC     0.0032    0.0047    0.0038       427\n",
      "      B-MISC     0.0390    0.0061    0.0106      1466\n",
      "      I-MISC     0.0000    0.0000    0.0000       532\n",
      "       B-ORG     0.0262    0.3036    0.0482      2777\n",
      "       I-ORG     0.2500    0.0007    0.0013      1518\n",
      "       B-PER     0.0000    0.0000    0.0000      3018\n",
      "       I-PER     0.0201    0.1989    0.0365      2162\n",
      "\n",
      "   micro avg     0.0236    0.0854    0.0370     15043\n",
      "   macro avg     0.0423    0.0642    0.0126     15043\n",
      "weighted avg     0.0368    0.0854    0.0154     15043\n",
      "\n",
      "Evaluate model on the valid set\n",
      "              precision    recall  f1-score   support\n",
      "\n",
      "       B-LOC     0.0000    0.0000    0.0000      1837\n",
      "       I-LOC     0.0024    0.0039    0.0030       257\n",
      "      B-MISC     0.0530    0.0076    0.0133       922\n",
      "      I-MISC     0.0000    0.0000    0.0000       346\n",
      "       B-ORG     0.0213    0.2796    0.0396      1341\n",
      "       I-ORG     0.0000    0.0000    0.0000       751\n",
      "       B-PER     0.0000    0.0000    0.0000      1842\n",
      "       I-PER     0.0232    0.2647    0.0427      1307\n",
      "\n",
      "   micro avg     0.0220    0.0847    0.0350      8603\n",
      "   macro avg     0.0125    0.0695    0.0123      8603\n",
      "weighted avg     0.0126    0.0847    0.0142      8603\n",
      "\n",
      "Evaluate model on the test set\n"
     ]
    },
    {
     "name": "stderr",
     "output_type": "stream",
     "text": [
      "/usr/local/lib/python3.7/site-packages/sklearn/metrics/classification.py:1143: UndefinedMetricWarning: Precision and F-score are ill-defined and being set to 0.0 in labels with no predicted samples.\n",
      "  'precision', 'predicted', average, warn_for)\n"
     ]
    },
    {
     "name": "stdout",
     "output_type": "stream",
     "text": [
      "              precision    recall  f1-score   support\n",
      "\n",
      "       B-LOC     0.0000    0.0000    0.0000      1668\n",
      "       I-LOC     0.0134    0.0195    0.0158       257\n",
      "      B-MISC     0.0374    0.0100    0.0157       702\n",
      "      I-MISC     0.0000    0.0000    0.0000       216\n",
      "       B-ORG     0.0234    0.2414    0.0426      1661\n",
      "       I-ORG     1.0000    0.0024    0.0048       835\n",
      "       B-PER     0.0000    0.0000    0.0000      1617\n",
      "       I-PER     0.0235    0.2569    0.0431      1156\n",
      "\n",
      "   micro avg     0.0235    0.0878    0.0370      8112\n",
      "   macro avg     0.1372    0.0663    0.0153      8112\n",
      "weighted avg     0.1147    0.0878    0.0172      8112\n",
      "\n",
      "\n",
      "Starting epoch 1\n",
      "Training completed in 1093.55 seconds\n",
      "Evaluate model on the train set\n",
      "              precision    recall  f1-score   support\n",
      "\n",
      "       B-LOC     0.6245    0.5514    0.5857      3143\n",
      "       I-LOC     0.0000    0.0000    0.0000       427\n",
      "      B-MISC     0.0000    0.0000    0.0000      1466\n",
      "      I-MISC     0.0000    0.0000    0.0000       532\n",
      "       B-ORG     0.4818    0.3194    0.3841      2777\n",
      "       I-ORG     0.3710    0.2398    0.2913      1518\n",
      "       B-PER     0.5803    0.4384    0.4994      3018\n",
      "       I-PER     0.5838    0.6156    0.5993      2162\n",
      "\n",
      "   micro avg     0.5551    0.3748    0.4475     15043\n",
      "   macro avg     0.3302    0.2706    0.2950     15043\n",
      "weighted avg     0.4572    0.3748    0.4090     15043\n",
      "\n",
      "Evaluate model on the valid set\n",
      "              precision    recall  f1-score   support\n",
      "\n",
      "       B-LOC     0.6136    0.5792    0.5959      1837\n",
      "       I-LOC     0.0000    0.0000    0.0000       257\n",
      "      B-MISC     0.0000    0.0000    0.0000       922\n",
      "      I-MISC     0.0000    0.0000    0.0000       346\n",
      "       B-ORG     0.3903    0.2707    0.3197      1341\n",
      "       I-ORG     0.1655    0.0905    0.1170       751\n",
      "       B-PER     0.6684    0.4848    0.5620      1842\n",
      "       I-PER     0.6774    0.6924    0.6848      1307\n",
      "\n",
      "   micro avg     0.5730    0.3828    0.4590      8603\n",
      "   macro avg     0.3144    0.2647    0.2849      8603\n",
      "weighted avg     0.4523    0.3828    0.4117      8603\n",
      "\n",
      "Evaluate model on the test set\n",
      "              precision    recall  f1-score   support\n",
      "\n",
      "       B-LOC     0.5862    0.5486    0.5667      1668\n",
      "       I-LOC     0.0000    0.0000    0.0000       257\n",
      "      B-MISC     0.0000    0.0000    0.0000       702\n",
      "      I-MISC     0.0000    0.0000    0.0000       216\n",
      "       B-ORG     0.4957    0.3444    0.4064      1661\n",
      "       I-ORG     0.3590    0.2623    0.3031       835\n",
      "       B-PER     0.6443    0.4459    0.5270      1617\n",
      "       I-PER     0.6550    0.6341    0.6444      1156\n",
      "\n",
      "   micro avg     0.5680    0.3895    0.4622      8112\n",
      "   macro avg     0.3425    0.2794    0.3060      8112\n",
      "weighted avg     0.4808    0.3895    0.4278      8112\n",
      "\n",
      "WARNING:tensorflow:From /usr/local/lib/python3.7/site-packages/tensorflow/python/training/saver.py:966: remove_checkpoint (from tensorflow.python.training.checkpoint_management) is deprecated and will be removed in a future version.\n",
      "Instructions for updating:\n",
      "Use standard file APIs to delete files with this prefix.\n",
      "Finishing the experiment\n",
      "Trimming dataset.pickle..\n",
      "\tcharacter_indices\n",
      "\tcharacter_indices_padded\n",
      "\tcharacters\n",
      "\tlabel_indices\n",
      "\tlabel_vector_indices\n",
      "\tlabels\n",
      "\ttoken_indices\n",
      "\ttoken_lengths\n",
      "\ttokens\n",
      "\tinfrequent_token_indices\n",
      "\ttokens_mapped_to_unk\n"
     ]
    }
   ],
   "source": [
    "ner.train(data)"
   ]
  },
  {
   "cell_type": "markdown",
   "metadata": {},
   "source": [
    "### Model Evaluation"
   ]
  },
  {
   "cell_type": "markdown",
   "metadata": {},
   "source": [
    "Extract the ground truth from test data"
   ]
  },
  {
   "cell_type": "code",
   "execution_count": 9,
   "metadata": {
    "collapsed": true
   },
   "outputs": [],
   "source": [
    "ground = ner.convert_ground_truth(data)"
   ]
  },
  {
   "cell_type": "markdown",
   "metadata": {},
   "source": [
    "Make predictions on test data"
   ]
  },
  {
   "cell_type": "code",
   "execution_count": 10,
   "metadata": {},
   "outputs": [
    {
     "name": "stdout",
     "output_type": "stream",
     "text": [
      "WARNING:tensorflow:From /usr/local/lib/python3.7/site-packages/tensorflow/python/training/saver.py:1266: checkpoint_exists (from tensorflow.python.training.checkpoint_management) is deprecated and will be removed in a future version.\n",
      "Instructions for updating:\n",
      "Use standard file APIs to check for files with this prefix.\n",
      "INFO:tensorflow:Restoring parameters from ./output/conll_2019-04-27_10-46-23-543390/output/model.ckpt\n"
     ]
    }
   ],
   "source": [
    "predictions = ner.predict(data)"
   ]
  },
  {
   "cell_type": "markdown",
   "metadata": {},
   "source": [
    "### Results"
   ]
  },
  {
   "cell_type": "markdown",
   "metadata": {},
   "source": [
    "Calculate precision, recall and f-1 score"
   ]
  },
  {
   "cell_type": "code",
   "execution_count": 11,
   "metadata": {},
   "outputs": [
    {
     "name": "stdout",
     "output_type": "stream",
     "text": [
      "              precision    recall  f1-score   support\n",
      "\n",
      "       B-LOC     0.5862    0.5486    0.5667      1668\n",
      "       I-LOC     0.0000    0.0000    0.0000       257\n",
      "      B-MISC     0.0000    0.0000    0.0000       702\n",
      "      I-MISC     0.0000    0.0000    0.0000       216\n",
      "       B-ORG     0.4957    0.3444    0.4064      1661\n",
      "       I-ORG     0.3590    0.2623    0.3031       835\n",
      "       B-PER     0.6443    0.4459    0.5270      1617\n",
      "       I-PER     0.6550    0.6341    0.6444      1156\n",
      "\n",
      "   micro avg     0.5680    0.3895    0.4622      8112\n",
      "   macro avg     0.3425    0.2794    0.3060      8112\n",
      "weighted avg     0.4808    0.3895    0.4278      8112\n",
      "\n",
      "Precision: 0.5680388279705195, Recall: 0.3895463510848126, F1: 0.4621572212065813\n"
     ]
    }
   ],
   "source": [
    "P,R,F1 = ner.evaluate(predictions, ground)\n",
    "\n",
    "print('Precision: %s, Recall: %s, F1: %s'%(P,R,F1))"
   ]
  }
 ],
 "metadata": {
  "anaconda-cloud": {},
  "kernelspec": {
   "display_name": "Python 3",
   "language": "python",
   "name": "python3"
  },
  "language_info": {
   "codemirror_mode": {
    "name": "ipython",
    "version": 3
   },
   "file_extension": ".py",
   "mimetype": "text/x-python",
   "name": "python",
   "nbconvert_exporter": "python",
   "pygments_lexer": "ipython3",
   "version": "3.7.2"
  }
 },
 "nbformat": 4,
 "nbformat_minor": 1
}
