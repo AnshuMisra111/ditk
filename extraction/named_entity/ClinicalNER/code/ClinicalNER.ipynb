{
 "cells": [
  {
   "cell_type": "markdown",
   "metadata": {},
   "source": [
    "# CliNER 2.0: Accessible and Accurate Clinical Concept Extraction"
   ]
  },
  {
   "cell_type": "code",
   "execution_count": 1,
   "metadata": {
    "scrolled": false
   },
   "outputs": [],
   "source": [
    "from ClinicalNER import clinicalNER\n",
    "NER = clinicalNER()"
   ]
  },
  {
   "cell_type": "markdown",
   "metadata": {},
   "source": [
    "## Read train and test dataset"
   ]
  },
  {
   "cell_type": "code",
   "execution_count": 2,
   "metadata": {
    "scrolled": false
   },
   "outputs": [
    {
     "name": "stdout",
     "output_type": "stream",
     "text": [
      "Successfully read data/origin/CoNLL.train.\n"
     ]
    }
   ],
   "source": [
    "train_txt_path = \"data/converted/CoNLL_train.txt\"\n",
    "train_con_path = \"data/converted/CoNLL_train.con\"\n",
    "NER.read_dataset(\"data/origin/CoNLL.train\", train_txt_path, train_con_path)"
   ]
  },
  {
   "cell_type": "code",
   "execution_count": 3,
   "metadata": {},
   "outputs": [
    {
     "name": "stdout",
     "output_type": "stream",
     "text": [
      "Successfully read data/origin/CoNLL.test.\n"
     ]
    }
   ],
   "source": [
    "test_txt_path = \"data/converted/CoNLL_test.txt\"\n",
    "test_con_path = \"data/converted/CoNLL_test.con\"\n",
    "NER.read_dataset(\"data/origin/CoNLL.test\", test_txt_path, test_con_path)"
   ]
  },
  {
   "cell_type": "markdown",
   "metadata": {},
   "source": [
    "## Train"
   ]
  },
  {
   "cell_type": "code",
   "execution_count": null,
   "metadata": {
    "scrolled": true
   },
   "outputs": [
    {
     "name": "stdout",
     "output_type": "stream",
     "text": [
      "NO DEV\n",
      "\tCreating 90/10 train/dev split\n",
      "\tvectorizing words all\n",
      "\ttraining classifiers all\n"
     ]
    }
   ],
   "source": [
    "model_path = \"models/CoNLL.model\"\n",
    "NER.train(train_txt_path, train_con_path, model_path)"
   ]
  },
  {
   "cell_type": "markdown",
   "metadata": {},
   "source": [
    "## Predict"
   ]
  },
  {
   "cell_type": "code",
   "execution_count": null,
   "metadata": {
    "scrolled": true
   },
   "outputs": [],
   "source": [
    "prediction_dir = \"data/test_predictions/\"\n",
    "test_txt_path = \"data/converted/CoNLL_test.txt\"\n",
    "model_path = \"models/CoNLL.model\"\n",
    "prediction_path = NER.predict(model_path, test_txt_path, prediction_dir)"
   ]
  },
  {
   "cell_type": "markdown",
   "metadata": {},
   "source": [
    "## Evaluate"
   ]
  },
  {
   "cell_type": "code",
   "execution_count": null,
   "metadata": {},
   "outputs": [],
   "source": [
    "NER.evaluate(prediction_path, test_con_path)"
   ]
  },
  {
   "cell_type": "markdown",
   "metadata": {},
   "source": [
    "## Write the predictions to the output file"
   ]
  },
  {
   "cell_type": "code",
   "execution_count": null,
   "metadata": {},
   "outputs": [],
   "source": [
    "output_path = \"data/output/CoNLL_test.output\"\n",
    "NER.output(test_txt_path, test_con_path, prediction_path, output_path)"
   ]
  }
 ],
 "metadata": {
  "kernelspec": {
   "display_name": "Python 3",
   "language": "python",
   "name": "python3"
  },
  "language_info": {
   "codemirror_mode": {
    "name": "ipython",
    "version": 3
   },
   "file_extension": ".py",
   "mimetype": "text/x-python",
   "name": "python",
   "nbconvert_exporter": "python",
   "pygments_lexer": "ipython3",
   "version": "3.7.3"
  }
 },
 "nbformat": 4,
 "nbformat_minor": 2
}
