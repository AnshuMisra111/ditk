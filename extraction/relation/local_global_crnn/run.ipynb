{
 "cells": [
  {
   "cell_type": "code",
   "execution_count": 1,
   "metadata": {},
   "outputs": [
    {
     "name": "stdout",
     "output_type": "stream",
     "text": [
      "============================== __INIT__ ==============================\n",
      "------------------------------ Configuration ------------------------------\n",
      "ALLOW_SOFT_PLACEMENT = True\n",
      "BATCH_SIZE = 64\n",
      "CHECKPOINT_EVERY = 100\n",
      "DISPLAY_EVERY = 10\n",
      "DROPOUT_KEEP_PROB = 0.5\n",
      "EVALUATE_EVERY = 100\n",
      "F1 = 2\n",
      "F2 = 5\n",
      "L2_REG_LAMBDA = 3.0\n",
      "LAYERS = 100\n",
      "LEARNING_RATE = 0.001\n",
      "LOG_DEVICE_PLACEMENT = False\n",
      "MAX_SENTENCE_LENGTH = 200\n",
      "N_CHANNELS = 100\n",
      "NUM_CHECKPOINTS = 2\n",
      "NUM_EPOCHS = 1\n",
      "NUM_RELS = 50\n",
      "POOLING_TYPE = max\n",
      "TEST_SAMPLE_PERCENTAGE = 0.1\n",
      "TEXT_EMBEDDING_DIM = 300\n",
      "TRAIN_TEST_DIR = /home/ashgu/Desktop/548ProjectFinal/ditk/extraction/relation/local_global_crnn/Data/Current_Dataset\n",
      "USE_PRE_TRAIN_EMBEDDING = True\n",
      "WORD2VEC = /home/ashgu/Desktop/548ProjectFinal/ditk/extraction/relation/local_global_crnn/Data/GoogleNews-vectors-negative300.bin\n",
      "\n",
      "------------------------------ Data/Output ------------------------------\n",
      "Input Dataset Path: /home/ashgu/Desktop/548ProjectFinal/ditk/extraction/relation/local_global_crnn/Data/SemEval/SemEval.txt\n",
      "Dataset Folder: /home/ashgu/Desktop/548ProjectFinal/ditk/extraction/relation/local_global_crnn/Data/Current_Dataset\n",
      "----------------------------------------------------------------------\n"
     ]
    }
   ],
   "source": [
    "# This notebook aims to guide you through how to use the Method\n",
    "# Make sure you acquire the dataset first.(Guidance in README)\n",
    "\n",
    "import model\n",
    "import os\n",
    "\n",
    "\n",
    "input =os.path.abspath(os.getcwd() + '/Data/SemEval/SemEval.txt') \n",
    "\n",
    "# Initializing Model and Set Parameters\n",
    "m = model.local_global_CRNN_bio(inputPath=input)"
   ]
  },
  {
   "cell_type": "code",
   "execution_count": 2,
   "metadata": {},
   "outputs": [
    {
     "name": "stdout",
     "output_type": "stream",
     "text": [
      "============================== Read_Dataset ==============================\n",
      "Reading from :/home/ashgu/Desktop/548ProjectFinal/ditk/extraction/relation/local_global_crnn/Data/SemEval/SemEval.txt\n"
     ]
    }
   ],
   "source": [
    "# Read Raw Dataset\n",
    "m.read_dataset()\n"
   ]
  },
  {
   "cell_type": "code",
   "execution_count": 3,
   "metadata": {},
   "outputs": [
    {
     "name": "stdout",
     "output_type": "stream",
     "text": [
      "============================== Data_Preprocessing ==============================\n",
      "Spliting Dataset to Train: 9646  Test: 1071\n",
      "Writing to: /home/ashgu/Desktop/548ProjectFinal/ditk/extraction/relation/local_global_crnn/Data/Current_Dataset/train.txt\n",
      "Writing to: /home/ashgu/Desktop/548ProjectFinal/ditk/extraction/relation/local_global_crnn/Data/Current_Dataset/test.txt\n"
     ]
    }
   ],
   "source": [
    "m.data_preprocess()"
   ]
  },
  {
   "cell_type": "code",
   "execution_count": 4,
   "metadata": {},
   "outputs": [
    {
     "name": "stdout",
     "output_type": "stream",
     "text": [
      "============================== Tokenization ==============================\n",
      "Reading from :/home/ashgu/Desktop/548ProjectFinal/ditk/extraction/relation/local_global_crnn/Data/Current_Dataset/train.txt\n",
      "Reading from :/home/ashgu/Desktop/548ProjectFinal/ditk/extraction/relation/local_global_crnn/Data/Current_Dataset/test.txt\n",
      "Writing to: /home/ashgu/Desktop/548ProjectFinal/ditk/extraction/relation/local_global_crnn/Data/Current_Dataset/relation2id.txt\n",
      "Writing to: /home/ashgu/Desktop/548ProjectFinal/ditk/extraction/relation/local_global_crnn/Data/Current_Dataset/id2entity.txt\n",
      "Reading from :/home/ashgu/Desktop/548ProjectFinal/ditk/extraction/relation/local_global_crnn/Data/Current_Dataset/train.txt\n",
      "Reading from :/home/ashgu/Desktop/548ProjectFinal/ditk/extraction/relation/local_global_crnn/Data/Current_Dataset/relation2id.txt\n",
      "Reading from :/home/ashgu/Desktop/548ProjectFinal/ditk/extraction/relation/local_global_crnn/Data/Current_Dataset/test.txt\n",
      "Reading from :/home/ashgu/Desktop/548ProjectFinal/ditk/extraction/relation/local_global_crnn/Data/Current_Dataset/relation2id.txt\n",
      "Train/Dev/Test Size: 8682/964/1071\n"
     ]
    }
   ],
   "source": [
    "# Parse with our group's Common Format and\n",
    "m.tokenize()\n"
   ]
  },
  {
   "cell_type": "code",
   "execution_count": null,
   "metadata": {},
   "outputs": [
    {
     "name": "stdout",
     "output_type": "stream",
     "text": [
      "============================== Trainning ==============================\n",
      "Writing to /home/ashgu/Desktop/548ProjectFinal/ditk/extraction/relation/local_global_crnn/runs/00:33,Apr-30,Model:max\n",
      "\n",
      "Load word2vec file /home/ashgu/Desktop/548ProjectFinal/ditk/extraction/relation/local_global_crnn/Data/GoogleNews-vectors-negative300.bin\n",
      "Success to load pre-trained word2vec model!\n",
      "\n",
      "step 0:, loss 10.019567489624023, acc 0.046875\n",
      "\n",
      "Evaluation:\n",
      "step 0:, loss 5.026008129119873, acc 0.0912863090634346, recall 0.0912863070539419, f1 0.0912863070539419\n",
      "\n",
      "Saved model checkpoint to /home/ashgu/Desktop/548ProjectFinal/ditk/extraction/relation/local_global_crnn/runs/00:33,Apr-30,Model:max/checkpoints/model-0\n",
      "\n",
      "step 10:, loss 3.7561984062194824, acc 0.109375\n",
      "step 20:, loss 3.1106927394866943, acc 0.171875\n",
      "step 30:, loss 2.960259437561035, acc 0.125\n",
      "step 40:, loss 2.684831380844116, acc 0.09375\n",
      "step 50:, loss 2.5543580055236816, acc 0.203125\n",
      "step 60:, loss 2.4054923057556152, acc 0.25\n",
      "step 70:, loss 2.5399584770202637, acc 0.203125\n",
      "step 80:, loss 2.54836368560791, acc 0.234375\n",
      "step 90:, loss 2.490960121154785, acc 0.21875\n",
      "step 100:, loss 2.370530605316162, acc 0.265625\n",
      "\n",
      "Evaluation:\n",
      "step 100:, loss 2.0361216068267822, acc 0.37448132038116455, recall 0.3744813278008299, f1 0.3744813278008298\n",
      "\n",
      "Saved model checkpoint to /home/ashgu/Desktop/548ProjectFinal/ditk/extraction/relation/local_global_crnn/runs/00:33,Apr-30,Model:max/checkpoints/model-100\n",
      "\n",
      "step 110:, loss 2.1311275959014893, acc 0.359375\n",
      "step 120:, loss 2.113175868988037, acc 0.328125\n"
     ]
    }
   ],
   "source": [
    "# Train with our model\n",
    "m.train()\n"
   ]
  },
  {
   "cell_type": "code",
   "execution_count": null,
   "metadata": {},
   "outputs": [],
   "source": [
    "# Generate Prediction File\n",
    "outputPath = m.predict()\n"
   ]
  },
  {
   "cell_type": "code",
   "execution_count": null,
   "metadata": {},
   "outputs": [],
   "source": [
    "# Evaluate with group's metric\n",
    "m.evaluate()\n",
    "\n",
    "# Return Prediction File Path\n",
    "print('Path to Prediction File: ' + outputPath)"
   ]
  },
  {
   "cell_type": "code",
   "execution_count": null,
   "metadata": {},
   "outputs": [],
   "source": []
  }
 ],
 "metadata": {
  "kernelspec": {
   "display_name": "Python 3",
   "language": "python",
   "name": "python3"
  },
  "language_info": {
   "codemirror_mode": {
    "name": "ipython",
    "version": 3
   },
   "file_extension": ".py",
   "mimetype": "text/x-python",
   "name": "python",
   "nbconvert_exporter": "python",
   "pygments_lexer": "ipython3",
   "version": "3.5.2"
  }
 },
 "nbformat": 4,
 "nbformat_minor": 2
}
