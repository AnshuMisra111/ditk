{
 "cells": [
  {
   "cell_type": "code",
   "execution_count": 1,
   "metadata": {},
   "outputs": [],
   "source": [
    "%load_ext autoreload\n",
    "%autoreload 2\n",
    "import json\n",
    "import numpy as np"
   ]
  },
  {
   "cell_type": "code",
   "execution_count": 2,
   "metadata": {},
   "outputs": [],
   "source": [
    "with open(\"data/nyt/rel2id.json\") as f:\n",
    "    rel2id = json.load(f)"
   ]
  },
  {
   "cell_type": "code",
   "execution_count": 3,
   "metadata": {},
   "outputs": [],
   "source": [
    "id2rel = {}\n",
    "for key, value in rel2id.iteritems():\n",
    "    id2rel[value-1] = key"
   ]
  },
  {
   "cell_type": "code",
   "execution_count": 4,
   "metadata": {},
   "outputs": [],
   "source": [
    "N_realtion = len(id2rel)"
   ]
  },
  {
   "cell_type": "code",
   "execution_count": 5,
   "metadata": {},
   "outputs": [],
   "source": [
    "with open(\"test_result/nyt_pcnn_ave_pred.json\") as f:\n",
    "    test_result = json.load(f)"
   ]
  },
  {
   "cell_type": "code",
   "execution_count": 6,
   "metadata": {},
   "outputs": [
    {
     "data": {
      "text/plain": [
       "{u'entpair': u'/guid/9202a8c04000641f8000000003147149#/guid/9202a8c04000641f8000000000024ba1',\n",
       " u'relation': 1,\n",
       " u'score': nan}"
      ]
     },
     "execution_count": 6,
     "metadata": {},
     "output_type": "execute_result"
    }
   ],
   "source": [
    "test_result[0]"
   ]
  },
  {
   "cell_type": "code",
   "execution_count": 7,
   "metadata": {},
   "outputs": [
    {
     "data": {
      "text/plain": [
       "True"
      ]
     },
     "execution_count": 7,
     "metadata": {},
     "output_type": "execute_result"
    }
   ],
   "source": [
    "np.isnan(test_result[0][\"score\"])"
   ]
  },
  {
   "cell_type": "code",
   "execution_count": 8,
   "metadata": {
    "collapsed": true
   },
   "outputs": [],
   "source": [
    "prev = \"\"\n",
    "pair_orders = []\n",
    "for entity_pair in test_result:\n",
    "    if entity_pair[\"entpair\"] != prev:\n",
    "        pair_orders.append(entity_pair[\"entpair\"])\n",
    "        prev = entity_pair[\"entpair\"]"
   ]
  },
  {
   "cell_type": "code",
   "execution_count": 9,
   "metadata": {},
   "outputs": [
    {
     "data": {
      "text/plain": [
       "[u'/guid/9202a8c04000641f8000000003147149#/guid/9202a8c04000641f8000000000024ba1',\n",
       " u'/guid/9202a8c04000641f800000000006daf1#/guid/9202a8c04000641f800000000001de10',\n",
       " u'/guid/9202a8c04000641f800000000002e90b#/guid/9202a8c04000641f8000000000687b53',\n",
       " u'/guid/9202a8c04000641f8000000000078105#/guid/9202a8c04000641f800000000006bea9']"
      ]
     },
     "execution_count": 9,
     "metadata": {},
     "output_type": "execute_result"
    }
   ],
   "source": [
    "pair_orders"
   ]
  },
  {
   "cell_type": "code",
   "execution_count": 10,
   "metadata": {
    "collapsed": true
   },
   "outputs": [],
   "source": [
    "relation_probs = {}\n",
    "for entity_pair in test_result:\n",
    "    key = entity_pair[\"entpair\"]\n",
    "    probs = relation_probs.get(key,np.zeros((N_realtion,)))\n",
    "    if np.isnan(entity_pair[\"score\"]):\n",
    "        prob = 0\n",
    "    else:\n",
    "        prob = entity_pair[\"score\"]\n",
    "    probs[entity_pair[\"relation\"]-1] = prob\n",
    "    relation_probs[key] = probs"
   ]
  },
  {
   "cell_type": "code",
   "execution_count": 11,
   "metadata": {},
   "outputs": [],
   "source": [
    "pred_ralations = []\n",
    "for key in pair_orders:\n",
    "    pred_ralations.append(id2rel[np.argmax(relation_probs[key])])"
   ]
  },
  {
   "cell_type": "code",
   "execution_count": 12,
   "metadata": {
    "collapsed": true
   },
   "outputs": [],
   "source": [
    "with open(\"data/nyt/test.json\") as f:\n",
    "    test_input = json.load(f)"
   ]
  },
  {
   "cell_type": "code",
   "execution_count": 13,
   "metadata": {},
   "outputs": [],
   "source": [
    "assert (len(test_input)) == len(pred_ralations) "
   ]
  },
  {
   "cell_type": "code",
   "execution_count": 14,
   "metadata": {},
   "outputs": [],
   "source": [
    "output = []\n",
    "for single_input, pred_ralation in zip(test_input, pred_ralations):\n",
    "    to_append = (single_input[\"sentence\"].encode('utf-8'), single_input[\"head\"][\"word\"].encode('utf-8'), \n",
    "                 single_input[\"tail\"][\"word\"].encode('utf-8'), pred_ralation, single_input[\"relation\"].encode('utf-8'))\n",
    "    output.append(to_append)"
   ]
  },
  {
   "cell_type": "code",
   "execution_count": 15,
   "metadata": {},
   "outputs": [],
   "source": [
    "with open(\"test_result/common_output.tsv\", \"w\") as f:\n",
    "    for element in output:\n",
    "        normal_str = [str(word) for word in element]\n",
    "        f.write(\"\\t\".join(normal_str) + \"\\n\")"
   ]
  }
 ],
 "metadata": {
  "kernelspec": {
   "display_name": "Python 2",
   "language": "python",
   "name": "python2"
  },
  "language_info": {
   "codemirror_mode": {
    "name": "ipython",
    "version": 3
   },
   "file_extension": ".py",
   "mimetype": "text/x-python",
   "name": "python",
   "nbconvert_exporter": "python",
   "pygments_lexer": "ipython3",
   "version": "3.7.0"
  }
 },
 "nbformat": 4,
 "nbformat_minor": 1
}
