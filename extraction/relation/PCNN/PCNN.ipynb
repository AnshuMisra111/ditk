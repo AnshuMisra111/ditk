{
 "cells": [
  {
   "cell_type": "code",
   "execution_count": 1,
   "metadata": {
    "collapsed": true
   },
   "outputs": [],
   "source": [
    "%load_ext autoreload\n",
    "%autoreload 2\n",
    "from PCNN import PCNN"
   ]
  },
  {
   "cell_type": "code",
   "execution_count": 2,
   "metadata": {
    "collapsed": true
   },
   "outputs": [],
   "source": [
    "myModel = PCNN()\n",
    "dataset_name = \"nyt\"\n",
    "encoder=\"pcnn\"\n",
    "selector=\"ave\""
   ]
  },
  {
   "cell_type": "code",
   "execution_count": 3,
   "metadata": {
    "collapsed": false
   },
   "outputs": [
    {
     "name": "stdout",
     "output_type": "stream",
     "text": [
      "Reading dataset\n",
      "Processed trainging file\n",
      "Processed testing file\n",
      "Re-constructing rel2id file\n"
     ]
    }
   ],
   "source": [
    "print \"Reading dataset\"\n",
    "myModel.read_dataset(dataset_name)"
   ]
  },
  {
   "cell_type": "code",
   "execution_count": 4,
   "metadata": {
    "collapsed": false
   },
   "outputs": [
    {
     "name": "stdout",
     "output_type": "stream",
     "text": [
      "Training\n",
      "Loading data file...\n",
      "Finish loading\n",
      "Loading word vector file...\n",
      "Finish loading\n",
      "Elimiating case sensitive problem...\n",
      "Finish eliminating\n",
      "Sort data...\n",
      "Finish sorting\n",
      "Got 114042 words of 50 dims\n",
      "Building word vector matrix and mapping...\n",
      "Finish building\n",
      "Pre-processing data...\n",
      "Finish pre-processing\n",
      "Storing processed files...\n",
      "Finish storing\n",
      "Total relation fact: 4463\n",
      "Loading data file...\n",
      "Finish loading\n",
      "Loading word vector file...\n",
      "Finish loading\n",
      "Elimiating case sensitive problem...\n",
      "Finish eliminating\n",
      "Sort data...\n",
      "Finish sorting\n",
      "Got 114042 words of 50 dims\n",
      "Building word vector matrix and mapping...\n",
      "Finish building\n",
      "Pre-processing data...\n",
      "Finish pre-processing\n",
      "Storing processed files...\n",
      "Finish storing\n",
      "Total relation fact: 338\n",
      "Start training...\n",
      "WARNING:tensorflow:From /Library/Frameworks/Python.framework/Versions/2.7/lib/python2.7/site-packages/tensorflow/python/framework/op_def_library.py:263: colocate_with (from tensorflow.python.framework.ops) is deprecated and will be removed in a future version.\n",
      "Instructions for updating:\n",
      "Colocations handled automatically by placer.\n",
      "\n",
      "WARNING: The TensorFlow contrib module will not be included in TensorFlow 2.0.\n",
      "For more information, please see:\n",
      "  * https://github.com/tensorflow/community/blob/master/rfcs/20180907-contrib-sunset.md\n",
      "  * https://github.com/tensorflow/addons\n",
      "If you depend on functionality not listed there, please file an issue.\n",
      "\n",
      "WARNING:tensorflow:From nrekit/network/encoder.py:24: conv1d (from tensorflow.python.layers.convolutional) is deprecated and will be removed in a future version.\n",
      "Instructions for updating:\n",
      "Use keras.layers.conv1d instead.\n",
      "WARNING:tensorflow:From /Library/Frameworks/Python.framework/Versions/2.7/lib/python2.7/site-packages/tensorflow/python/keras/layers/core.py:143: calling dropout (from tensorflow.python.ops.nn_ops) with keep_prob is deprecated and will be removed in a future version.\n",
      "Instructions for updating:\n",
      "Please use `rate` instead of `keep_prob`. Rate should be set to `rate = 1 - keep_prob`.\n",
      "Calculating weights_table...\n",
      "Finish calculating\n",
      "WARNING:tensorflow:From /Library/Frameworks/Python.framework/Versions/2.7/lib/python2.7/site-packages/tensorflow/python/ops/losses/losses_impl.py:209: to_float (from tensorflow.python.ops.math_ops) is deprecated and will be removed in a future version.\n",
      "Instructions for updating:\n",
      "Use tf.cast instead.\n"
     ]
    },
    {
     "name": "stderr",
     "output_type": "stream",
     "text": [
      "PCNN.py:208: RuntimeWarning: divide by zero encountered in divide\n",
      "  _weights_table = 1 / (_weights_table ** 0.05)\n"
     ]
    },
    {
     "name": "stdout",
     "output_type": "stream",
     "text": [
      "WARNING:tensorflow:From /Library/Frameworks/Python.framework/Versions/2.7/lib/python2.7/site-packages/tensorflow/python/ops/math_ops.py:3066: to_int32 (from tensorflow.python.ops.math_ops) is deprecated and will be removed in a future version.\n",
      "Instructions for updating:\n",
      "Use tf.cast instead.\n",
      "WARNING:tensorflow:From /Library/Frameworks/Python.framework/Versions/2.7/lib/python2.7/site-packages/tensorflow/python/ops/math_grad.py:102: div (from tensorflow.python.ops.math_ops) is deprecated and will be removed in a future version.\n",
      "Instructions for updating:\n",
      "Deprecated in favor of operator or tf.math.divide.\n",
      "###### Epoch 0 ######\n",
      "epoch 0 step 27 time 0.99 | loss: 1.498046, not NA accuracy: 0.473362, accuracy: 0.466071\n",
      "Average iteration time: 0.937361\n",
      "Testing...\n",
      "Calculating weights_table...\n",
      "Finish calculating\n",
      "[TEST] step 2 | not NA accuracy: 0.057402, accuracy: 0.039583\n",
      "[TEST] auc: 0.0279627199867\n",
      "Finish testing\n",
      "Best model, storing...\n",
      "INFO:tensorflow:checkpoint/nyt_pcnn_ave is not in all_model_checkpoint_paths. Manually adding it.\n",
      "Finish storing\n",
      "######\n",
      "Finish training nyt_pcnn_ave\n",
      "Best epoch auc = 0.027963\n"
     ]
    }
   ],
   "source": [
    "print \"Training\"\n",
    "myModel.train(encoder, selector, dataset_name, epoch=1)"
   ]
  },
  {
   "cell_type": "code",
   "execution_count": 5,
   "metadata": {
    "collapsed": false
   },
   "outputs": [
    {
     "name": "stdout",
     "output_type": "stream",
     "text": [
      "Predicting\n",
      "Pre-processed files exist. Loading them...\n",
      "Finish loading\n",
      "Total relation fact: 4463\n",
      "Pre-processed files exist. Loading them...\n",
      "Finish loading\n",
      "Total relation fact: 338\n",
      "Testing...\n",
      "Calculating weights_table...\n",
      "Finish calculating\n",
      "WARNING:tensorflow:From /Library/Frameworks/Python.framework/Versions/2.7/lib/python2.7/site-packages/tensorflow/python/training/saver.py:1266: checkpoint_exists (from tensorflow.python.training.checkpoint_management) is deprecated and will be removed in a future version.\n",
      "Instructions for updating:\n",
      "Use standard file APIs to check for files with this prefix.\n",
      "INFO:tensorflow:Restoring parameters from ./checkpoint/nyt_pcnn_ave\n"
     ]
    },
    {
     "name": "stderr",
     "output_type": "stream",
     "text": [
      "PCNN.py:307: RuntimeWarning: divide by zero encountered in divide\n",
      "  _weights_table = 1 / (_weights_table ** 0.05)\n"
     ]
    },
    {
     "name": "stdout",
     "output_type": "stream",
     "text": [
      "[TEST] step 2 | not NA accuracy: 0.057402, accuracy: 0.039583\n",
      "[TEST] auc: 0.0279627199867\n",
      "Finish testing\n"
     ]
    }
   ],
   "source": [
    "print \"Predicting\"\n",
    "predictions = myModel.predict(encoder, selector, dataset_name)  # generate predictions! output format will be same for everyone"
   ]
  },
  {
   "cell_type": "code",
   "execution_count": 6,
   "metadata": {
    "collapsed": false
   },
   "outputs": [
    {
     "name": "stdout",
     "output_type": "stream",
     "text": [
      "Evaluating\n",
      "nyt_pcnn_ave : auc = 0.02796271998672417 | max F1 = 0.09750566893424037\n",
      "    P@100: 0.019801980198 | P@200: 0.0497512437811 | P@300: 0.046511627907 | Mean: 0.038688283962\n"
     ]
    }
   ],
   "source": [
    "print \"Evaluating\"\n",
    "myModel.evaluate(encoder, selector, dataset_name)"
   ]
  }
 ],
 "metadata": {
  "kernelspec": {
   "display_name": "Python 2",
   "language": "python",
   "name": "python2"
  },
  "language_info": {
   "codemirror_mode": {
    "name": "ipython",
    "version": 2
   },
   "file_extension": ".py",
   "mimetype": "text/x-python",
   "name": "python",
   "nbconvert_exporter": "python",
   "pygments_lexer": "ipython2",
   "version": "2.7.11"
  }
 },
 "nbformat": 4,
 "nbformat_minor": 1
}
