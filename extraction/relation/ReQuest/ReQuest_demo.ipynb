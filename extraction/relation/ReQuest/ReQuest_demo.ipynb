{
 "cells": [
  {
   "cell_type": "markdown",
   "metadata": {},
   "source": [
    "# \"ReQuest: Indirect Supervision for Relation Extraction Using Question-Answer Pairs\"\n",
    "\n",
    "* Zeqiu Wu • Xiang Ren • Frank F. Xu • Ji Li • Jiawei Han\n",
    "* Proceedings of the Eleventh ACM International Conference on Web Search and Data Mining (WSDM ‘18)\n",
    "\n",
    "\n",
    "Requirements: python 2.7, xeus-cling - Jupyter kernel for C++"
   ]
  },
  {
   "cell_type": "markdown",
   "metadata": {},
   "source": [
    "### Create Directories"
   ]
  },
  {
   "cell_type": "code",
   "execution_count": 2,
   "metadata": {},
   "outputs": [],
   "source": [
    "import os\n",
    "\n",
    "Data=\"NYT\"\n",
    "\n",
    "if not os.path.exists(\"data/intermediate/NYT/em\"):\n",
    "    os.makedirs(\"data/intermediate/NYT/em\") \n",
    "if not os.path.exists(\"data/intermediate/NYT/rm\"):\n",
    "    os.makedirs(\"data/intermediate/NYT/rm\")\n",
    "if not os.path.exists(\"data/results/NYT/em\"):\n",
    "    os.makedirs(\"data/results/NYT/em\")\n",
    "if not os.path.exists(\"data/results/NYT/rm\"):\n",
    "    os.makedirs(\"data/results/NYT/rm\")"
   ]
  },
  {
   "cell_type": "markdown",
   "metadata": {},
   "source": [
    "### Step 1 Generate Features"
   ]
  },
  {
   "cell_type": "code",
   "execution_count": 3,
   "metadata": {},
   "outputs": [],
   "source": [
    "%run code/DataProcessor/feature_generation.py"
   ]
  },
  {
   "cell_type": "markdown",
   "metadata": {},
   "source": [
    "### Step 2 Train ReQuest on Relation Classification"
   ]
  },
  {
   "cell_type": "markdown",
   "metadata": {},
   "source": [
    "Note this is a cpp code which uses Eigen values for calculation. Refer to requirement.txt for execution details."
   ]
  },
  {
   "cell_type": "code",
   "execution_count": null,
   "metadata": {},
   "outputs": [],
   "source": [
    "% run code/Model/request/request"
   ]
  },
  {
   "cell_type": "markdown",
   "metadata": {},
   "source": [
    "### Step 3 Predict and Evaluate ReQuest on Relation Classification"
   ]
  },
  {
   "cell_type": "code",
   "execution_count": null,
   "metadata": {},
   "outputs": [],
   "source": [
    "%run code/Evaluation/emb_test.py"
   ]
  }
 ],
 "metadata": {
  "kernelspec": {
   "display_name": "Python 2",
   "language": "python",
   "name": "python2"
  },
  "language_info": {
   "codemirror_mode": {
    "name": "ipython",
    "version": 2
   },
   "file_extension": ".py",
   "mimetype": "text/x-python",
   "name": "python",
   "nbconvert_exporter": "python",
   "pygments_lexer": "ipython2",
   "version": "2.7.15rc1"
  }
 },
 "nbformat": 4,
 "nbformat_minor": 2
}
