{
 "cells": [
  {
   "cell_type": "code",
   "execution_count": 1,
   "metadata": {},
   "outputs": [],
   "source": [
    "import os\n",
    "import cnn_model"
   ]
  },
  {
   "cell_type": "markdown",
   "metadata": {},
   "source": [
    "# Benchmark 2: SemEval2010 Task8"
   ]
  },
  {
   "cell_type": "code",
   "execution_count": 2,
   "metadata": {},
   "outputs": [],
   "source": [
    "dir_path = os.getcwd()\n",
    "dir_path = dir_path.replace(os.sep, '/')\n",
    "\n",
    "model2 = cnn_model.CNNModel()\n",
    "model2.read_dataset(dir_path+'/benchmark2')"
   ]
  },
  {
   "cell_type": "markdown",
   "metadata": {},
   "source": [
    "## Train the model with training data"
   ]
  },
  {
   "cell_type": "code",
   "execution_count": 3,
   "metadata": {},
   "outputs": [
    {
     "name": "stdout",
     "output_type": "stream",
     "text": [
      "================================================================================\n",
      "Epoch 1, loss 6.90, acc 0.17 0.2456, time 12.40\n",
      "Epoch 2, loss 5.01, acc 0.19 0.4156, time 16.95\n",
      "Epoch 3, loss 3.99, acc 0.27 0.4789, time 17.26\n",
      "Epoch 4, loss 3.54, acc 0.31 0.5387, time 17.26\n",
      "Epoch 5, loss 3.42, acc 0.34 0.5755, time 17.89\n",
      "Epoch 6, loss 2.29, acc 0.42 0.6045, time 16.85\n",
      "Epoch 7, loss 2.42, acc 0.45 0.6174, time 17.69\n",
      "Epoch 8, loss 1.92, acc 0.51 0.6290, time 17.23\n",
      "Epoch 9, loss 1.64, acc 0.53 0.6461, time 17.26\n",
      "Epoch 10, loss 1.72, acc 0.53 0.6532, time 17.49\n",
      "Epoch 11, loss 1.62, acc 0.54 0.6606, time 18.07\n",
      "Epoch 12, loss 1.50, acc 0.53 0.6672, time 17.67\n",
      "Epoch 13, loss 1.30, acc 0.64 0.6747, time 17.71\n",
      "Epoch 14, loss 1.30, acc 0.62 0.6855, time 17.31\n",
      "Epoch 15, loss 1.40, acc 0.54 0.6927, time 17.67\n",
      "Epoch 16, loss 1.34, acc 0.61 0.6964, time 16.97\n",
      "Epoch 17, loss 1.39, acc 0.61 0.6990, time 17.12\n",
      "Epoch 18, loss 1.23, acc 0.59 0.7025, time 17.52\n",
      "Epoch 19, loss 1.39, acc 0.62 0.7021, time 17.68\n",
      "Epoch 20, loss 1.08, acc 0.67 0.7040, time 17.28\n",
      "Epoch 21, loss 1.13, acc 0.63 0.7066, time 17.12\n",
      "Epoch 22, loss 1.21, acc 0.66 0.7096, time 16.82\n",
      "Epoch 23, loss 0.97, acc 0.72 0.7147, time 17.09\n",
      "Epoch 24, loss 1.07, acc 0.71 0.7184, time 17.11\n",
      "Epoch 25, loss 0.95, acc 0.70 0.7234, time 19.52\n",
      "Epoch 26, loss 1.10, acc 0.70 0.7207, time 19.14\n",
      "Epoch 27, loss 1.07, acc 0.67 0.7278, time 17.79\n",
      "Epoch 28, loss 1.13, acc 0.70 0.7301, time 18.77\n",
      "Epoch 29, loss 0.94, acc 0.72 0.7322, time 18.09\n",
      "Epoch 30, loss 0.83, acc 0.79 0.7384, time 18.78\n",
      "Epoch 31, loss 0.99, acc 0.73 0.7356, time 18.57\n",
      "Epoch 32, loss 0.92, acc 0.77 0.7418, time 18.46\n",
      "Epoch 33, loss 0.84, acc 0.78 0.7410, time 18.89\n",
      "Epoch 34, loss 0.89, acc 0.76 0.7416, time 19.18\n",
      "Epoch 35, loss 0.92, acc 0.77 0.7440, time 16.97\n",
      "Epoch 36, loss 0.90, acc 0.78 0.7466, time 17.41\n",
      "Epoch 37, loss 0.86, acc 0.76 0.7476, time 17.94\n",
      "Epoch 38, loss 0.86, acc 0.78 0.7477, time 17.84\n",
      "Epoch 39, loss 0.69, acc 0.83 0.7517, time 18.81\n",
      "Epoch 40, loss 0.86, acc 0.71 0.7514, time 17.70\n",
      "Epoch 41, loss 0.85, acc 0.73 0.7523, time 21.47\n",
      "Epoch 42, loss 0.77, acc 0.78 0.7498, time 19.56\n",
      "Epoch 43, loss 0.73, acc 0.83 0.7531, time 17.57\n",
      "Epoch 44, loss 0.79, acc 0.80 0.7591, time 22.26\n",
      "Epoch 45, loss 0.75, acc 0.83 0.7580, time 20.62\n",
      "Epoch 46, loss 0.74, acc 0.79 0.7613, time 20.79\n",
      "Epoch 47, loss 0.80, acc 0.75 0.7624, time 19.76\n",
      "Epoch 48, loss 0.61, acc 0.85 0.7615, time 20.34\n",
      "Epoch 49, loss 0.80, acc 0.74 0.7595, time 19.32\n",
      "Epoch 50, loss 0.67, acc 0.82 0.7617, time 18.69\n",
      "Epoch 51, loss 0.53, acc 0.84 0.7613, time 19.80\n",
      "Epoch 52, loss 0.63, acc 0.83 0.7609, time 19.76\n",
      "Epoch 53, loss 0.43, acc 0.93 0.7574, time 19.99\n",
      "Epoch 54, loss 0.50, acc 0.87 0.7576, time 21.27\n",
      "Epoch 55, loss 0.63, acc 0.80 0.7671, time 22.92\n",
      "Epoch 56, loss 0.49, acc 0.90 0.7685, time 22.71\n",
      "Epoch 57, loss 0.66, acc 0.81 0.7614, time 21.94\n",
      "Epoch 58, loss 0.58, acc 0.85 0.7653, time 18.05\n",
      "Epoch 59, loss 0.43, acc 0.90 0.7634, time 19.35\n",
      "Epoch 60, loss 0.48, acc 0.88 0.7685, time 16.49\n",
      "Epoch 61, loss 0.51, acc 0.88 0.7641, time 17.03\n",
      "Epoch 62, loss 0.60, acc 0.84 0.7694, time 18.11\n",
      "Epoch 63, loss 0.46, acc 0.92 0.7692, time 18.30\n",
      "Epoch 64, loss 0.48, acc 0.88 0.7654, time 16.63\n",
      "Epoch 65, loss 0.42, acc 0.92 0.7700, time 16.44\n",
      "Epoch 66, loss 0.37, acc 0.89 0.7676, time 18.56\n",
      "Epoch 67, loss 0.38, acc 0.94 0.7666, time 16.86\n",
      "Epoch 68, loss 0.40, acc 0.89 0.7666, time 17.12\n",
      "Done training, best_step: 5200, best_acc: 0.7700\n",
      "duration: 0.35 hours\n"
     ]
    },
    {
     "data": {
      "text/plain": [
       "'D:/workspace/ditk/extraction/relation/cnn_wingwale/model2'"
      ]
     },
     "execution_count": 3,
     "metadata": {},
     "output_type": "execute_result"
    }
   ],
   "source": [
    "model2.train(dir_path+'/benchmark2', dir_path+'/model2')"
   ]
  },
  {
   "cell_type": "code",
   "execution_count": null,
   "metadata": {},
   "outputs": [],
   "source": []
  }
 ],
 "metadata": {
  "kernelspec": {
   "display_name": "Python 3",
   "language": "python",
   "name": "python3"
  },
  "language_info": {
   "codemirror_mode": {
    "name": "ipython",
    "version": 3
   },
   "file_extension": ".py",
   "mimetype": "text/x-python",
   "name": "python",
   "nbconvert_exporter": "python",
   "pygments_lexer": "ipython3",
   "version": "3.5.4"
  }
 },
 "nbformat": 4,
 "nbformat_minor": 2
}
