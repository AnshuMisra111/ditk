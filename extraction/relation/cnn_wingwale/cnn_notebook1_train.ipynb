{
 "cells": [
  {
   "cell_type": "code",
   "execution_count": 1,
   "metadata": {},
   "outputs": [],
   "source": [
    "import os\n",
    "import cnn_model"
   ]
  },
  {
   "cell_type": "markdown",
   "metadata": {},
   "source": [
    "# Benchmark 1: DDI2013"
   ]
  },
  {
   "cell_type": "code",
   "execution_count": 2,
   "metadata": {},
   "outputs": [
    {
     "name": "stdout",
     "output_type": "stream",
     "text": [
      "['DDI_util.py', 'relation_extraction_input_test.txt', 'relation_extraction_input_train.txt']\n"
     ]
    }
   ],
   "source": [
    "dir_path = os.getcwd()\n",
    "dir_path = dir_path.replace(os.sep, '/')\n",
    "for (dirpath, dirnames, filenames) in os.walk(dir_path+'/benchmark1'):\n",
    "    print(filenames)\n",
    "    break"
   ]
  },
  {
   "cell_type": "markdown",
   "metadata": {},
   "source": [
    "## Preprocess training and testing data"
   ]
  },
  {
   "cell_type": "code",
   "execution_count": 3,
   "metadata": {},
   "outputs": [
    {
     "name": "stdout",
     "output_type": "stream",
     "text": [
      "['DDI_util.py', 'embed50.senna.npy', 'relations.txt', 'relation_extraction_input_test.txt', 'relation_extraction_input_train.txt', 'senna_words.lst', 'test.cln', 'train.cln']\n"
     ]
    }
   ],
   "source": [
    "model1 = cnn_model.CNNModel()\n",
    "model1.data_preprocess(dir_path+'/benchmark1')\n",
    "model1.read_dataset(dir_path+'/benchmark1')\n",
    "\n",
    "for (dirpath, dirnames, filenames) in os.walk(dir_path+'/benchmark1'):\n",
    "    print(filenames)\n",
    "    break"
   ]
  },
  {
   "cell_type": "markdown",
   "metadata": {},
   "source": [
    "## Train the model with training data"
   ]
  },
  {
   "cell_type": "code",
   "execution_count": 4,
   "metadata": {},
   "outputs": [
    {
     "name": "stdout",
     "output_type": "stream",
     "text": [
      "================================================================================\n",
      "Epoch 1, loss 2.72, acc 0.70 0.8297, time 11.89\n",
      "Epoch 2, loss 1.30, acc 0.83 0.8325, time 80.13\n",
      "Epoch 3, loss 0.23, acc 0.96 0.8062, time 72.01\n",
      "Epoch 4, loss 0.26, acc 0.95 0.7310, time 72.65\n",
      "Epoch 5, loss 1.10, acc 0.71 0.7448, time 66.86\n",
      "Epoch 6, loss 0.69, acc 0.87 0.7452, time 62.49\n",
      "Epoch 7, loss 0.74, acc 0.91 0.8266, time 57.21\n",
      "Epoch 8, loss 0.38, acc 0.91 0.8087, time 57.14\n",
      "Epoch 9, loss 0.64, acc 0.86 0.8217, time 61.40\n",
      "Epoch 10, loss 0.49, acc 0.86 0.7632, time 66.71\n",
      "Epoch 11, loss 0.23, acc 0.92 0.6740, time 58.44\n",
      "Epoch 12, loss 0.45, acc 0.88 0.7831, time 64.51\n",
      "Epoch 13, loss 0.20, acc 0.98 0.7426, time 61.96\n",
      "Epoch 14, loss 0.38, acc 0.91 0.8247, time 66.25\n",
      "Epoch 15, loss 0.08, acc 0.99 0.7978, time 56.43\n",
      "Epoch 16, loss 0.93, acc 0.70 0.7749, time 65.44\n",
      "Epoch 17, loss 0.64, acc 0.76 0.7766, time 59.91\n",
      "Epoch 18, loss 0.08, acc 1.00 0.7452, time 55.78\n",
      "Epoch 19, loss 0.65, acc 0.77 0.7990, time 53.35\n",
      "Epoch 20, loss 0.52, acc 0.84 0.7749, time 56.37\n",
      "Epoch 21, loss 0.30, acc 0.90 0.8214, time 43.65\n",
      "Epoch 22, loss 0.07, acc 1.00 0.7864, time 61.79\n",
      "Epoch 23, loss 0.11, acc 0.98 0.7223, time 61.63\n",
      "Epoch 24, loss 0.71, acc 0.75 0.7930, time 57.04\n",
      "Epoch 25, loss 0.53, acc 0.82 0.7744, time 55.22\n",
      "Epoch 26, loss 0.54, acc 0.85 0.8196, time 52.79\n",
      "Epoch 27, loss 0.51, acc 0.81 0.7778, time 56.66\n",
      "Epoch 28, loss 0.32, acc 0.86 0.8128, time 69.67\n",
      "Epoch 29, loss 0.56, acc 0.84 0.8113, time 57.10\n",
      "Epoch 30, loss 0.05, acc 1.00 0.7173, time 70.50\n",
      "Epoch 31, loss 0.34, acc 0.92 0.7836, time 45.72\n",
      "Epoch 32, loss 0.56, acc 0.79 0.7882, time 74.41\n",
      "Epoch 33, loss 0.70, acc 0.75 0.8161, time 58.52\n",
      "Epoch 34, loss 0.54, acc 0.84 0.8063, time 61.10\n",
      "Epoch 35, loss 0.42, acc 0.82 0.7834, time 57.77\n",
      "Epoch 36, loss 0.30, acc 0.93 0.8131, time 54.90\n",
      "Epoch 37, loss 0.37, acc 0.88 0.7577, time 67.14\n",
      "Epoch 38, loss 0.61, acc 0.77 0.8164, time 67.63\n",
      "Epoch 39, loss 0.35, acc 0.87 0.8142, time 58.45\n",
      "Epoch 40, loss 0.18, acc 0.94 0.8080, time 63.35\n",
      "Epoch 41, loss 0.12, acc 0.97 0.8187, time 70.83\n",
      "Epoch 42, loss 0.13, acc 0.98 0.7830, time 69.12\n",
      "Done training, best_step: 160, best_acc: 0.8325\n",
      "duration: 0.71 hours\n"
     ]
    },
    {
     "data": {
      "text/plain": [
       "'D:/workspace/ditk/extraction/relation/cnn_wingwale/model1'"
      ]
     },
     "execution_count": 4,
     "metadata": {},
     "output_type": "execute_result"
    }
   ],
   "source": [
    "model1.train(dir_path+'/benchmark1', dir_path+'/model1')"
   ]
  },
  {
   "cell_type": "code",
   "execution_count": null,
   "metadata": {},
   "outputs": [],
   "source": []
  }
 ],
 "metadata": {
  "kernelspec": {
   "display_name": "Python 3",
   "language": "python",
   "name": "python3"
  },
  "language_info": {
   "codemirror_mode": {
    "name": "ipython",
    "version": 3
   },
   "file_extension": ".py",
   "mimetype": "text/x-python",
   "name": "python",
   "nbconvert_exporter": "python",
   "pygments_lexer": "ipython3",
   "version": "3.5.4"
  }
 },
 "nbformat": 4,
 "nbformat_minor": 2
}
