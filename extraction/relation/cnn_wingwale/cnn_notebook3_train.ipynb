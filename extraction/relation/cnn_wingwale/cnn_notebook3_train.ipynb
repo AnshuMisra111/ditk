{
 "cells": [
  {
   "cell_type": "code",
   "execution_count": 1,
   "metadata": {},
   "outputs": [],
   "source": [
    "import os\n",
    "import cnn_model"
   ]
  },
  {
   "cell_type": "markdown",
   "metadata": {},
   "source": [
    "# Benchmark 3: NYT dataset\n",
    "(For training data, only a sample of size 10000 is used)"
   ]
  },
  {
   "cell_type": "code",
   "execution_count": 2,
   "metadata": {},
   "outputs": [
    {
     "name": "stdout",
     "output_type": "stream",
     "text": [
      "['nyt_util.py', 'relation_extraction_input_test.txt', 'relation_extraction_input_train.txt', 'test.json', 'train.json']\n"
     ]
    }
   ],
   "source": [
    "dir_path = os.getcwd()\n",
    "dir_path = dir_path.replace(os.sep, '/')\n",
    "\n",
    "for (dirpath, dirnames, filenames) in os.walk(dir_path+'/benchmark3'):\n",
    "    print(filenames)\n",
    "    break"
   ]
  },
  {
   "cell_type": "markdown",
   "metadata": {},
   "source": [
    "## Preprocess training and testing data"
   ]
  },
  {
   "cell_type": "code",
   "execution_count": 3,
   "metadata": {},
   "outputs": [
    {
     "name": "stdout",
     "output_type": "stream",
     "text": [
      "['embed50.senna.npy', 'nyt_util.py', 'relations.txt', 'relation_extraction_input_test.txt', 'relation_extraction_input_train.txt', 'senna_words.lst', 'test.cln', 'test.json', 'train.cln', 'train.json']\n"
     ]
    }
   ],
   "source": [
    "model3 = cnn_model.CNNModel()\n",
    "model3.data_preprocess(dir_path+'/benchmark3')\n",
    "model3.read_dataset(dir_path+'/benchmark3')\n",
    "\n",
    "for (dirpath, dirnames, filenames) in os.walk(dir_path+'/benchmark3'):\n",
    "    print(filenames)\n",
    "    break"
   ]
  },
  {
   "cell_type": "markdown",
   "metadata": {},
   "source": [
    "## Train the model with training data"
   ]
  },
  {
   "cell_type": "code",
   "execution_count": 4,
   "metadata": {},
   "outputs": [
    {
     "name": "stdout",
     "output_type": "stream",
     "text": [
      "================================================================================\n",
      "Epoch 1, loss 4.58, acc 0.48 0.1083, time 21.19\n",
      "Epoch 2, loss 3.61, acc 0.50 0.1392, time 47.25\n",
      "Epoch 3, loss 2.11, acc 0.65 0.1367, time 38.95\n",
      "Epoch 4, loss 2.24, acc 0.65 0.1544, time 33.48\n",
      "Epoch 5, loss 2.33, acc 0.61 0.1548, time 41.97\n",
      "Epoch 6, loss 1.20, acc 0.75 0.1651, time 35.45\n",
      "Epoch 7, loss 1.17, acc 0.74 0.1751, time 38.78\n",
      "Epoch 8, loss 1.24, acc 0.76 0.1750, time 33.77\n",
      "Done training, best_step: 560, best_acc: 0.1751\n",
      "duration: 0.09 hours\n"
     ]
    },
    {
     "data": {
      "text/plain": [
       "'D:/workspace/ditk/extraction/relation/cnn_wingwale/model3'"
      ]
     },
     "execution_count": 4,
     "metadata": {},
     "output_type": "execute_result"
    }
   ],
   "source": [
    "model3.train(dir_path+'/benchmark3', dir_path+'/model3')"
   ]
  },
  {
   "cell_type": "code",
   "execution_count": null,
   "metadata": {},
   "outputs": [],
   "source": []
  }
 ],
 "metadata": {
  "kernelspec": {
   "display_name": "Python 3",
   "language": "python",
   "name": "python3"
  },
  "language_info": {
   "codemirror_mode": {
    "name": "ipython",
    "version": 3
   },
   "file_extension": ".py",
   "mimetype": "text/x-python",
   "name": "python",
   "nbconvert_exporter": "python",
   "pygments_lexer": "ipython3",
   "version": "3.5.4"
  }
 },
 "nbformat": 4,
 "nbformat_minor": 2
}
