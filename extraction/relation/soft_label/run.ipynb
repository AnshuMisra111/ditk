{
 "cells": [
  {
   "cell_type": "code",
   "execution_count": 1,
   "metadata": {},
   "outputs": [
    {
     "name": "stdout",
     "output_type": "stream",
     "text": [
      "============================== __INIT__ ==============================\n",
      "------------------------------ Data/Output ------------------------------\n",
      "Input Dataset Path: /home/ashgu/Desktop/548ProjectFinal/ditk/extraction/relation/soft_label/data/SemEval/SemEval.txt\n",
      "Result Folder: /home/ashgu/Desktop/548ProjectFinal/ditk/extraction/relation/soft_label/res/20:21,Apr-29,Model:att\n",
      "----------------------------------------------------------------------\n"
     ]
    }
   ],
   "source": [
    "# This notebook aims to guide you through how to use the Method\n",
    "# Make sure you acquire the dataset first.(Guidance in README)\n",
    "\n",
    "import model\n",
    "import os\n",
    "\n",
    "\n",
    "input =os.path.abspath(os.getcwd() + '/data/SemEval/SemEval.txt') \n",
    "\n",
    "# Initializing Model and Set Parameters\n",
    "m = model.soft_label_RE(inputPath=input)"
   ]
  },
  {
   "cell_type": "code",
   "execution_count": 2,
   "metadata": {},
   "outputs": [
    {
     "name": "stdout",
     "output_type": "stream",
     "text": [
      "============================== Read_Dataset ==============================\n",
      "Reading from :/home/ashgu/Desktop/548ProjectFinal/ditk/extraction/relation/soft_label/data/SemEval/SemEval.txt\n"
     ]
    }
   ],
   "source": [
    "# Read Raw Dataset\n",
    "m.read_dataset()\n"
   ]
  },
  {
   "cell_type": "code",
   "execution_count": 3,
   "metadata": {},
   "outputs": [
    {
     "name": "stdout",
     "output_type": "stream",
     "text": [
      "============================== Data_Preprocessing ==============================\n",
      "Spliting Dataset to Train: 9646  Test: 1071\n",
      "Writing to: /home/ashgu/Desktop/548ProjectFinal/ditk/extraction/relation/soft_label/data/Current_Dataset/train.txt\n",
      "Writing to: /home/ashgu/Desktop/548ProjectFinal/ditk/extraction/relation/soft_label/data/Current_Dataset/test.txt\n"
     ]
    }
   ],
   "source": [
    "m.data_preprocess()"
   ]
  },
  {
   "cell_type": "code",
   "execution_count": 4,
   "metadata": {},
   "outputs": [
    {
     "name": "stdout",
     "output_type": "stream",
     "text": [
      "============================== Tokenization ==============================\n",
      "Reading from :/home/ashgu/Desktop/548ProjectFinal/ditk/extraction/relation/soft_label/data/Current_Dataset/train.txt\n",
      "Reading from :/home/ashgu/Desktop/548ProjectFinal/ditk/extraction/relation/soft_label/data/Current_Dataset/test.txt\n",
      "Writing to: /home/ashgu/Desktop/548ProjectFinal/ditk/extraction/relation/soft_label/data/Current_Dataset/relation2id.txt\n",
      "Writing to: /home/ashgu/Desktop/548ProjectFinal/ditk/extraction/relation/soft_label/data/Current_Dataset/id2entity.txt\n",
      "Reading from :/home/ashgu/Desktop/548ProjectFinal/ditk/extraction/relation/soft_label/data/Current_Dataset/relation2id.txt\n",
      "Reading from :/home/ashgu/Desktop/548ProjectFinal/ditk/extraction/relation/soft_label/data/Current_Dataset/id2entity.txt\n",
      "Reading from :/home/ashgu/Desktop/548ProjectFinal/ditk/extraction/relation/soft_label/data/Current_Dataset/train.txt\n",
      "Reading from :/home/ashgu/Desktop/548ProjectFinal/ditk/extraction/relation/soft_label/data/Current_Dataset/relation2id.txt\n",
      "Reading from :/home/ashgu/Desktop/548ProjectFinal/ditk/extraction/relation/soft_label/data/Current_Dataset/id2entity.txt\n",
      "Reading from :/home/ashgu/Desktop/548ProjectFinal/ditk/extraction/relation/soft_label/data/Current_Dataset/test.txt\n",
      "------------------------------ Configuration ------------------------------\n",
      "BATCH_NUM = 160\n",
      "CONFIDENCE = 0.9\n",
      "DIR = /home/ashgu/Desktop/548ProjectFinal/ditk/extraction/relation/soft_label/res\n",
      "DROPOUT = 0.5\n",
      "EMBEDDING_SIZE = 50\n",
      "LOAD_MODEL_NAME = /home/ashgu/Desktop/548ProjectFinal/ditk/extraction/relation/soft_label/pretrain/att/model.ckpt-3600\n",
      "NUM_EPOCHS = 10\n",
      "NUM_FILTERS = 230\n",
      "NUM_RELS = 19\n",
      "ONE_OR_ATT = att\n",
      "PAD_LEN = 200\n",
      "POS_EMBEDDING = 5\n",
      "PRINT_CONFIG = True\n",
      "REPORT = 100\n",
      "SAVE_MODEL = True\n",
      "TRAIN_TEST_DIR = /home/ashgu/Desktop/548ProjectFinal/ditk/extraction/relation/soft_label/data/Current_Dataset\n",
      "USE_PRE_TRAIN_MODEL = False\n",
      "USE_SOFT_LABEL = False\n",
      "WINDOW_SIZE = 3\n",
      "--------------------------------------------------------------------------------\n",
      "training and testing data loaded, using 0.920 seconds\n",
      "training Bag size: 5789   testing Bag size: 685\n"
     ]
    }
   ],
   "source": [
    "# Parse with our group's Common Format and\n",
    "m.tokenize()\n"
   ]
  },
  {
   "cell_type": "code",
   "execution_count": 5,
   "metadata": {},
   "outputs": [
    {
     "name": "stdout",
     "output_type": "stream",
     "text": [
      "============================== Trainning ==============================\n",
      "------------------------------ Initializing Model ------------------------------\n",
      "create new model: \n",
      "Attention Model\n",
      "Initial model complete\n",
      "------------------------------ Training Stage ------------------------------\n",
      " [===================================================================================================>]  Step: 390ms | Tot: 1m2 100/100   0 \n",
      "1 : loss = 35132.1327362061, time = 40.814 ...........................................................]  Step: 393ms | Tot: 8 1/100 \n",
      "save model in 100\n",
      " [===================================================================================================>]  Step: 371ms | Tot: 40s91 100/100 \n",
      "2 : loss = 17117.1218948364, time = 37.424 ...........................................................]  Step: 371ms | Tot: 8 1/100 \n",
      "save model in 200\n",
      " [===================================================================================================>]  Step: 377ms | Tot: 42s651 100/100 \n",
      "3 : loss = 8880.2322921753, time = 40.255 ............................................................]  Step: 388ms | Tot: 8 1/100 \n",
      "save model in 300\n",
      " [============================================================>.......................................]  Step: 442ms | Tot: 27s691 61/100 \r"
     ]
    }
   ],
   "source": [
    "# Train with our model\n",
    "m.train()\n"
   ]
  },
  {
   "cell_type": "code",
   "execution_count": 6,
   "metadata": {},
   "outputs": [
    {
     "name": "stdout",
     "output_type": "stream",
     "text": [
      "------------------------------ Predicting Stage ------------------------------\n",
      "Reading from :/home/ashgu/Desktop/548ProjectFinal/ditk/extraction/relation/soft_label/data/Current_Dataset/relation2id.txt\n",
      "Reading from :/home/ashgu/Desktop/548ProjectFinal/ditk/extraction/relation/soft_label/data/Current_Dataset/id2entity.txt\n",
      "Matching\n",
      "Reading from :/home/ashgu/Desktop/548ProjectFinal/ditk/extraction/relation/soft_label/data/Current_Dataset/test.txt\n",
      "Miss: 0\n",
      "Writing to: /home/ashgu/Desktop/548ProjectFinal/ditk/extraction/relation/soft_label/data/Current_Dataset/prediction.txt\n"
     ]
    }
   ],
   "source": [
    "# Generate Prediction File\n",
    "outputPath = m.predict()\n"
   ]
  },
  {
   "cell_type": "code",
   "execution_count": 7,
   "metadata": {},
   "outputs": [
    {
     "name": "stdout",
     "output_type": "stream",
     "text": [
      "------------------------------ Evaluation Stage ------------------------------\n",
      "Reading from :/home/ashgu/Desktop/548ProjectFinal/ditk/extraction/relation/soft_label/data/Current_Dataset/prediction.txt\n",
      "Statistics: Precision: 0.447  Recall: 0.447  F1: 0.447\n",
      "Path to Prediction File: /home/ashgu/Desktop/548ProjectFinal/ditk/extraction/relation/soft_label/data/Current_Dataset/prediction.txt\n"
     ]
    }
   ],
   "source": [
    "# Evaluate with group's metric\n",
    "m.evaluate()\n",
    "\n",
    "# Return Prediction File Path\n",
    "print('Path to Prediction File: ' + outputPath)"
   ]
  },
  {
   "cell_type": "code",
   "execution_count": null,
   "metadata": {},
   "outputs": [],
   "source": []
  }
 ],
 "metadata": {
  "kernelspec": {
   "display_name": "Python 3",
   "language": "python",
   "name": "python3"
  },
  "language_info": {
   "codemirror_mode": {
    "name": "ipython",
    "version": 3
   },
   "file_extension": ".py",
   "mimetype": "text/x-python",
   "name": "python",
   "nbconvert_exporter": "python",
   "pygments_lexer": "ipython3",
   "version": "3.5.2"
  }
 },
 "nbformat": 4,
 "nbformat_minor": 2
}
