{
 "cells": [
  {
   "cell_type": "markdown",
   "metadata": {},
   "source": [
    "# SparkER"
   ]
  },
  {
   "cell_type": "markdown",
   "metadata": {},
   "source": [
    "Import child class: SparkER"
   ]
  },
  {
   "cell_type": "code",
   "execution_count": 1,
   "metadata": {},
   "outputs": [],
   "source": [
    "from sparkER import SparkER"
   ]
  },
  {
   "cell_type": "markdown",
   "metadata": {},
   "source": [
    "Initializing object of SparkER"
   ]
  },
  {
   "cell_type": "code",
   "execution_count": 2,
   "metadata": {},
   "outputs": [],
   "source": [
    "sparker = SparkER()"
   ]
  },
  {
   "cell_type": "markdown",
   "metadata": {},
   "source": [
    "# Read dataset\n",
    "List of 2 dataset paths is passed as argument.\n",
    "Return: List of 2 pandas.DataFrame corresponding to the dataset.\n",
    "\n",
    "Sample dataset used is Articles dataset:\n",
    "    ->DBLP-ACM: Matches article profiles from dblp.org and dl.acm.org"
   ]
  },
  {
   "cell_type": "code",
   "execution_count": 3,
   "metadata": {},
   "outputs": [
    {
     "data": {
      "text/html": [
       "<div>\n",
       "<style scoped>\n",
       "    .dataframe tbody tr th:only-of-type {\n",
       "        vertical-align: middle;\n",
       "    }\n",
       "\n",
       "    .dataframe tbody tr th {\n",
       "        vertical-align: top;\n",
       "    }\n",
       "\n",
       "    .dataframe thead th {\n",
       "        text-align: right;\n",
       "    }\n",
       "</style>\n",
       "<table border=\"1\" class=\"dataframe\">\n",
       "  <thead>\n",
       "    <tr style=\"text-align: right;\">\n",
       "      <th></th>\n",
       "      <th>authors</th>\n",
       "      <th>originalId</th>\n",
       "      <th>profileId</th>\n",
       "      <th>sourceId</th>\n",
       "      <th>title</th>\n",
       "      <th>venue</th>\n",
       "      <th>year</th>\n",
       "    </tr>\n",
       "  </thead>\n",
       "  <tbody>\n",
       "    <tr>\n",
       "      <th>0</th>\n",
       "      <td>Benjamin Nguyen  Serge Abiteboul  Gregory Cobe...</td>\n",
       "      <td>conf/sigmod/NguyenACP01</td>\n",
       "      <td>0</td>\n",
       "      <td>0</td>\n",
       "      <td>Monitoring XML Data on the Web</td>\n",
       "      <td>SIGMOD Conference</td>\n",
       "      <td>2001</td>\n",
       "    </tr>\n",
       "    <tr>\n",
       "      <th>1</th>\n",
       "      <td>Umeshwar Dayal  Surajit Chaudhuri  Tak W. Yan</td>\n",
       "      <td>conf/sigmod/ChaudhuriDY95</td>\n",
       "      <td>1</td>\n",
       "      <td>0</td>\n",
       "      <td>Join Queries with External Text Sources: Exec...</td>\n",
       "      <td>SIGMOD Conference</td>\n",
       "      <td>1995</td>\n",
       "    </tr>\n",
       "    <tr>\n",
       "      <th>2</th>\n",
       "      <td>Hongjun Lu  Huan Liu  Rudy Setiono</td>\n",
       "      <td>conf/vldb/LuSL95</td>\n",
       "      <td>2</td>\n",
       "      <td>0</td>\n",
       "      <td>NeuroRule: A Connectionist Approach to Data M...</td>\n",
       "      <td>VLDB</td>\n",
       "      <td>1995</td>\n",
       "    </tr>\n",
       "    <tr>\n",
       "      <th>3</th>\n",
       "      <td>Richard T. Snodgrass</td>\n",
       "      <td>journals/sigmod/Snodgrass98</td>\n",
       "      <td>3</td>\n",
       "      <td>0</td>\n",
       "      <td>Chair's Message</td>\n",
       "      <td>SIGMOD Record</td>\n",
       "      <td>1998</td>\n",
       "    </tr>\n",
       "    <tr>\n",
       "      <th>4</th>\n",
       "      <td>Jennifer Widom</td>\n",
       "      <td>journals/sigmod/Widom95</td>\n",
       "      <td>4</td>\n",
       "      <td>0</td>\n",
       "      <td>Editor's Notes</td>\n",
       "      <td>SIGMOD Record</td>\n",
       "      <td>1995</td>\n",
       "    </tr>\n",
       "  </tbody>\n",
       "</table>\n",
       "</div>"
      ],
      "text/plain": [
       "                                             authors  \\\n",
       "0  Benjamin Nguyen  Serge Abiteboul  Gregory Cobe...   \n",
       "1      Umeshwar Dayal  Surajit Chaudhuri  Tak W. Yan   \n",
       "2                 Hongjun Lu  Huan Liu  Rudy Setiono   \n",
       "3                               Richard T. Snodgrass   \n",
       "4                                     Jennifer Widom   \n",
       "\n",
       "                    originalId  profileId  sourceId  \\\n",
       "0      conf/sigmod/NguyenACP01          0         0   \n",
       "1    conf/sigmod/ChaudhuriDY95          1         0   \n",
       "2             conf/vldb/LuSL95          2         0   \n",
       "3  journals/sigmod/Snodgrass98          3         0   \n",
       "4      journals/sigmod/Widom95          4         0   \n",
       "\n",
       "                                               title              venue  year  \n",
       "0                     Monitoring XML Data on the Web  SIGMOD Conference  2001  \n",
       "1   Join Queries with External Text Sources: Exec...  SIGMOD Conference  1995  \n",
       "2   NeuroRule: A Connectionist Approach to Data M...               VLDB  1995  \n",
       "3                                    Chair's Message      SIGMOD Record  1998  \n",
       "4                                     Editor's Notes      SIGMOD Record  1995  "
      ]
     },
     "execution_count": 3,
     "metadata": {},
     "output_type": "execute_result"
    }
   ],
   "source": [
    "file_list = [\"dataset-sample/Dataset1.csv\", \"dataset-sample/Dataset2.csv\"]\n",
    "dataframes = sparker.read_dataset(file_list)\n",
    "dataframes[0].head(5)"
   ]
  },
  {
   "cell_type": "code",
   "execution_count": 4,
   "metadata": {},
   "outputs": [
    {
     "data": {
      "text/html": [
       "<div>\n",
       "<style scoped>\n",
       "    .dataframe tbody tr th:only-of-type {\n",
       "        vertical-align: middle;\n",
       "    }\n",
       "\n",
       "    .dataframe tbody tr th {\n",
       "        vertical-align: top;\n",
       "    }\n",
       "\n",
       "    .dataframe thead th {\n",
       "        text-align: right;\n",
       "    }\n",
       "</style>\n",
       "<table border=\"1\" class=\"dataframe\">\n",
       "  <thead>\n",
       "    <tr style=\"text-align: right;\">\n",
       "      <th></th>\n",
       "      <th>authors</th>\n",
       "      <th>originalId</th>\n",
       "      <th>profileId</th>\n",
       "      <th>sourceId</th>\n",
       "      <th>title</th>\n",
       "      <th>venue</th>\n",
       "      <th>year</th>\n",
       "    </tr>\n",
       "  </thead>\n",
       "  <tbody>\n",
       "    <tr>\n",
       "      <th>0</th>\n",
       "      <td>Yv&amp;#225;n J. Garc&amp;#237;a  Mario A. Lopez  Scot...</td>\n",
       "      <td>671188</td>\n",
       "      <td>1000</td>\n",
       "      <td>1</td>\n",
       "      <td>On Optimal Node Splitting for R-trees</td>\n",
       "      <td>Very Large Data Bases</td>\n",
       "      <td>1998</td>\n",
       "    </tr>\n",
       "    <tr>\n",
       "      <th>1</th>\n",
       "      <td>Amit Shukla  Prasad Deshpande  Jeffrey F. Naug...</td>\n",
       "      <td>671189</td>\n",
       "      <td>1001</td>\n",
       "      <td>1</td>\n",
       "      <td>Materialized View Selection for Multidimensio...</td>\n",
       "      <td>Very Large Data Bases</td>\n",
       "      <td>1998</td>\n",
       "    </tr>\n",
       "    <tr>\n",
       "      <th>2</th>\n",
       "      <td>Yasuhiko Morimoto  Takeshi Fukuda  Hirofumi Ma...</td>\n",
       "      <td>671186</td>\n",
       "      <td>1002</td>\n",
       "      <td>1</td>\n",
       "      <td>Algorithms for Mining Association Rules for B...</td>\n",
       "      <td>Very Large Data Bases</td>\n",
       "      <td>1998</td>\n",
       "    </tr>\n",
       "    <tr>\n",
       "      <th>3</th>\n",
       "      <td>K. Bernhard Schiefer  Jim Kleewein  Karen Bran...</td>\n",
       "      <td>671187</td>\n",
       "      <td>1003</td>\n",
       "      <td>1</td>\n",
       "      <td>IBM's DB2 Universal Database demonstrations a...</td>\n",
       "      <td>Very Large Data Bases</td>\n",
       "      <td>1998</td>\n",
       "    </tr>\n",
       "    <tr>\n",
       "      <th>4</th>\n",
       "      <td>Ashok Joshi  William Bridge  Juan Loaiza  Tirt...</td>\n",
       "      <td>671184</td>\n",
       "      <td>1004</td>\n",
       "      <td>1</td>\n",
       "      <td>Checkpointing in Oracle</td>\n",
       "      <td>Very Large Data Bases</td>\n",
       "      <td>1998</td>\n",
       "    </tr>\n",
       "  </tbody>\n",
       "</table>\n",
       "</div>"
      ],
      "text/plain": [
       "                                             authors originalId  profileId  \\\n",
       "0  Yv&#225;n J. Garc&#237;a  Mario A. Lopez  Scot...     671188       1000   \n",
       "1  Amit Shukla  Prasad Deshpande  Jeffrey F. Naug...     671189       1001   \n",
       "2  Yasuhiko Morimoto  Takeshi Fukuda  Hirofumi Ma...     671186       1002   \n",
       "3  K. Bernhard Schiefer  Jim Kleewein  Karen Bran...     671187       1003   \n",
       "4  Ashok Joshi  William Bridge  Juan Loaiza  Tirt...     671184       1004   \n",
       "\n",
       "   sourceId                                              title  \\\n",
       "0         1              On Optimal Node Splitting for R-trees   \n",
       "1         1   Materialized View Selection for Multidimensio...   \n",
       "2         1   Algorithms for Mining Association Rules for B...   \n",
       "3         1   IBM's DB2 Universal Database demonstrations a...   \n",
       "4         1                            Checkpointing in Oracle   \n",
       "\n",
       "                   venue  year  \n",
       "0  Very Large Data Bases  1998  \n",
       "1  Very Large Data Bases  1998  \n",
       "2  Very Large Data Bases  1998  \n",
       "3  Very Large Data Bases  1998  \n",
       "4  Very Large Data Bases  1998  "
      ]
     },
     "execution_count": 4,
     "metadata": {},
     "output_type": "execute_result"
    }
   ],
   "source": [
    "dataframes[1].head(5)"
   ]
  },
  {
   "cell_type": "markdown",
   "metadata": {},
   "source": [
    "## Training the model\n",
    "No model exists in the implementation, null returned by train() method."
   ]
  },
  {
   "cell_type": "code",
   "execution_count": 5,
   "metadata": {},
   "outputs": [],
   "source": [
    "model = sparker.train(dataframes)"
   ]
  },
  {
   "cell_type": "markdown",
   "metadata": {},
   "source": [
    "## Predict blocking\n",
    "Returns a List of tuples. Each tuple contains a pair of ids of entities that exist in the same block."
   ]
  },
  {
   "cell_type": "code",
   "execution_count": 6,
   "metadata": {},
   "outputs": [
    {
     "name": "stdout",
     "output_type": "stream",
     "text": [
      "[(u'conf/sigmod/NguyenACP01', u'672205'), (u'conf/vldb/LuSL95', u'758364'), (u'conf/sigmod/SzalayGTKMRSv02', u'245905'), (u'conf/sigmod/SzalayGTKMRSv02', u'671183'), (u'journals/sigmod/Ahlberg96', u'245893'), (u'conf/vldb/Sol01', u'672997'), (u'conf/sigmod/Fernandez94', u'191947'), (u'journals/sigmod/DogacAOD95', u'202662'), (u'conf/vldb/AmbiteKKMST01', u'672186'), (u'journals/sigmod/UrbanDG96', u'672998')]\n"
     ]
    }
   ],
   "source": [
    "predicted_pair_list = sparker.predict(dataframe_list = dataframes)\n",
    "print(predicted_pair_list[0][:10])"
   ]
  },
  {
   "cell_type": "markdown",
   "metadata": {},
   "source": [
    "## Evaluation\n",
    "Takes as input the file path to the groundtruth and the dataframes from the read_dataset().\n",
    "Returns Precision, Recall and Block size reduction (using Token blocking as the baseline)."
   ]
  },
  {
   "cell_type": "code",
   "execution_count": 7,
   "metadata": {},
   "outputs": [
    {
     "name": "stdout",
     "output_type": "stream",
     "text": [
      "Precision: 0.40589569161 Recall: 0.959785522788 block_size_reduction: 0.999299803834\n"
     ]
    }
   ],
   "source": [
    "groundtruth = \"dataset-sample/articlesGround.csv\"\n",
    "precision, recall, block_reduction = sparker.evaluate(groundtruth, dataframes)\n",
    "print(\"Precision: \" + str(precision) + \" Recall: \"+ str(recall)+\" block_size_reduction: \"+str(block_reduction))"
   ]
  },
  {
   "cell_type": "code",
   "execution_count": null,
   "metadata": {},
   "outputs": [],
   "source": []
  }
 ],
 "metadata": {
  "kernelspec": {
   "display_name": "Python 2",
   "language": "python",
   "name": "python2"
  },
  "language_info": {
   "codemirror_mode": {
    "name": "ipython",
    "version": 2
   },
   "file_extension": ".py",
   "mimetype": "text/x-python",
   "name": "python",
   "nbconvert_exporter": "python",
   "pygments_lexer": "ipython2",
   "version": "2.7.15rc1"
  }
 },
 "nbformat": 4,
 "nbformat_minor": 2
}
