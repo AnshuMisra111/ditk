{
 "cells": [
  {
   "cell_type": "markdown",
   "metadata": {},
   "source": [
    "# TransE"
   ]
  },
  {
   "cell_type": "markdown",
   "metadata": {},
   "source": [
    "- Simple description of TransE and this notebook"
   ]
  },
  {
   "cell_type": "markdown",
   "metadata": {},
   "source": [
    "## 1. Import the nessecery libarary and files"
   ]
  },
  {
   "cell_type": "code",
   "execution_count": 1,
   "metadata": {},
   "outputs": [],
   "source": [
    "import sys\n",
    "import os\n",
    "import tensorflow as tf\n",
    "from graph_embedding_transE import MyTransE\n",
    "\n",
    "import warnings\n",
    "warnings.filterwarnings('ignore')"
   ]
  },
  {
   "cell_type": "markdown",
   "metadata": {},
   "source": [
    "## 2. Set up import variables"
   ]
  },
  {
   "cell_type": "code",
   "execution_count": 2,
   "metadata": {},
   "outputs": [],
   "source": [
    "input_folder = './data/WN18/'\n",
    "output_folder = './output'\n",
    "\n",
    "graph_embedding = MyTransE()"
   ]
  },
  {
   "cell_type": "markdown",
   "metadata": {},
   "source": [
    "## 3. Read the data"
   ]
  },
  {
   "cell_type": "code",
   "execution_count": 3,
   "metadata": {
    "collapsed": true
   },
   "outputs": [
    {
     "name": "stdout",
     "output_type": "stream",
     "text": [
      "-----Loading entity dict-----\n",
      "#entity: 40943\n",
      "-----Loading relation dict-----\n",
      "#relation: 18\n",
      "-----Loading training triples-----\n",
      "#training triple: 141442\n",
      "-----Loading validation triples-----\n",
      "#validation triple: 5000\n",
      "-----Loading test triples------\n",
      "#test triple: 5000\n"
     ]
    }
   ],
   "source": [
    "train, validation, test = graph_embedding.read_dataset(input_folder)"
   ]
  },
  {
   "cell_type": "markdown",
   "metadata": {},
   "source": [
    "#### 3.1.Visualize the data"
   ]
  },
  {
   "cell_type": "code",
   "execution_count": 4,
   "metadata": {
    "collapsed": true
   },
   "outputs": [
    {
     "name": "stdout",
     "output_type": "stream",
     "text": [
      "Train: \n",
      "[(27536, 33729, 10), (25546, 10838, 5), (1213, 38780, 6), (4207, 6437, 2), (27541, 34437, 2)]\n",
      "Validation: \n",
      "[(18394, 30466, 5), (4484, 32979, 2), (9388, 13671, 9), (26213, 3112, 1), (21878, 36397, 5)]\n",
      "Test: \n",
      "[(7951, 38768, 8), (20391, 18987, 14), (13820, 25808, 10), (16395, 29310, 3), (11866, 20457, 1)]\n"
     ]
    }
   ],
   "source": [
    "print(\"Train: \")\n",
    "print(train[:5])\n",
    "print(\"Validation: \")\n",
    "print(validation[:5])\n",
    "print(\"Test: \")\n",
    "print(test[:5])"
   ]
  },
  {
   "cell_type": "markdown",
   "metadata": {},
   "source": [
    "## 4. Embeded the training data"
   ]
  },
  {
   "cell_type": "code",
   "execution_count": 5,
   "metadata": {
    "collapsed": true
   },
   "outputs": [
    {
     "name": "stdout",
     "output_type": "stream",
     "text": [
      "WARNING:tensorflow:From /home/sandie/.local/lib/python3.6/site-packages/tensorflow/python/framework/op_def_library.py:263: colocate_with (from tensorflow.python.framework.ops) is deprecated and will be removed in a future version.\n",
      "Instructions for updating:\n",
      "Colocations handled automatically by placer.\n",
      "WARNING:tensorflow:From /home/sandie/USC/CSCI-548/Paper1-TransE/Code/TransE-master/TransE-master/src/model.py:51: calling l2_normalize (from tensorflow.python.ops.nn_impl) with dim is deprecated and will be removed in a future version.\n",
      "Instructions for updating:\n",
      "dim is deprecated, use axis instead\n",
      "WARNING:tensorflow:From /home/sandie/.local/lib/python3.6/site-packages/tensorflow/python/ops/math_ops.py:3066: to_int32 (from tensorflow.python.ops.math_ops) is deprecated and will be removed in a future version.\n",
      "Instructions for updating:\n",
      "Use tf.cast instead.\n",
      "-----Initializing tf graph-----\n",
      "-----Initialization accomplished-----\n",
      "-----Check norm-----\n",
      "entity norm: [1.         1.         1.         ... 0.99999994 1.         0.99999994] relation norm: [1.         1.         0.9999999  1.         1.0000001  0.99999994\n",
      " 1.0000001  1.         0.9999999  1.0000001  1.         0.9999999\n",
      " 1.         0.99999994 1.0000001  1.         1.         1.        ]\n",
      "==============================[EPOCH 0]==============================\n",
      "-----Start training-----\n",
      "-----Constructing training batches-----\n",
      "[16.600s] #triple: 141442/141442 triple_avg_loss: 1.039102\n",
      "epoch loss: 152577.817\n",
      "cost time: 16.600s\n",
      "-----Finish training-----\n",
      "-----Check norm-----\n",
      "entity norm: [0.9999999  1.         1.         ... 1.         1.         0.99999994] relation norm: [0.99999994 1.         1.         1.         1.         0.9999999\n",
      " 1.         1.         1.         0.99999994 0.99999994 1.\n",
      " 1.         0.99999994 0.99999994 1.         0.9999999  0.9999999 ]\n",
      "==============================[EPOCH 1]==============================\n",
      "-----Start training-----\n",
      "-----Constructing training batches-----\n",
      "[19.187s] #triple: 141442/141442 triple_avg_loss: 0.827756\n",
      "epoch loss: 121596.158\n",
      "cost time: 19.188s\n",
      "-----Finish training-----\n",
      "-----Check norm-----\n",
      "entity norm: [1.         0.99999994 1.         ... 1.         1.         1.        ] relation norm: [0.99999994 0.99999994 1.         1.0000001  0.99999994 0.99999994\n",
      " 1.         0.9999999  0.99999994 0.99999994 0.9999999  0.9999999\n",
      " 0.99999994 0.99999994 0.99999994 1.         1.         1.        ]\n",
      "==============================[EPOCH 2]==============================\n",
      "-----Start training-----\n",
      "-----Constructing training batches-----\n",
      "[20.321s] #triple: 141442/141442 triple_avg_loss: 0.774289\n",
      "epoch loss: 111327.068\n",
      "cost time: 20.321s\n",
      "-----Finish training-----\n",
      "-----Check norm-----\n",
      "entity norm: [0.99999994 0.99999994 1.0000001  ... 1.         0.99999994 0.99999994] relation norm: [0.9999999  1.         1.         1.         1.         1.\n",
      " 0.99999994 1.         1.0000001  1.         1.         1.\n",
      " 1.         1.0000001  1.         0.9999999  1.         0.9999999 ]\n"
     ]
    }
   ],
   "source": [
    "embedding_vector, n_entity, n_relation = graph_embedding.learn_embeddings(300, 1.0, 4800)"
   ]
  },
  {
   "cell_type": "markdown",
   "metadata": {},
   "source": [
    "#### 4.1. Total number of embededed items\n"
   ]
  },
  {
   "cell_type": "code",
   "execution_count": 26,
   "metadata": {
    "collapsed": true
   },
   "outputs": [
    {
     "name": "stdout",
     "output_type": "stream",
     "text": [
      "Number of entities embeded: \n",
      "40943\n",
      "Number of relations embeded: \n",
      "18\n",
      "\n",
      "Number of all items embeded: \n",
      "40961\n",
      "Total embedding shape: \n",
      "(40961, 300)\n"
     ]
    }
   ],
   "source": [
    "print(\"Number of entities embeded: \")\n",
    "print(n_entity)\n",
    "print(\"Number of relations embeded: \")\n",
    "print(n_relation)\n",
    "print(\"\\nNumber of all items embeded: \")\n",
    "print(n_relation + n_entity)\n",
    "print(\"Total embedding shape: \")\n",
    "print(embedding_vector.shape)"
   ]
  },
  {
   "cell_type": "markdown",
   "metadata": {},
   "source": [
    "#### 4.2.Visualize the embeddings"
   ]
  },
  {
   "cell_type": "code",
   "execution_count": 29,
   "metadata": {
    "collapsed": true
   },
   "outputs": [
    {
     "name": "stdout",
     "output_type": "stream",
     "text": [
      "Example of entity embedding:\n",
      "5451384\n",
      "[-2.69367434e-02 -8.76000151e-02 -2.31881626e-02 -5.36649898e-02\n",
      " -8.56504589e-02  4.02529389e-02  6.52538538e-02 -5.08048534e-02\n",
      "  7.40457028e-02 -4.35184538e-02 -9.59738195e-02  5.60055636e-02\n",
      "  2.18235087e-02  2.54611839e-02 -3.10602449e-02 -6.85259514e-03\n",
      "  7.01067001e-02  7.74228722e-02  2.73342803e-02 -1.78465880e-02\n",
      "  6.92664161e-02 -6.73867092e-02 -5.29343709e-02 -1.87679869e-03\n",
      "  6.37625828e-02  7.93009177e-02 -5.15526868e-02  3.88743840e-02\n",
      " -7.91560784e-02 -3.18512954e-02  2.62467633e-03 -8.15529004e-02\n",
      " -3.13184448e-02 -7.38253742e-02  9.94879007e-02 -9.40203965e-02\n",
      " -2.75339540e-02 -3.94288041e-02 -7.50383958e-02  8.14926177e-02\n",
      " -2.94296164e-02 -1.86422206e-02 -5.31846136e-02  1.32758077e-02\n",
      " -1.00749120e-01  6.19158633e-02 -7.70844817e-02 -1.42539516e-02\n",
      " -8.81159976e-02 -8.72334540e-02  4.02178690e-02  8.90854821e-02\n",
      " -2.49503832e-02  2.32365839e-02  2.24379301e-02 -3.90774384e-03\n",
      "  3.25749107e-02  2.69018952e-02  4.48907278e-02  8.06510299e-02\n",
      "  8.15322474e-02  2.05975194e-02  8.80948752e-02  4.57385108e-02\n",
      "  3.19726579e-02 -4.01651114e-02 -6.17923252e-02  4.94236089e-02\n",
      "  3.28929909e-02 -1.57198366e-02  3.66601460e-02  4.88795480e-03\n",
      "  4.64514717e-02  1.89798325e-03 -8.24307129e-02 -1.35797411e-02\n",
      "  7.85249248e-02  3.15395668e-02 -8.64347443e-02  5.92870191e-02\n",
      " -7.73726106e-02 -4.72513363e-02  2.97759343e-02 -4.35579605e-02\n",
      "  2.67762784e-02  1.96193252e-02  1.50698805e-02 -4.03852537e-02\n",
      " -5.62029099e-03  4.80903126e-02 -3.54136787e-02 -6.75524250e-02\n",
      " -7.56479576e-02  3.21251340e-02  2.21990086e-02 -4.07841951e-02\n",
      " -9.72461551e-02 -1.73454899e-02 -8.10291693e-02  5.76198697e-02\n",
      " -5.02924286e-02  7.34005570e-02  4.47657518e-02 -7.46604130e-02\n",
      " -8.50235000e-02  6.85402602e-02 -8.59092623e-02 -8.13086331e-02\n",
      "  9.25052539e-02  4.07037400e-02  5.44851981e-02 -8.64171237e-02\n",
      "  7.78646022e-02  8.67960751e-02  8.25072750e-02  1.30434446e-02\n",
      "  2.94295922e-02 -5.33363596e-02 -3.11135082e-03 -8.20863619e-02\n",
      " -5.88403307e-02 -4.31719720e-02  7.10831061e-02  7.47174770e-02\n",
      "  8.37851912e-02 -2.59372760e-02  4.68946956e-02  5.61911687e-02\n",
      "  1.92631539e-02  1.98906716e-02  1.20210005e-02 -8.47718343e-02\n",
      "  2.55795214e-02  2.76520271e-02 -6.64763302e-02  2.83316132e-02\n",
      " -9.97972637e-02 -9.70117152e-02  4.90101986e-03 -8.30188990e-02\n",
      "  4.72514704e-02  8.75936449e-02  8.11972171e-02 -9.06860530e-02\n",
      " -5.87299094e-02 -3.56721170e-02  3.58570293e-02 -1.84938889e-02\n",
      "  2.45744493e-02 -9.43602622e-02 -2.05217805e-02 -9.03281942e-02\n",
      " -8.37995261e-02 -5.01302397e-03 -7.34114647e-02  3.47065888e-02\n",
      " -4.82674576e-02  1.13955867e-02 -6.87575564e-02 -4.03760076e-02\n",
      "  4.05817106e-02 -5.53433364e-03  9.17345136e-02 -4.67604175e-02\n",
      "  6.23925216e-02 -1.20198969e-02 -8.48441273e-02  2.21793912e-02\n",
      " -1.77590549e-02  4.81066890e-02 -2.51706801e-02 -5.46920747e-02\n",
      " -2.05986574e-02  1.29848076e-02  7.68584982e-02  2.61579553e-04\n",
      " -2.72768289e-02  5.51497517e-03 -7.96265826e-02  4.45224307e-02\n",
      "  9.60199162e-02 -7.81928450e-02  3.76159735e-02  2.10238472e-02\n",
      " -8.07418078e-02  4.49184561e-03 -2.32237745e-02  9.56625270e-04\n",
      " -1.92488625e-03  4.90640029e-02 -1.92608144e-02 -8.73746276e-02\n",
      "  1.21141411e-02  9.94731039e-02  2.07161251e-03 -7.35544041e-02\n",
      "  6.60915151e-02  2.41022743e-02  6.92497194e-02  6.65869191e-02\n",
      " -7.48886168e-02  7.07775876e-02 -6.65666759e-02  9.59721729e-02\n",
      " -5.07402718e-02  3.10660433e-02  2.62835734e-02  9.21915621e-02\n",
      " -2.45243739e-02 -8.75433162e-02 -1.12206209e-02 -2.08940692e-02\n",
      "  3.76047730e-03  1.52696418e-02  6.43586740e-02  4.07817960e-02\n",
      "  7.39196539e-02  1.54504355e-03 -9.25537720e-02 -6.81698322e-02\n",
      " -3.34396958e-02 -1.48486234e-02 -6.15348518e-02 -4.36773570e-03\n",
      " -7.58320540e-02 -5.82835972e-02 -8.27662274e-02  3.03494111e-02\n",
      "  9.65109840e-02 -4.14939746e-02  4.48998585e-02 -7.55180512e-03\n",
      " -5.24069481e-02  1.31920399e-02  1.42134922e-02 -3.32357809e-02\n",
      "  9.24425647e-02 -6.06474653e-02 -4.61028069e-02 -4.23528105e-02\n",
      "  5.20348367e-05 -2.10990887e-02  6.31792620e-02 -3.83171812e-02\n",
      "  4.81651872e-02  2.05911882e-02  7.17222095e-02 -8.12360570e-02\n",
      "  6.95409402e-02 -8.56283456e-02 -7.71496370e-02 -4.78199078e-03\n",
      "  9.56308693e-02  3.36187035e-02  8.46215487e-02  3.41538414e-02\n",
      "  4.43608835e-02  2.83214841e-02  7.30387419e-02 -1.42214717e-02\n",
      " -8.88541117e-02 -7.60715380e-02 -6.83735982e-02  4.29998972e-02\n",
      " -5.87511919e-02 -6.77205920e-02 -9.02146921e-02 -8.19507614e-02\n",
      " -8.34377706e-02 -1.25597778e-03 -5.44537827e-02  9.74794775e-02\n",
      " -6.37284890e-02  8.27549845e-02  6.44306242e-02 -3.57967094e-02\n",
      " -6.23986535e-02  1.69043355e-02 -9.09872428e-02  7.47997537e-02\n",
      "  6.98647415e-03  8.41184855e-02  6.23559169e-02  3.31624150e-02\n",
      "  6.38419241e-02  5.03773615e-02 -2.67719268e-03  8.40715617e-02\n",
      "  2.19463930e-02  6.33360073e-02 -7.79364705e-02  5.53924544e-03\n",
      "  1.79077294e-02  3.21429372e-02 -7.36822784e-02 -1.74724683e-02\n",
      " -4.37032171e-02 -8.87228772e-02 -4.29791249e-02 -4.40268107e-02]\n"
     ]
    }
   ],
   "source": [
    "print(\"Example of entity embedding:\")\n",
    "print(list(graph_embedding.kg.entity_dict.keys())[0])\n",
    "print(graph_embedding.graph_embedded_entity[0])"
   ]
  },
  {
   "cell_type": "code",
   "execution_count": 17,
   "metadata": {
    "collapsed": true
   },
   "outputs": [
    {
     "name": "stdout",
     "output_type": "stream",
     "text": [
      "Example of relation embedding:\n",
      "_member_of_domain_topic\n",
      "[ 2.54438818e-02  3.89032215e-02  8.90613869e-02 -6.45511374e-02\n",
      "  3.45482267e-02 -4.99050366e-03 -4.51832786e-02 -7.56547824e-02\n",
      " -4.63472120e-02  6.96326271e-02 -9.15294420e-03  2.72889454e-02\n",
      "  7.94685930e-02 -9.79181305e-02 -1.51859978e-02  9.83998701e-02\n",
      "  1.94938723e-02 -5.44601753e-02  6.95342049e-02 -6.95825815e-02\n",
      " -6.67734668e-02  9.77309048e-02 -5.59168048e-02  3.17540504e-02\n",
      "  2.34657992e-02 -1.86211653e-02 -4.95344587e-02  7.49280229e-02\n",
      " -2.35728677e-02  5.35554476e-02  8.63311142e-02 -2.20030416e-02\n",
      "  4.18891273e-02  5.00838198e-02  9.78499353e-02  9.70856249e-02\n",
      "  3.11912410e-02 -1.10485498e-02 -1.01010226e-01  5.93851916e-02\n",
      "  6.54097125e-02 -5.20832688e-02 -7.54457116e-02  1.45373670e-02\n",
      "  5.65107763e-02 -4.72183432e-03 -7.89238513e-02 -1.92420203e-02\n",
      "  4.54906374e-02 -6.68316782e-02 -7.30412826e-02  6.18082322e-02\n",
      "  5.58396056e-02  8.95752534e-02  3.57234478e-02 -7.88548067e-02\n",
      "  8.27484280e-02 -8.65028873e-02  7.07085505e-02  2.65175756e-02\n",
      "  7.33887404e-03 -3.40663269e-02 -1.18722254e-02 -1.85835697e-02\n",
      " -7.64372712e-03  9.84411463e-02  5.13326377e-02 -7.23140538e-02\n",
      "  6.61256760e-02  1.04703987e-02  5.34722432e-02 -6.23197760e-03\n",
      " -3.81881893e-02 -3.77336815e-02  9.00719464e-02  2.14663278e-02\n",
      "  4.65387367e-02 -8.02775547e-02  1.00194402e-01 -1.08504817e-02\n",
      "  1.43994810e-03 -8.16029832e-02  1.72449537e-02 -9.16598514e-02\n",
      "  8.20889696e-03 -1.11287227e-02 -3.57983448e-03 -5.33890761e-02\n",
      " -1.26990378e-02 -2.21877843e-02 -6.00860119e-02  4.85897884e-02\n",
      " -5.13977883e-03 -1.59549750e-02 -4.10242938e-02 -9.29239616e-02\n",
      " -4.07693423e-02 -8.13646466e-02  2.33000815e-02 -7.36677349e-02\n",
      " -5.89623488e-02 -6.26833588e-02 -1.76909752e-02 -5.59272990e-02\n",
      "  8.10667314e-03  6.08137920e-02 -6.04975000e-02  4.05744463e-02\n",
      " -7.65201747e-02  8.80518407e-02  1.17812967e-02  8.41605589e-02\n",
      "  1.58119090e-02 -6.15722537e-02 -3.17332335e-02 -2.96467785e-02\n",
      " -9.25246179e-02 -7.94576630e-02 -3.12074739e-02 -1.04436669e-02\n",
      "  3.71212997e-02 -6.51791543e-02 -5.99293225e-02 -8.02982599e-02\n",
      " -4.87697944e-02  4.06309962e-02 -9.52810273e-02  4.71620336e-02\n",
      "  5.51503412e-02  6.29716292e-02  6.25802800e-02 -7.22171143e-02\n",
      "  6.01034090e-02  8.41137543e-02  3.30764540e-02 -7.16266111e-02\n",
      " -5.09755127e-03  3.56445350e-02  7.88951963e-02  5.31068556e-02\n",
      "  9.90665779e-02  3.44392844e-02 -2.68550087e-02  1.22215524e-02\n",
      " -6.28085956e-02 -5.26053533e-02 -9.68794301e-02 -7.14784339e-02\n",
      "  5.71129099e-02 -1.40176406e-02  8.59706253e-02 -4.83051091e-02\n",
      "  4.98114303e-02 -7.03639165e-02 -2.70132497e-02 -2.75008231e-02\n",
      "  3.52510624e-02 -5.68227731e-02 -6.39860034e-02 -5.31223565e-02\n",
      "  6.98475391e-02  1.88848116e-02  2.89066508e-02  1.54859852e-02\n",
      "  8.74727484e-05 -8.04368779e-02 -9.93501246e-02 -8.21424797e-02\n",
      "  5.78761175e-02 -1.80986356e-02 -3.63688022e-02 -9.32925195e-02\n",
      " -3.77209708e-02 -9.21350271e-02 -2.68991068e-02  4.59246226e-02\n",
      "  8.12682435e-02  7.58790374e-02 -7.65377954e-02 -6.91317767e-02\n",
      " -8.73615816e-02 -2.46202257e-02 -3.87854800e-02 -2.14181971e-02\n",
      "  5.76496944e-02 -5.07792123e-02  3.91810834e-02 -4.11117077e-02\n",
      "  4.37143259e-02  6.92703798e-02  7.22353458e-02 -8.86619613e-02\n",
      " -2.65827179e-02  4.53779809e-02  5.59046008e-02 -2.51188632e-02\n",
      "  3.18638608e-02  2.68248823e-02 -7.30338618e-02  6.11702204e-02\n",
      "  7.44183436e-02 -5.38693070e-02 -5.99833345e-03  6.40658662e-02\n",
      " -3.33549492e-02 -7.00228214e-02  7.82970786e-02  5.02501503e-02\n",
      " -2.76476294e-02 -6.43910747e-03 -7.22397193e-02  2.53077932e-02\n",
      " -8.31623450e-02 -6.98058009e-02 -5.97327501e-02  9.91916135e-02\n",
      "  5.03731482e-02 -2.36444920e-02  7.96321407e-03 -5.14999069e-02\n",
      "  3.68576199e-02  5.91729768e-02  7.41582066e-02 -4.62838262e-02\n",
      "  6.69531291e-03  5.90538941e-02 -2.06604507e-02  5.00933975e-02\n",
      " -1.00098044e-01  1.36928717e-02 -8.48290697e-02 -8.69996473e-02\n",
      " -3.20481583e-02  9.55450684e-02 -4.72727194e-02  7.48690143e-02\n",
      " -9.43048596e-02  9.06866565e-02  5.85108660e-02 -2.89490316e-02\n",
      "  5.19011410e-05 -7.02576563e-02 -3.90044451e-02 -4.50754352e-02\n",
      " -9.06216055e-02  6.45968644e-03  2.03794464e-02 -1.47628970e-02\n",
      "  7.80059844e-02  9.14885700e-02 -9.04706866e-02  5.00626005e-02\n",
      "  7.95977488e-02 -2.94110738e-02 -7.33249933e-02 -7.15931728e-02\n",
      "  2.20826827e-03 -5.71178347e-02  1.94433108e-02 -5.70424087e-02\n",
      "  4.24147770e-02  1.50580974e-02 -4.58783098e-02 -2.12740004e-02\n",
      " -2.13693064e-02 -1.04126008e-02  4.94535826e-02 -7.10942224e-02\n",
      "  8.19046348e-02 -1.01308962e-02 -2.60934476e-02 -7.91465640e-02\n",
      " -4.47944878e-03  4.81515266e-02 -2.24616583e-02  8.96516144e-02\n",
      " -1.12554561e-02  7.76369078e-03 -9.84288901e-02 -2.79993713e-02\n",
      "  1.01304930e-02 -7.89320387e-04 -2.42327768e-02 -1.33110899e-02\n",
      "  2.69636791e-02  6.20976798e-02  5.70900962e-02 -1.28850928e-02\n",
      "  8.50254148e-02  7.71496594e-02  6.96313158e-02  5.56912012e-02\n",
      "  8.42565000e-02  6.29128935e-03  1.01274230e-01  7.44829252e-02\n",
      " -7.39448518e-02  4.63527851e-02  8.29497501e-02 -3.79838585e-03]\n"
     ]
    }
   ],
   "source": [
    "print(\"Example of relation embedding:\")\n",
    "print(list(graph_embedding.kg.relation_dict.keys())[0])\n",
    "print(graph_embedding.graph_embedded_relations[0])"
   ]
  },
  {
   "cell_type": "markdown",
   "metadata": {},
   "source": [
    "## 5. Evaluation"
   ]
  },
  {
   "cell_type": "code",
   "execution_count": 30,
   "metadata": {},
   "outputs": [
    {
     "name": "stdout",
     "output_type": "stream",
     "text": [
      "WARNING:tensorflow:From /home/sandie/.local/lib/python3.6/site-packages/tensorflow/python/util/tf_should_use.py:193: initialize_all_variables (from tensorflow.python.ops.variables) is deprecated and will be removed after 2017-03-02.\n",
      "Instructions for updating:\n",
      "Use `tf.global_variables_initializer` instead.\n",
      "-----Start evaluation-----\n",
      "[1737.234s] #evaluation triple: 5000/5000\n",
      "-----Joining all rank calculator-----\n",
      "-----All rank calculation accomplished-----\n",
      "-----Obtaining evaluation results-----\n",
      "-----Raw-----\n",
      "-----Head prediction-----\n",
      "MeanRank: 20678.223, Hits@10: 0.000\n",
      "-----Tail prediction-----\n",
      "MeanRank: 20529.067, Hits@10: 0.000\n",
      "------Average------\n",
      "MeanRank: 20603.645, Hits@10: 0.000\n",
      "-----Filter-----\n",
      "-----Head prediction-----\n",
      "MeanRank: 20669.513, Hits@10: 0.000\n",
      "-----Tail prediction-----\n",
      "MeanRank: 20520.718, Hits@10: 0.000\n",
      "-----Average-----\n",
      "MeanRank: 20595.116, Hits@10: 0.000\n",
      "cost time: 1737.527s\n",
      "-----Finish evaluation-----\n",
      "-----Head prediction-----\n",
      "MeanRank: 20669.513, Hits@10: 0.000\n",
      "-----Tail prediction-----\n",
      "MeanRank: 20520.718, Hits@10: 0.000\n",
      "-----Average-----\n",
      "MeanRank: 20595.116, Hits@10: 0.000\n"
     ]
    }
   ],
   "source": [
    "evaluations = graph_embedding.evaluate()"
   ]
  },
  {
   "cell_type": "code",
   "execution_count": 31,
   "metadata": {},
   "outputs": [
    {
     "name": "stdout",
     "output_type": "stream",
     "text": [
      "-----Average-----\n",
      "MeanRank: 20595.116, Hits@10: 0.000\n"
     ]
    }
   ],
   "source": [
    "print('-----Average-----')\n",
    "print('MeanRank: {:.3f}, Hits@10: {:.3f}'.format(evaluations['MRR'],evaluations['Hits']))"
   ]
  },
  {
   "cell_type": "code",
   "execution_count": null,
   "metadata": {},
   "outputs": [],
   "source": []
  }
 ],
 "metadata": {
  "kernelspec": {
   "display_name": "Python 3",
   "language": "python",
   "name": "python3"
  },
  "language_info": {
   "codemirror_mode": {
    "name": "ipython",
    "version": 3
   },
   "file_extension": ".py",
   "mimetype": "text/x-python",
   "name": "python",
   "nbconvert_exporter": "python",
   "pygments_lexer": "ipython3",
   "version": "3.6.8"
  }
 },
 "nbformat": 4,
 "nbformat_minor": 2
}
