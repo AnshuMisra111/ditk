{
 "cells": [
  {
   "cell_type": "code",
   "execution_count": 21,
   "metadata": {},
   "outputs": [],
   "source": [
    "import sys, os\n",
    "#for the path, provide the path to the main directory where the subclass file (refactored code) is given\n",
    "sys.path.insert(0,\"/Users/tushyagautam/Documents/USC/Information_Integration/Project/Neural-LP-master/src/\")\n",
    "from kgc_refactor import KGC_NeuralLP\n",
    "import tensorflow as tf"
   ]
  },
  {
   "cell_type": "code",
   "execution_count": 22,
   "metadata": {},
   "outputs": [],
   "source": [
    "#create an object of class KGC_NeuralLP()\n",
    "obj=KGC_NeuralLP()"
   ]
  },
  {
   "cell_type": "code",
   "execution_count": 23,
   "metadata": {
    "scrolled": true
   },
   "outputs": [
    {
     "name": "stdout",
     "output_type": "stream",
     "text": [
      "{'no_link_percent': 0.0, 'resplit': False, 'domain_size': 128, 'accuracy': False, 'dropout': 0.0, 'print_per_batch': 3, 'vocab_embed_size': 128, 'batch_size': 64, 'no_norm': False, 'thr': 1e-20, 'get_phead': False, 'seed': 33, 'num_step': 3, 'gpu': '', 'exps_dir': 'exps/', 'rnn_state_size': 128, 'get_vocab_embed': False, 'type_check': False, 'exp_name': 'demo', 'query_embed_size': 128, 'rule_thr': 0.01, 'no_preds': False, 'top_k': 10, 'no_train': False, 'rand_break': False, 'datadir': '/Users/tushyagautam/Documents/USC/Information_Integration/Project/Neural-LP-master/datasets/kinship', 'num_layer': 1, 'adv_rank': False, 'no_rules': False, 'max_epoch': 10, 'no_extra_facts': False, 'from_model_ckpt': None, 'query_is_language': False, 'learning_rate': 0.001, 'min_epoch': 5}\n",
      "('/Users/tushyagautam/Documents/USC/Information_Integration/Project/Neural-LP-master/datasets/kinship', 'exps/', 'demo')\n",
      "Data prepared.\n",
      "Option saved.\n",
      "Learner built.\n",
      "Session initialized.\n",
      "Experiment created.\n",
      "Start training...\n",
      "11/34\t22/34\t33/34\tEpoch 1 mode train Loss 5.0737 In top 0.1712. Time elapsed 0.00 hrs (0.1 mins)\n",
      "6/18\t12/18\t18/18\tEpoch 1 mode valid Loss 4.4602 In top 0.3740. Time elapsed 0.00 hrs (0.1 mins)\n",
      "6/18\t12/18\t18/18\tEpoch 1 mode test Loss 4.4992 In top 0.3659. Time elapsed 0.00 hrs (0.1 mins)\n",
      "Model saved at exps/demo/ckpt/model-1\n",
      "11/34\t22/34\t33/34\tEpoch 2 mode train Loss 3.9095 In top 0.5094. Time elapsed 0.00 hrs (0.1 mins)\n",
      "6/18\t12/18\t18/18\tEpoch 2 mode valid Loss 3.6253 In top 0.5960. Time elapsed 0.00 hrs (0.1 mins)\n",
      "6/18\t12/18\t18/18\tEpoch 2 mode test Loss 3.6275 In top 0.6014. Time elapsed 0.00 hrs (0.1 mins)\n",
      "Model saved at exps/demo/ckpt/model-2\n",
      "11/34\t22/34\t33/34\tEpoch 3 mode train Loss 3.5563 In top 0.6050. Time elapsed 0.00 hrs (0.2 mins)\n",
      "6/18\t12/18\t18/18\tEpoch 3 mode valid Loss 3.4828 In top 0.6237. Time elapsed 0.00 hrs (0.2 mins)\n",
      "6/18\t12/18\t18/18\tEpoch 3 mode test Loss 3.4705 In top 0.6323. Time elapsed 0.00 hrs (0.2 mins)\n",
      "Model saved at exps/demo/ckpt/model-3\n",
      "11/34\t22/34\t33/34\tEpoch 4 mode train Loss 3.4027 In top 0.6349. Time elapsed 0.00 hrs (0.2 mins)\n",
      "6/18\t12/18\t18/18\tEpoch 4 mode valid Loss 3.3428 In top 0.6483. Time elapsed 0.00 hrs (0.2 mins)\n",
      "6/18\t12/18\t18/18\tEpoch 4 mode test Loss 3.3065 In top 0.6518. Time elapsed 0.00 hrs (0.2 mins)\n",
      "Model saved at exps/demo/ckpt/model-4\n",
      "11/34\t22/34\t33/34\tEpoch 5 mode train Loss 3.2231 In top 0.6608. Time elapsed 0.00 hrs (0.2 mins)\n",
      "6/18\t12/18\t18/18\tEpoch 5 mode valid Loss 3.1651 In top 0.6661. Time elapsed 0.00 hrs (0.3 mins)\n",
      "6/18\t12/18\t18/18\tEpoch 5 mode test Loss 3.1034 In top 0.6659. Time elapsed 0.00 hrs (0.3 mins)\n",
      "Model saved at exps/demo/ckpt/model-5\n",
      "11/34\t22/34\t33/34\tEpoch 6 mode train Loss 3.1029 In top 0.6756. Time elapsed 0.00 hrs (0.3 mins)\n",
      "6/18\t12/18\t18/18\tEpoch 6 mode valid Loss 3.0918 In top 0.6752. Time elapsed 0.01 hrs (0.3 mins)\n",
      "6/18\t12/18\t18/18\tEpoch 6 mode test Loss 3.0375 In top 0.6691. Time elapsed 0.01 hrs (0.3 mins)\n",
      "Model saved at exps/demo/ckpt/model-6\n",
      "11/34\t22/34\t33/34\tEpoch 7 mode train Loss 3.0595 In top 0.6788. Time elapsed 0.01 hrs (0.3 mins)\n",
      "6/18\t12/18\t18/18\tEpoch 7 mode valid Loss 3.0684 In top 0.6756. Time elapsed 0.01 hrs (0.4 mins)\n",
      "6/18\t12/18\t18/18\tEpoch 7 mode test Loss 3.0270 In top 0.6741. Time elapsed 0.01 hrs (0.4 mins)\n",
      "Model saved at exps/demo/ckpt/model-7\n",
      "11/34\t22/34\t33/34\tEpoch 8 mode train Loss 3.0411 In top 0.6778. Time elapsed 0.01 hrs (0.4 mins)\n",
      "6/18\t12/18\t18/18\tEpoch 8 mode valid Loss 3.0594 In top 0.6729. Time elapsed 0.01 hrs (0.4 mins)\n",
      "6/18\t12/18\t18/18\tEpoch 8 mode test Loss 3.0195 In top 0.6745. Time elapsed 0.01 hrs (0.4 mins)\n",
      "Model saved at exps/demo/ckpt/model-8\n",
      "11/34\t22/34\t33/34\tEpoch 9 mode train Loss 3.0320 In top 0.6804. Time elapsed 0.01 hrs (0.4 mins)\n",
      "6/18\t12/18\t18/18\tEpoch 9 mode valid Loss 3.0529 In top 0.6738. Time elapsed 0.01 hrs (0.4 mins)\n",
      "6/18\t12/18\t18/18\tEpoch 9 mode test Loss 3.0139 In top 0.6723. Time elapsed 0.01 hrs (0.5 mins)\n",
      "Model saved at exps/demo/ckpt/model-9\n",
      "11/34\t22/34\t33/34\tEpoch 10 mode train Loss 3.0223 In top 0.6820. Time elapsed 0.01 hrs (0.5 mins)\n",
      "6/18\t12/18\t18/18\tEpoch 10 mode valid Loss 3.0484 In top 0.6742. Time elapsed 0.01 hrs (0.5 mins)\n",
      "6/18\t12/18\t18/18\tEpoch 10 mode test Loss 3.0099 In top 0.6714. Time elapsed 0.01 hrs (0.5 mins)\n",
      "Model saved at exps/demo/ckpt/model-10\n",
      "Best test in top: 0.6745 at epoch 8.\n",
      "Session initialized.\n",
      "Experiment created.\n",
      "Start getting test predictions...\n",
      "6/18\t12/18\t18/18\tTest in top 0.0000\n",
      "Test predictions written. Time elapsed 0.00 hrs (0.0 mins)\n",
      "Start getting rules...\n",
      "Attentions collected. Time elapsed 0.00 hrs (0.0 mins)\n",
      "9/50\t19/50\t29/50\t39/50\t49/50\t\n",
      "Rules listed and printed. Time elapsed 0.00 hrs (0.0 mins)\n"
     ]
    }
   ],
   "source": [
    "#read the dataset. Provide the path to the dataset folder which contains all the required files\n",
    "obj.read_dataset('/Users/tushyagautam/Documents/USC/Information_Integration/Project/Neural-LP-master/datasets/kinship')\n",
    "tf.reset_default_graph()\n",
    "#trains the model\n",
    "obj.train()\n",
    "#uses the learned logical rules to predict new triples\n",
    "obj.predict()"
   ]
  },
  {
   "cell_type": "code",
   "execution_count": 24,
   "metadata": {},
   "outputs": [
    {
     "name": "stdout",
     "output_type": "stream",
     "text": [
      "Number of all facts 10686\n",
      "Gather truths done.\n",
      "{'preds': '/Users/tushyagautam/Documents/USC/Information_Integration/Project/Neural-LP-master/src/exps/demo/test_predictions.txt', 'top_k': 10, 'v': False, 'truths': '/Users/tushyagautam/Documents/USC/Information_Integration/Project/Neural-LP-master/datasets/kinship/truths.pckl', 'raw': False}\n",
      "Hits at 10 is 0.0000\n",
      "Mean rank 80.86\n",
      "Mean Reciprocal Rank 0.0127\n",
      "Time 0.005 mins\n",
      "====================================Finish====================================\n"
     ]
    }
   ],
   "source": [
    "#Provide the path to the dataset folder which contains all the required files\n",
    "obj.get_truths('/Users/tushyagautam/Documents/USC/Information_Integration/Project/Neural-LP-master/datasets/kinship')\n",
    "#performs evaluation and provides results for the required metrics\n",
    "obj.evaluate(obj.truths_file)"
   ]
  },
  {
   "cell_type": "code",
   "execution_count": null,
   "metadata": {},
   "outputs": [],
   "source": []
  }
 ],
 "metadata": {
  "kernelspec": {
   "display_name": "Python 2",
   "language": "python",
   "name": "python2"
  },
  "language_info": {
   "codemirror_mode": {
    "name": "ipython",
    "version": 2
   },
   "file_extension": ".py",
   "mimetype": "text/x-python",
   "name": "python",
   "nbconvert_exporter": "python",
   "pygments_lexer": "ipython2",
   "version": "2.7.16"
  }
 },
 "nbformat": 4,
 "nbformat_minor": 2
}
