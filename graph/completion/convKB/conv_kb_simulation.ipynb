{
 "cells": [
  {
   "cell_type": "code",
   "execution_count": null,
   "metadata": {
    "collapsed": true
   },
   "outputs": [],
   "source": [
    "from convKB import convKB"
   ]
  },
  {
   "cell_type": "code",
   "execution_count": 2,
   "metadata": {
    "collapsed": true
   },
   "outputs": [],
   "source": [
    "convkb = convKB()"
   ]
  },
  {
   "cell_type": "code",
   "execution_count": 3,
   "metadata": {},
   "outputs": [
    {
     "name": "stdout",
     "output_type": "stream",
     "text": [
      "Loading data...\n",
      "Loading data... finished!\n"
     ]
    }
   ],
   "source": [
    "# read a input file and generate train, dev, and test data lists\n",
    "file_name = \"./data/FB15k/all.txt\"\n",
    "options = {}\n",
    "options[\"split_ratio\"] = (0.7, 0.2, 0.1)\n",
    "options[\"embedding_dim\"] = 100\n",
    "options[\"batch_size\"] = 128\n",
    "train, dev, test = convkb.read_dataset(file_name, options=options)"
   ]
  },
  {
   "cell_type": "code",
   "execution_count": 4,
   "metadata": {},
   "outputs": [
    {
     "name": "stdout",
     "output_type": "stream",
     "text": [
      "Writing to /Users/chillysoup/Desktop/548/project/my_codes/ConvKB/runs/fb15k\n",
      "\n",
      "0 / 6\n",
      "1 / 6\n",
      "2 / 6\n",
      "3 / 6\n",
      "4 / 6\n",
      "5 / 6\n",
      "Saved model checkpoint to /Users/chillysoup/Desktop/548/project/my_codes/ConvKB/runs/fb15k/checkpoints/model-5\n",
      "\n"
     ]
    }
   ],
   "source": [
    "# train\n",
    "options = {}\n",
    "options[\"num_epochs\"] = 6\n",
    "options[\"save_step\"] = 5\n",
    "model = convkb.train(train, options=options)"
   ]
  },
  {
   "cell_type": "code",
   "execution_count": 5,
   "metadata": {},
   "outputs": [
    {
     "name": "stdout",
     "output_type": "stream",
     "text": [
      "predicting /Users/chillysoup/Desktop/548/project/my_codes/ConvKB/runs/fb15k\n",
      "\n",
      "INFO:tensorflow:Restoring parameters from /Users/chillysoup/Desktop/548/project/my_codes/ConvKB/runs/fb15k/checkpoints/model-5\n",
      "Loaded model /Users/chillysoup/Desktop/548/project/my_codes/ConvKB/runs/fb15k/checkpoints/model-5\n",
      "50 [3004   40 3005] / 201 for head\n",
      "100 [3069   61   86] / 201 for head\n",
      "150 [3137  190 3138] / 201 for head\n",
      "200 [3200  318  908] / 201 for head\n",
      "[('/m/01vv7sc', '/location/location/contains', '/m/0m_xy'), ('/m/0182r9', '/location/country/capital', '/m/0fhzy'), ('/m/02vl_pz', '/sports/sports_team/roster./american_football/football_historical_roster_position/position_s', '/m/05zm34'), ('/m/0124k9', '/award/award_category/winners./award/award_honor/ceremony', '/m/0dth6b'), ('/m/0182r9', '/award/award_nominee/award_nominations./award/award_nomination/award_nominee', '/m/03gr7w'), ('/m/08lr6s', '/film/film/starring./film/performance/actor', '/m/01vlj1g'), ('/m/07fb8_', '/film/writer/film', '/m/0gj8t_b'), ('/m/0pv3x', '/award/award_winner/awards_won./award/award_honor/award_winner', '/m/05b__vr'), ('/m/0dhrqx', '/media_common/netflix_genre/titles', '/m/050xxm'), ('/sports/sports_position/players./soccer/football_roster_position/team', '/music/performance_role/track_performances./music/track_contribution/contributor', '/m/01pq5j7'), ('/m/02lg9w', '/base/schemastaging/person_extra/net_worth./measurement_unit/dated_money_value/currency', '/m/09nqf'), ('/m/054krc', '/base/marchmadness/ncaa_basketball_team/ncaa_tournament_seeds./base/marchmadness/ncaa_tournament_seed/tournament', '/m/05g_nr'), ('/m/04cy8rb', '/people/person/place_of_birth', '/m/02_286'), ('/m/02jjt', '/base/marchmadness/ncaa_basketball_team/ncaa_tournament_seeds./base/marchmadness/ncaa_tournament_seed/tournament', '/m/0f9rw9'), ('/m/054krc', '/film/film/starring./film/performance/actor', '/m/03_2td'), ('/m/04nw9', '/government/political_district/representatives./government/government_position_held/legislative_sessions', '/m/02bn_p'), ('/m/047vp1n', '/award/award_nominated_work/award_nominations./award/award_nomination/award', '/m/0cjyzs'), ('/m/07t21', '/award/award_nominee/award_nominations./award/award_nomination/award', '/m/01c92g'), ('/m/013zdg', '/award/award_nominee/award_nominations./award/award_nomination/award_nominee', '/m/030h95'), ('/m/0pv3x', '/film/film/other_crew./film/film_crew_gig/film_crew_role', '/m/0ch6mp2'), ('/m/08w7vj', '/sports/sports_team/roster./sports/sports_team_roster/player', '/m/049sb'), ('/music/musical_group/member./music/group_membership/role', '/film/film/genre', '/m/01g6gs'), ('/m/07w0v', '/people/person/gender', '/m/05zppz'), ('/m/0g2dz', '/award/award_nominated_work/award_nominations./award/award_nomination/nominated_for', '/m/01dyvs'), ('/m/0146pg', '/location/location/contains', '/m/0lfgr'), ('/m/034qmv', '/basketball/basketball_team/roster./basketball/basketball_roster_position/position', '/m/0ctt4z'), ('/location/hud_foreclosure_area/hhuniv./measurement_unit/dated_integer/source', '/film/actor/film./film/performance/film', '/m/02f6g5'), ('/m/02lg9w', '/film/film/production_companies', '/m/016tt2'), ('/award/award_winner/awards_won./award/award_honor/honored_for', '/location/hud_foreclosure_area/estimated_number_foreclosures./measurement_unit/dated_integer/source', '/m/0jbk9'), ('/m/03xq0f', '/common/annotation_category/annotations./common/webpage/topic', '/m/0k5p1'), ('/m/0319l', '/people/person/places_lived./people/place_lived/location', '/m/02_286'), ('/m/08lr6s', '/film/film/genre', '/m/02kdv5l'), ('/m/02lg9w', '/olympics/olympic_games/athletes./olympics/olympic_athlete_affiliation/sport', '/m/064vjs'), ('/m/0jdhp', '/media_common/netflix_genre/titles', '/m/09gq0x5'), ('/m/07wj1', '/film/producer/film', '/m/04k9y6'), ('/m/04cy8rb', '/award/award_nominee/award_nominations./award/award_nomination/award_nominee', '/m/030hcs'), ('/m/08w7vj', '/people/ethnicity/people', '/m/015882'), ('/m/01qvcr', '/award/award_winner/awards_won./award/award_honor/award', '/m/0f4x7'), ('/m/0g5879y', '/music/artist/track_contributions./music/track_contribution/role', '/m/03m5k'), ('/m/05sj55', '/music/artist/genre', '/m/016zgj'), ('/m/05f4m9q', '/common/annotation_category/annotations./common/webpage/topic', '/m/02dgq2'), ('/m/0sx7r', '/film/film/genre', '/m/06cvj'), ('/m/07w0v', '/music/artist/genre', '/m/02b71x'), ('/m/030znt', '/award/award_ceremony/awards_presented./award/award_honor/honored_for', '/m/09cr8'), ('/m/08w7vj', '/award/award_ceremony/awards_presented./award/award_honor/honored_for', '/m/0283_zv'), ('/m/0319l', '/award/award_category/nominees./award/award_nomination/award_nominee', '/m/06mnps'), ('/m/0jdhp', '/sports/sports_position/players./soccer/football_roster_position/team', '/m/01kc4s'), ('/m/0pv3x', '/sports/sports_team/roster./sports/sports_team_roster/position', '/m/03h42s4'), ('/m/08nvyr', '/sports/professional_sports_team/draft_picks./sports/sports_league_draft_pick/school', '/m/01j_9c'), ('/m/0jdhp', '/military/military_combatant/military_commanders./military/military_command/military_commander', '/m/0835q'), ('/m/02sb1w', '/award/award_nominee/award_nominations./award/award_nomination/award_nominee', '/m/0806vbn'), ('/m/0g5879y', '/award/award_nominee/award_nominations./award/award_nomination/award', '/m/02nhxf'), ('/m/08lr6s', '/soccer/football_team/current_roster./soccer/football_roster_position/position', '/m/02sdk9v'), ('/award/award_winner/awards_won./award/award_honor/honored_for', '/film/film/language', '/m/04306rv'), ('/m/0g5879y', '/award/award_winner/awards_won./award/award_honor/honored_for', '/m/0170z3'), ('/m/07w0v', '/music/artist/genre', '/m/06by7'), ('/m/070m6c', '/common/topic/webpage./common/webpage/category', '/m/08mbj32'), ('/m/07w0v', '/media_common/netflix_title/netflix_genres', '/m/07s9rl0'), ('/m/02vx4', '/film/film/starring./film/performance/actor', '/m/02qgyv'), ('/m/07w0v', '/sports/pro_athlete/teams./basketball/basketball_historical_roster_position/team', '/m/0jm9w'), ('/m/08w7vj', '/education/field_of_study/students_majoring./education/education/institution', '/m/0bx8pn'), ('/m/08w7vj', '/business/industry/companies', '/m/02ktt7'), ('/m/02lg9w', '/education/educational_institution/students_graduates./education/education/degree', '/m/02h4rq6'), ('/m/01vrt_c', '/people/profession/people_with_this_profession', '/m/0htlr'), ('/m/02hxc3j', '/education/field_of_study/students_majoring./education/education/institution', '/m/01y888'), ('/m/08w7vj', '/government/legislative_session/members./government/government_position_held/legislative_sessions', '/m/03z5xd'), ('/m/08nvyr', '/location/location/containedby', '/m/07z1m'), ('/m/0g5879y', '/music/instrument/instrumentalists', '/m/01ky2h'), ('/m/01d5z', '/award/award_category/winners./award/award_honor/honored_for', '/m/0h1x5f'), ('/m/0jdhp', '/film/film_genre/films_in_this_genre', '/m/02yvct'), ('/m/026v437', '/sports/sports_position/players./sports/sports_team_roster/team', '/m/07r78j'), ('/m/0hr6lkl', '/tv/tv_program/tv_producer./tv/tv_producer_term/producer', '/m/0b7t3p'), ('/location/hud_foreclosure_area/hhuniv./measurement_unit/dated_integer/source', '/soccer/football_team/current_roster./sports/sports_team_roster/player', '/m/0bhtzw'), ('/award/award_winner/awards_won./award/award_honor/honored_for', '/people/person/employment_history./business/employment_tenure/company', '/m/06rq1k'), ('/m/054krc', '/sports/sports_team/roster./soccer/football_roster_position/position', '/m/0dgrmp'), ('/m/0g2dz', '/music/artist/origin', '/m/01c40n'), ('/m/01fwj8', '/location/statistical_region/rent50_0./measurement_unit/dated_money_value/currency', '/m/09nqf'), ('/m/0n6f8', '/film/film/genre', '/m/01jfsb'), ('/sports/sports_team/roster./basketball/basketball_roster_position/position', '/people/marriage_union_type/unions_of_this_type./people/marriage/location_of_ceremony', '/m/05l5n'), ('/m/08lr6s', '/people/profession/people_with_this_profession', '/m/047jhq'), ('/award/award_winner/awards_won./award/award_honor/honored_for', '/people/person/profession', '/m/0np9r'), ('/m/0jdhp', '/media_common/netflix_genre/titles', '/m/015x74'), ('/award/award_winner/awards_won./award/award_honor/honored_for', '/tv/tv_program/genre', '/m/01htzx'), ('/m/02lg9w', '/education/educational_institution/campuses', '/m/02jyr8'), ('/m/0dgrmp', '/royalty/royal_line/kingdom_s_ruled', '/m/04g61'), ('/m/08w7vj', '/location/hud_foreclosure_area/total_90_day_vacant_residential_addresses./measurement_unit/dated_integer/source', '/m/0jbk9'), ('/m/08lr6s', '/film/actor/film./film/performance/film', '/m/02rb84n'), ('/award/award_winner/awards_won./award/award_honor/honored_for', '/sports/sports_team/roster./sports/sports_team_roster/position', '/m/02lyr4'), ('/m/0g5879y', '/sports/sports_team/roster./sports/sports_team_roster/position', '/m/02g_6j'), ('/m/02lg9w', '/education/educational_institution/students_graduates./education/education/student', '/m/0kr5_'), ('/m/02lg9w', '/tv/tv_program/regular_cast./tv/regular_tv_appearance/actor', '/m/021_rm'), ('/m/0g5879y', '/film/film_distributor/films_distributed./film/film_film_distributor_relationship/film', '/m/01kf3_9'), ('/m/07w0v', '/medicine/disease/causes', '/m/0gk4g'), ('/base/schemastaging/person_extra/net_worth./measurement_unit/dated_money_value/currency', '/award/award_nominee/award_nominations./award/award_nomination/award', '/m/0gqz2'), ('/m/07fb8_', '/award/award_nominee/award_nominations./award/award_nomination/award', '/m/025m8y'), ('/m/08lr6s', '/award/award_category/winners./award/award_honor/honored_for', '/m/016dj8'), ('/m/08lr6s', '/influence/influence_node/influenced_by', '/m/0177s6'), ('/base/schemastaging/person_extra/net_worth./measurement_unit/dated_money_value/currency', '/user/alexander/philosophy/philosopher/interests', '/m/05r79'), ('/m/073tm9', '/film/film/featured_film_locations', '/m/01_d4'), ('/m/0hr6lkl', '/award/award_nominated_work/award_nominations./award/award_nomination/award', '/m/0gr4k'), ('/m/05nmg_', '/film/film/release_date_s./film/film_regional_release_date/film_release_region', '/m/09c7w0'), ('/m/0g2dz', '/business/employer/employees./business/employment_tenure/person', '/m/03h40_7'), ('/m/0jdhp', '/award/award_category/nominees./award/award_nomination/nominated_for', '/m/04qw17'), ('/m/0c5lg', '/award/award_category/nominees./award/award_nomination/nominated_for', '/m/02q52q'), ('/sports/sports_position/players./soccer/football_roster_position/team', '/american_football/football_player/former_teams./sports/sports_team_roster/team', '/m/051q5'), ('/award/award_winner/awards_won./award/award_honor/honored_for', '/people/person/profession', '/m/02hrh1q'), ('/m/01vv7sc', '/award/award_nominee/award_nominations./award/award_nomination/nominated_for', '/m/02rx2m5'), ('/m/08lr6s', '/medicine/drug_ingredient/more_general_ingredient', '/m/025s7j4'), ('/m/08lr6s', '/basketball/basketball_team/roster./sports/sports_team_roster/position', '/m/01pv51'), ('/m/03fn8k', '/film/actor/film./film/performance/film', '/m/0cc7hmk'), ('/film/film/film_format', '/award/award_category/winners./award/award_honor/award_winner', '/m/01jrz5j'), ('/m/0pv3x', '/award/award_winner/awards_won./award/award_honor/award_winner', '/m/02bkdn'), ('/m/01l1sq', '/people/person/spouse_s./people/marriage/type_of_union', '/m/01g63y'), ('/m/0pv3x', '/film/producer/films_executive_produced', '/m/02qsqmq'), ('/m/0319l', '/sports/sports_position/players./soccer/football_roster_position/team', '/m/044crp'), ('/m/01vv7sc', '/tv/tv_writer/tv_programs./tv/tv_program_writer_relationship/tv_program', '/m/0584r4'), ('/m/0vgkd', '/film/actor/film./film/performance/film', '/m/0cz_ym'), ('/m/01d5z', '/people/person/profession', '/m/01d_h8'), ('/m/05f4m9q', '/time/event/locations', '/m/05rgl'), ('/location/statistical_region/religions./location/religion_percentage/religion', '/award/award_winner/awards_won./award/award_honor/award_winner', '/m/0261g5l'), ('/m/02sdk9v', '/business/employer/employees./business/employment_tenure/title', '/m/060c4'), ('/award/award_winner/awards_won./award/award_honor/honored_for', '/base/x2010fifaworldcupsouthafrica/world_cup_squad/current_world_cup_squad./base/x2010fifaworldcupsouthafrica/current_world_cup_squad/players', '/m/06qjgc'), ('/m/0pv3x', '/media_common/netflix_genre/titles', '/m/04jwjq'), ('/m/013n2h', '/music/group_member/instruments_played', '/m/05148p4'), ('/m/08nvyr', '/sports/sports_league_draft/picks./sports/sports_league_draft_pick/school', '/m/0bx8pn'), ('/m/0dq_5', '/people/person/place_of_birth', '/m/016v46'), ('/m/04991x', '/music/instrument/instrumentalists', '/m/0p5mw'), ('/award/award_winner/awards_won./award/award_honor/honored_for', '/people/person/languages', '/m/04306rv'), ('/m/0n6f8', '/film/film_distributor/films_distributed./film/film_film_distributor_relationship/film', '/m/028cg00'), ('/m/08lr6s', '/award/award_winning_work/awards_won./award/award_honor/award_winner', '/m/01gq0b'), ('/m/08lr6s', '/soccer/football_team/current_roster./sports/sports_team_roster/position', '/m/02sdk9v'), ('/m/047gn4y', '/olympics/olympic_sport/athletes./olympics/olympic_athlete_affiliation/country', '/m/02vzc'), ('/m/09pmkv', '/award/award_winning_work/awards_won./award/award_honor/award_winner', '/m/02fgpf'), ('/m/03mdt', '/celebrities/celebrity/sexual_relationships./celebrities/romantic_relationship/celebrity', '/m/0320jz'), ('/m/01vrt_c', '/people/profession/people_with_this_profession', '/m/01y9xg'), ('/award/award_winner/awards_won./award/award_honor/honored_for', '/sports/pro_athlete/teams./sports/sports_team_roster/team', '/m/01k2yr'), ('/m/0g5879y', '/award/award_nominee/award_nominations./award/award_nomination/award', '/m/0c_n9'), ('/m/0pv3x', '/award/award_winner/awards_won./award/award_honor/award_winner', '/m/05ztm4r'), ('/m/0182r9', '/award/award_category/nominees./award/award_nomination/nominated_for', '/m/026gyn_'), ('/m/0g2dz', '/film/film/release_date_s./film/film_regional_release_date/film_release_region', '/m/047yc'), ('/m/02vx4', '/award/award_nominee/award_nominations./award/award_nomination/award', '/m/02wh75'), ('/m/0pv3x', '/sports/sports_team/roster./sports/sports_team_roster/position', '/m/02_j1w'), ('/m/0ds33', '/tv/tv_program/spun_off_from', '/m/06qw_'), ('/m/0bdw6t', '/location/location/adjoin_s./location/adjoining_relationship/adjoins', '/m/04rrx'), ('/m/05f4m9q', '/people/marriage_union_type/unions_of_this_type./people/marriage/spouse', '/m/02lmk'), ('/m/09_bl', '/base/popstra/celebrity/lived_with./base/popstra/lived_with/participant', '/m/022q32'), ('/m/054krc', '/business/job_title/people_with_this_title./business/employment_tenure/company', '/m/0l8sx'), ('/m/0g5879y', '/film/actor/film./film/performance/film', '/m/011yth'), ('/m/0gxtknx', '/government/political_party/politicians_in_this_party./government/political_party_tenure/politician', '/m/083pr'), ('/m/0n6f8', '/people/person/ethnicity', '/m/033tf_'), ('/m/0bdw6t', '/film/film_distributor/films_distributed./film/film_film_distributor_relationship/film', '/m/0fq7dv_'), ('/m/08nvyr', '/film/film/release_date_s./film/film_regional_release_date/film_release_region', '/m/01p1v'), ('/m/0182r9', '/award/award_nominee/award_nominations./award/award_nomination/award_nominee', '/m/08m4c8'), ('/m/05gqf', '/film/film/release_date_s./film/film_regional_release_date/film_release_region', '/m/05v8c'), ('/olympics/olympic_sport/athletes./olympics/olympic_athlete_affiliation/olympics', '/award/award_winner/awards_won./award/award_honor/award', '/m/02664f'), ('/m/0182r9', '/soccer/football_team/current_roster./sports/sports_team_roster/position', '/m/02nzb8'), ('/m/09pmkv', '/film/special_film_performance_type/film_performance_type./film/performance/actor', '/m/0479b'), ('/m/01vv7sc', '/film/film_costumer_designer/costume_design_for_film', '/m/0cq7tx'), ('/m/02z3r8t', '/education/educational_institution/students_graduates./education/education/degree', '/m/03mkk4'), ('/m/0124k9', '/award/award_winner/awards_won./award/award_honor/ceremony', '/m/04n2r9h'), ('/m/070m6c', '/education/field_of_study/students_majoring./education/education/institution', '/m/01rgdw'), ('/m/054krc', '/award/award_category/winners./award/award_honor/award_winner', '/m/03mg35'), ('/m/0319l', '/education/university/domestic_tuition./measurement_unit/dated_money_value/currency', '/m/09nqf'), ('/m/02lg9w', '/award/award_nominated_work/award_nominations./award/award_nomination/award', '/m/02x258x'), ('/m/08lr6s', '/location/country/form_of_government', '/m/018wl5'), ('/m/08nvyr', '/award/award_winner/awards_won./award/award_honor/ceremony', '/m/0gpjbt'), ('/m/013n2h', '/film/editor/film', '/m/0h21v2'), ('/m/01l1sq', '/award/award_nominated_work/award_nominations./award/award_nomination/award', '/m/03hj5vf'), ('/m/05nmg_', '/film/film/country', '/m/09c7w0'), ('/m/01vsn38', '/government/legislative_session/members./government/government_position_held/office_holder', '/m/06bss'), ('/m/010dft', '/music/genre/artists', '/m/04r1t'), ('/m/03xq0f', '/people/profession/people_with_this_profession', '/m/0q9kd'), ('/m/05f4m9q', '/government/politician/party./government/political_party_tenure/party', '/m/0d075m'), ('/m/0182r9', '/award/award_nominee/award_nominations./award/award_nomination/award_nominee', '/m/06cgy'), ('/m/0g5879y', '/film/film/starring./film/performance/actor', '/m/02qx69'), ('/award/award_winner/awards_won./award/award_honor/honored_for', '/people/person/profession', '/m/0dz3r'), ('/award/award_winner/awards_won./award/award_honor/honored_for', '/olympics/olympic_participating_country/athletes./olympics/olympic_athlete_affiliation/olympics', '/m/0kbws'), ('/m/0g2dz', '/film/film/other_crew./film/film_crew_gig/film_crew_role', '/m/09zzb8'), ('/m/0342h', '/award/award_nominee/award_nominations./award/award_nomination/nominated_for', '/m/0dr_4'), ('/m/08nvyr', '/location/location/containedby', '/m/04ly1'), ('/m/05q96q6', '/people/person/education./education/education/institution', '/m/0m4yg'), ('/m/047msdk', '/award/award_nominee/award_nominations./award/award_nomination/award', '/m/0l8z1'), ('/m/07z31v', '/sports/sport/pro_athletes./sports/pro_sports_played/athlete', '/m/0784v1'), ('/m/0pv3x', '/award/award_nominee/award_nominations./award/award_nomination/award', '/m/03r8tl'), ('/base/schemastaging/person_extra/net_worth./measurement_unit/dated_money_value/currency', '/award/award_nominee/award_nominations./award/award_nomination/nominated_for', '/m/08r4x3'), ('/m/0cnl80', '/people/cause_of_death/includes_causes_of_death', '/m/0lz8d'), ('/m/01w61th', '/location/location/adjoin_s./location/adjoining_relationship/adjoins', '/m/0mx6c'), ('/m/0g5879y', '/award/award_nominee/award_nominations./award/award_nomination/award', '/m/054krc'), ('/m/01l_pn', '/people/person/profession', '/m/01c72t'), ('/m/015qh', '/film/actor/film./film/performance/film', '/m/03sxd2'), ('/m/0319l', '/common/annotation_category/annotations./common/webpage/topic', '/m/0d06vc'), ('/base/schemastaging/person_extra/net_worth./measurement_unit/dated_money_value/currency', '/people/person/profession', '/m/02krf9'), ('/m/0182r9', '/award/award_category/nominees./award/award_nomination/nominated_for', '/m/03hj3b3'), ('/m/0g5879y', '/film/film/starring./film/performance/actor', '/m/033071'), ('/m/01vsn38', '/government/legislative_session/members./government/government_position_held/office_holder', '/m/06bss'), ('/m/09c7b', '/influence/influence_node/influenced', '/m/05d1y'), ('/m/01hp22', '/music/performance_role/regular_performances./music/group_membership/group', '/m/02_5x9'), ('/m/05nmg_', '/government/politician/government_positions_held./government/government_position_held/appointed_by', '/m/0157m'), ('/award/award_winner/awards_won./award/award_honor/honored_for', '/tv/tv_program/genre', '/m/06n90'), ('/m/0g5879y', '/influence/influence_node/influenced_by', '/m/06dl_'), ('/m/04nw9', '/award/award_winner/awards_won./award/award_honor/ceremony', '/m/02cg41')]\n"
     ]
    }
   ],
   "source": [
    "# predict\n",
    "options = {}\n",
    "options[\"model_index\"] = 5\n",
    "result = convkb.predict(test, options=options)\n",
    "print(result)"
   ]
  },
  {
   "cell_type": "code",
   "execution_count": 6,
   "metadata": {},
   "outputs": [
    {
     "name": "stdout",
     "output_type": "stream",
     "text": [
      "Evaluating /Users/chillysoup/Desktop/548/project/my_codes/ConvKB/runs/fb15k\n",
      "\n",
      "INFO:tensorflow:Restoring parameters from /Users/chillysoup/Desktop/548/project/my_codes/ConvKB/runs/fb15k/checkpoints/model-5\n",
      "Loaded model /Users/chillysoup/Desktop/548/project/my_codes/ConvKB/runs/fb15k/checkpoints/model-5\n",
      "50 / 201 for head\n",
      "100 / 201 for head\n",
      "150 / 201 for head\n",
      "200 / 201 for head\n",
      "50 / 201 for tail\n",
      "100 / 201 for tail\n",
      "150 / 201 for tail\n",
      "200 / 201 for tail\n",
      "/Users/chillysoup/Desktop/548/project/my_codes/ConvKB/runs/fb15k/checkpoints/model-5 mr, mrr, hits@10 -->  [1472.7363184079602, 0.0025755343094126973, 0.007462686567164179]\n",
      "------------------------------------\n",
      "{'AUC': None, 'Average Precision': None, 'MRR': 0.0025755343094126973, 'hit@10': 0.007462686567164179}\n"
     ]
    }
   ],
   "source": [
    "# evaluation\n",
    "options = {}\n",
    "options[\"model_index\"] = 5\n",
    "dic = convkb.evaluate(test, options=options)\n",
    "print(dic)"
   ]
  },
  {
   "cell_type": "code",
   "execution_count": null,
   "metadata": {
    "collapsed": true
   },
   "outputs": [],
   "source": []
  }
 ],
 "metadata": {
  "kernelspec": {
   "display_name": "Python 3",
   "language": "python",
   "name": "python3"
  },
  "language_info": {
   "codemirror_mode": {
    "name": "ipython",
    "version": 3
   },
   "file_extension": ".py",
   "mimetype": "text/x-python",
   "name": "python",
   "nbconvert_exporter": "python",
   "pygments_lexer": "ipython3",
   "version": "3.6.8"
  }
 },
 "nbformat": 4,
 "nbformat_minor": 2
}
