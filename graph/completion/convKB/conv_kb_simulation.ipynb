{
 "cells": [
  {
   "cell_type": "code",
   "execution_count": 1,
   "metadata": {},
   "outputs": [],
   "source": [
    "from conv_kb import ConvKB"
   ]
  },
  {
   "cell_type": "code",
   "execution_count": 2,
   "metadata": {},
   "outputs": [],
   "source": [
    "convkb = ConvKB()"
   ]
  },
  {
   "cell_type": "code",
   "execution_count": 3,
   "metadata": {},
   "outputs": [
    {
     "name": "stdout",
     "output_type": "stream",
     "text": [
      "Loading data...\n",
      "Loading data... finished!\n"
     ]
    }
   ],
   "source": [
    "# read a input file and generate train, dev, and test data lists\n",
    "file_name = \"./data/sample_input.txt\"\n",
    "options = {}\n",
    "options[\"split_ratio\"] = (0.7, 0.25, 0.05)\n",
    "options[\"embedding_dim\"] = 50\n",
    "options[\"batch_size\"] = 128\n",
    "train, dev, test = convkb.read_dataset(file_name, options=options)"
   ]
  },
  {
   "cell_type": "code",
   "execution_count": 4,
   "metadata": {},
   "outputs": [
    {
     "name": "stdout",
     "output_type": "stream",
     "text": [
      "WARNING:tensorflow:From /Users/chillysoup/anaconda3/envs/tensorflow3/lib/python3.7/site-packages/tensorflow/python/framework/op_def_library.py:263: colocate_with (from tensorflow.python.framework.ops) is deprecated and will be removed in a future version.\n",
      "Instructions for updating:\n",
      "Colocations handled automatically by placer.\n",
      "WARNING:tensorflow:From /Users/chillysoup/Desktop/548/project/ditk/graph/completion/convKB/model.py:56: calling dropout (from tensorflow.python.ops.nn_ops) with keep_prob is deprecated and will be removed in a future version.\n",
      "Instructions for updating:\n",
      "Please use `rate` instead of `keep_prob`. Rate should be set to `rate = 1 - keep_prob`.\n",
      "\n",
      "WARNING: The TensorFlow contrib module will not be included in TensorFlow 2.0.\n",
      "For more information, please see:\n",
      "  * https://github.com/tensorflow/community/blob/master/rfcs/20180907-contrib-sunset.md\n",
      "  * https://github.com/tensorflow/addons\n",
      "If you depend on functionality not listed there, please file an issue.\n",
      "\n",
      "WARNING:tensorflow:From /Users/chillysoup/anaconda3/envs/tensorflow3/lib/python3.7/site-packages/tensorflow/python/ops/array_grad.py:425: to_int32 (from tensorflow.python.ops.math_ops) is deprecated and will be removed in a future version.\n",
      "Instructions for updating:\n",
      "Use tf.cast instead.\n",
      "Writing to /Users/chillysoup/Desktop/548/project/ditk/graph/completion/convKB/runs/wn18\n",
      "\n",
      "1 / 6\n",
      "2 / 6\n",
      "3 / 6\n",
      "4 / 6\n",
      "5 / 6\n",
      "Saved model checkpoint to /Users/chillysoup/Desktop/548/project/ditk/graph/completion/convKB/runs/wn18/checkpoints/model-5\n",
      "\n"
     ]
    }
   ],
   "source": [
    "# train\n",
    "options = {}\n",
    "options[\"num_epochs\"] = 6\n",
    "options[\"save_step\"] = 5\n",
    "model = convkb.train(train, options=options)"
   ]
  },
  {
   "cell_type": "code",
   "execution_count": 5,
   "metadata": {},
   "outputs": [
    {
     "name": "stdout",
     "output_type": "stream",
     "text": [
      "predicting /Users/chillysoup/Desktop/548/project/ditk/graph/completion/convKB/runs/wn18\n",
      "\n",
      "WARNING:tensorflow:From /Users/chillysoup/anaconda3/envs/tensorflow3/lib/python3.7/site-packages/tensorflow/python/training/saver.py:1266: checkpoint_exists (from tensorflow.python.training.checkpoint_management) is deprecated and will be removed in a future version.\n",
      "Instructions for updating:\n",
      "Use standard file APIs to check for files with this prefix.\n",
      "INFO:tensorflow:Restoring parameters from /Users/chillysoup/Desktop/548/project/ditk/graph/completion/convKB/runs/wn18/checkpoints/model-5\n",
      "Loaded model /Users/chillysoup/Desktop/548/project/ditk/graph/completion/convKB/runs/wn18/checkpoints/model-5\n",
      "25 / 100 for head\n",
      "50 / 100 for head\n",
      "75 / 100 for head\n",
      "[('/m/05mgj0', '/business/employer/employees./business/employment_tenure/person', '/m/03h40_7'), ('/m/04jwjq', '/award/award_category/nominees./award/award_nomination/nominated_for', '/m/04qw17'), ('/m/06j0md', '/award/award_category/nominees./award/award_nomination/nominated_for', '/m/02q52q'), ('/m/0g2c8', '/american_football/football_player/former_teams./sports/sports_team_roster/team', '/m/051q5'), ('/m/01w3v', '/people/person/profession', '/m/02hrh1q'), ('/m/01qbl', '/award/award_nominee/award_nominations./award/award_nomination/nominated_for', '/m/02rx2m5'), ('/sports/sports_position/players./sports/sports_team_roster/player', '/medicine/drug_ingredient/more_general_ingredient', '/m/025s7j4'), ('/m/02jyhv', '/basketball/basketball_team/roster./sports/sports_team_roster/position', '/m/01pv51'), ('/m/0hn10', '/film/actor/film./film/performance/film', '/m/0cc7hmk'), ('/m/04jwjq', '/award/award_category/winners./award/award_honor/award_winner', '/m/01jrz5j'), ('/m/06rv5t', '/award/award_winner/awards_won./award/award_honor/award_winner', '/m/02bkdn'), ('/m/0cpllql', '/people/person/spouse_s./people/marriage/type_of_union', '/m/01g63y'), ('/m/012gx2', '/film/producer/films_executive_produced', '/m/02qsqmq'), ('/m/03_2y', '/sports/sports_position/players./soccer/football_roster_position/team', '/m/044crp'), ('/m/0hn10', '/tv/tv_writer/tv_programs./tv/tv_program_writer_relationship/tv_program', '/m/0584r4'), ('/location/statistical_region/rent50_2./measurement_unit/dated_money_value/currency', '/film/actor/film./film/performance/film', '/m/0cz_ym'), ('/m/01w3v', '/people/person/profession', '/m/01d_h8'), ('/m/020fcn', '/time/event/locations', '/m/05rgl'), ('/sports/sports_position/players./sports/sports_team_roster/player', '/award/award_winner/awards_won./award/award_honor/award_winner', '/m/0261g5l'), ('/m/01w3v', '/business/employer/employees./business/employment_tenure/title', '/m/060c4'), ('/m/0hn10', '/base/x2010fifaworldcupsouthafrica/world_cup_squad/current_world_cup_squad./base/x2010fifaworldcupsouthafrica/current_world_cup_squad/players', '/m/06qjgc'), ('/m/01w3v', '/media_common/netflix_genre/titles', '/m/04jwjq'), ('/m/01w3v', '/music/group_member/instruments_played', '/m/05148p4'), ('/m/0hn10', '/sports/sports_league_draft/picks./sports/sports_league_draft_pick/school', '/m/0bx8pn'), ('/m/06sy4c', '/people/person/place_of_birth', '/m/016v46'), ('/m/01w3v', '/music/instrument/instrumentalists', '/m/0p5mw'), ('/m/0jtdp', '/people/person/languages', '/m/04306rv'), ('/m/03_2y', '/film/film_distributor/films_distributed./film/film_film_distributor_relationship/film', '/m/028cg00'), ('/m/05mgj0', '/award/award_winning_work/awards_won./award/award_honor/award_winner', '/m/01gq0b'), ('/m/0g2c8', '/soccer/football_team/current_roster./sports/sports_team_roster/position', '/m/02sdk9v'), ('/m/04jwjq', '/olympics/olympic_sport/athletes./olympics/olympic_athlete_affiliation/country', '/m/02vzc'), ('/m/06sy4c', '/award/award_winning_work/awards_won./award/award_honor/award_winner', '/m/02fgpf'), ('/sports/sports_position/players./sports/sports_team_roster/player', '/celebrities/celebrity/sexual_relationships./celebrities/romantic_relationship/celebrity', '/m/0320jz'), ('/m/03_fk9', '/people/profession/people_with_this_profession', '/m/01y9xg'), ('/m/027cxsm', '/sports/pro_athlete/teams./sports/sports_team_roster/team', '/m/01k2yr'), ('/m/01w3v', '/award/award_nominee/award_nominations./award/award_nomination/award', '/m/0c_n9'), ('/sports/sports_position/players./sports/sports_team_roster/player', '/award/award_winner/awards_won./award/award_honor/award_winner', '/m/05ztm4r'), ('/m/02zq43', '/award/award_category/nominees./award/award_nomination/nominated_for', '/m/026gyn_'), ('/m/01w3v', '/film/film/release_date_s./film/film_regional_release_date/film_release_region', '/m/047yc'), ('/m/03c7ln', '/award/award_nominee/award_nominations./award/award_nomination/award', '/m/02wh75'), ('/m/01w3v', '/sports/sports_team/roster./sports/sports_team_roster/position', '/m/02_j1w'), ('/m/0cpllql', '/tv/tv_program/spun_off_from', '/m/06qw_'), ('/m/0hn10', '/location/location/adjoin_s./location/adjoining_relationship/adjoins', '/m/04rrx'), ('/m/01vsn38', '/people/marriage_union_type/unions_of_this_type./people/marriage/spouse', '/m/02lmk'), ('/m/0dvld', '/base/popstra/celebrity/lived_with./base/popstra/lived_with/participant', '/m/022q32'), ('/base/petbreeds/dog_breed/cities_where_this_dog_is_popular./base/petbreeds/dog_city_relationship/cities', '/business/job_title/people_with_this_title./business/employment_tenure/company', '/m/0l8sx'), ('/m/0hn10', '/film/actor/film./film/performance/film', '/m/011yth'), ('/m/027cxsm', '/government/political_party/politicians_in_this_party./government/political_party_tenure/politician', '/m/083pr'), ('/m/06sy4c', '/people/person/ethnicity', '/m/033tf_'), ('/film/producer/film', '/film/film_distributor/films_distributed./film/film_film_distributor_relationship/film', '/m/0fq7dv_'), ('/m/01qbl', '/film/film/release_date_s./film/film_regional_release_date/film_release_region', '/m/01p1v'), ('/m/02jyhv', '/award/award_nominee/award_nominations./award/award_nomination/award_nominee', '/m/08m4c8'), ('/m/01w3v', '/film/film/release_date_s./film/film_regional_release_date/film_release_region', '/m/05v8c'), ('/m/02vs3x5', '/award/award_winner/awards_won./award/award_honor/award', '/m/02664f'), ('/m/0hn10', '/soccer/football_team/current_roster./sports/sports_team_roster/position', '/m/02nzb8'), ('/m/01w3v', '/film/special_film_performance_type/film_performance_type./film/performance/actor', '/m/0479b'), ('/m/02vs3x5', '/film/film_costumer_designer/costume_design_for_film', '/m/0cq7tx'), ('/m/01w3v', '/education/educational_institution/students_graduates./education/education/degree', '/m/03mkk4'), ('/m/020fcn', '/award/award_winner/awards_won./award/award_honor/ceremony', '/m/04n2r9h'), ('/film/producer/film', '/education/field_of_study/students_majoring./education/education/institution', '/m/01rgdw'), ('/m/02vs3x5', '/award/award_category/winners./award/award_honor/award_winner', '/m/03mg35'), ('/m/01qbl', '/education/university/domestic_tuition./measurement_unit/dated_money_value/currency', '/m/09nqf'), ('/m/01w3v', '/award/award_nominated_work/award_nominations./award/award_nomination/award', '/m/02x258x'), ('/m/04jwjq', '/location/country/form_of_government', '/m/018wl5'), ('/sports/sports_position/players./sports/sports_team_roster/player', '/award/award_winner/awards_won./award/award_honor/ceremony', '/m/0gpjbt'), ('/m/0jtdp', '/film/editor/film', '/m/0h21v2'), ('/m/06rv5t', '/award/award_nominated_work/award_nominations./award/award_nomination/award', '/m/03hj5vf'), ('/m/02vs3x5', '/film/film/country', '/m/09c7w0'), ('/sports/sports_position/players./sports/sports_team_roster/player', '/government/legislative_session/members./government/government_position_held/office_holder', '/m/06bss'), ('/m/01w3v', '/music/genre/artists', '/m/04r1t'), ('/m/0_24q', '/people/profession/people_with_this_profession', '/m/0q9kd'), ('/m/02jyhv', '/government/politician/party./government/political_party_tenure/party', '/m/0d075m'), ('/m/0_24q', '/award/award_nominee/award_nominations./award/award_nomination/award_nominee', '/m/06cgy'), ('/m/01w3v', '/film/film/starring./film/performance/actor', '/m/02qx69'), ('/m/01w3v', '/people/person/profession', '/m/0dz3r'), ('/m/01vsn38', '/olympics/olympic_participating_country/athletes./olympics/olympic_athlete_affiliation/olympics', '/m/0kbws'), ('/m/01w3v', '/film/film/other_crew./film/film_crew_gig/film_crew_role', '/m/09zzb8'), ('/m/0jtdp', '/award/award_nominee/award_nominations./award/award_nomination/nominated_for', '/m/0dr_4'), ('/m/0cpllql', '/location/location/containedby', '/m/04ly1'), ('/m/0_24q', '/people/person/education./education/education/institution', '/m/0m4yg'), ('/base/schemastaging/organization_extra/phone_number./base/schemastaging/phone_open_times/time_zone', '/award/award_nominee/award_nominations./award/award_nomination/award', '/m/0l8z1'), ('/m/06sy4c', '/sports/sport/pro_athletes./sports/pro_sports_played/athlete', '/m/0784v1'), ('/m/012gx2', '/award/award_nominee/award_nominations./award/award_nomination/award', '/m/03r8tl'), ('/m/01gvr1', '/award/award_nominee/award_nominations./award/award_nomination/nominated_for', '/m/08r4x3'), ('/m/01w3v', '/people/cause_of_death/includes_causes_of_death', '/m/0lz8d'), ('/m/012gx2', '/location/location/adjoin_s./location/adjoining_relationship/adjoins', '/m/0mx6c'), ('/sports/sports_position/players./sports/sports_team_roster/player', '/award/award_nominee/award_nominations./award/award_nomination/award', '/m/054krc'), ('/m/01vsn38', '/people/person/profession', '/m/01c72t'), ('/m/0hn10', '/film/actor/film./film/performance/film', '/m/03sxd2'), ('/m/020fcn', '/common/annotation_category/annotations./common/webpage/topic', '/m/0d06vc'), ('/sports/sports_position/players./sports/sports_team_roster/player', '/people/person/profession', '/m/02krf9'), ('/m/01gvr1', '/award/award_category/nominees./award/award_nomination/nominated_for', '/m/03hj3b3'), ('/m/0g2c8', '/film/film/starring./film/performance/actor', '/m/033071'), ('/sports/sports_position/players./sports/sports_team_roster/player', '/government/legislative_session/members./government/government_position_held/office_holder', '/m/06bss'), ('/m/02vs3x5', '/influence/influence_node/influenced', '/m/05d1y'), ('/m/0_24q', '/music/performance_role/regular_performances./music/group_membership/group', '/m/02_5x9'), ('/m/06rv5t', '/government/politician/government_positions_held./government/government_position_held/appointed_by', '/m/0157m'), ('/m/02b5_l', '/tv/tv_program/genre', '/m/06n90'), ('/m/012gx2', '/influence/influence_node/influenced_by', '/m/06dl_'), ('/m/0bmch_x', '/award/award_winner/awards_won./award/award_honor/ceremony', '/m/02cg41')]\n"
     ]
    }
   ],
   "source": [
    "# predict\n",
    "options = {}\n",
    "options[\"model_index\"] = 5\n",
    "result = convkb.predict(test, options=options)\n",
    "print(result)"
   ]
  },
  {
   "cell_type": "code",
   "execution_count": 6,
   "metadata": {},
   "outputs": [
    {
     "name": "stdout",
     "output_type": "stream",
     "text": [
      "Evaluating /Users/chillysoup/Desktop/548/project/ditk/graph/completion/convKB/runs/wn18\n",
      "\n",
      "INFO:tensorflow:Restoring parameters from /Users/chillysoup/Desktop/548/project/ditk/graph/completion/convKB/runs/wn18/checkpoints/model-5\n",
      "Loaded model /Users/chillysoup/Desktop/548/project/ditk/graph/completion/convKB/runs/wn18/checkpoints/model-5\n",
      "25 / 100 for head\n",
      "50 / 100 for head\n",
      "75 / 100 for head\n",
      "25 / 100 for tail\n",
      "50 / 100 for tail\n",
      "75 / 100 for tail\n",
      "/Users/chillysoup/Desktop/548/project/ditk/graph/completion/convKB/runs/wn18/checkpoints/model-5 mr, mrr, hits@10 -->  [1323.11, 0.011780739662737712, 0.025]\n",
      "------------------------------------\n",
      "{'AUC': None, 'Average Precision': None, 'MRR': 0.011780739662737712, 'hit@10': 0.025}\n"
     ]
    }
   ],
   "source": [
    "# evaluation\n",
    "options = {}\n",
    "options[\"model_index\"] = 5\n",
    "dic = convkb.evaluate(test, options=options)\n",
    "print(dic)"
   ]
  },
  {
   "cell_type": "code",
   "execution_count": null,
   "metadata": {
    "collapsed": true
   },
   "outputs": [],
   "source": []
  }
 ],
 "metadata": {
  "kernelspec": {
   "display_name": "Python 3",
   "language": "python",
   "name": "python3"
  },
  "language_info": {
   "codemirror_mode": {
    "name": "ipython",
    "version": 3
   },
   "file_extension": ".py",
   "mimetype": "text/x-python",
   "name": "python",
   "nbconvert_exporter": "python",
   "pygments_lexer": "ipython3",
   "version": "3.7.2"
  }
 },
 "nbformat": 4,
 "nbformat_minor": 2
}
