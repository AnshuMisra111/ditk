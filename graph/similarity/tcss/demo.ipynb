{
 "cells": [
  {
   "cell_type": "markdown",
   "metadata": {},
   "source": [
    "# Semantic Similarity based on graph\n",
    "# Categorizer\n",
    "## Calculating semantic similarity for estimating protein-protein interactions\n",
    "\n",
    "### original paper:\n",
    "\n",
    "https://bmcgenomics.biomedcentral.com/articles/10.1186/1471-2164-15-1091\n",
    "\n",
    "## Implement class TSCC"
   ]
  },
  {
   "cell_type": "code",
   "execution_count": 1,
   "metadata": {},
   "outputs": [],
   "source": [
    "from main import TSCC"
   ]
  },
  {
   "cell_type": "code",
   "execution_count": 2,
   "metadata": {},
   "outputs": [],
   "source": [
    "tscc = TSCC()"
   ]
  },
  {
   "cell_type": "markdown",
   "metadata": {},
   "source": [
    "Initial an instance."
   ]
  },
  {
   "cell_type": "code",
   "execution_count": 3,
   "metadata": {},
   "outputs": [
    {
     "name": "stdout",
     "output_type": "stream",
     "text": [
      "loading ontology data.............\n"
     ]
    }
   ],
   "source": [
    "tscc.load_gene_ontology(\"./data/gene_ontology.obo.txt\")"
   ]
  },
  {
   "cell_type": "markdown",
   "metadata": {},
   "source": [
    "## Load ontology structure file."
   ]
  },
  {
   "cell_type": "code",
   "execution_count": 4,
   "metadata": {},
   "outputs": [
    {
     "name": "stdout",
     "output_type": "stream",
     "text": [
      "loading gene data.............\n"
     ]
    }
   ],
   "source": [
    "tscc.load_gene_annotation('./data/gene_association.sgd')"
   ]
  },
  {
   "cell_type": "markdown",
   "metadata": {},
   "source": [
    "## Load gene annotation file."
   ]
  },
  {
   "cell_type": "code",
   "execution_count": 5,
   "metadata": {},
   "outputs": [
    {
     "name": "stdout",
     "output_type": "stream",
     "text": [
      "working with Cellular Component ontology.....\n"
     ]
    }
   ],
   "source": [
    "tscc.cluster()\n",
    "#cluster for calculate the sematic similarity score\n",
    "#default using Cellular Component"
   ]
  },
  {
   "cell_type": "markdown",
   "metadata": {},
   "source": [
    "## Preparing data for calculating similarities. Default using Cellular Component and cutoff 2.4"
   ]
  },
  {
   "cell_type": "code",
   "execution_count": 6,
   "metadata": {},
   "outputs": [],
   "source": [
    "output = tscc.similarity_for_file(\"data/positives.sgd.c\")"
   ]
  },
  {
   "cell_type": "markdown",
   "metadata": {},
   "source": [
    "## Get similarities for gene pairs in a file. Genes seperated by \",\""
   ]
  },
  {
   "cell_type": "code",
   "execution_count": 7,
   "metadata": {},
   "outputs": [
    {
     "data": {
      "text/plain": [
       "'S000001774,S000003333,Cellular Component: 0.333031456457\\n'"
      ]
     },
     "execution_count": 7,
     "metadata": {},
     "output_type": "execute_result"
    }
   ],
   "source": [
    "tscc.similarity('S000001774',\"S000003333\")"
   ]
  },
  {
   "cell_type": "markdown",
   "metadata": {},
   "source": [
    "## Get similarities for a pair of genes"
   ]
  },
  {
   "cell_type": "code",
   "execution_count": 8,
   "metadata": {},
   "outputs": [
    {
     "data": {
      "text/plain": [
       "['S000001774,S000003333,Cellular Component: 0.333031456457\\n',\n",
       " 'S000000313,S000000825,Cellular Component: 0.0494074443379\\n',\n",
       " 'S000005394,S000004723,Cellular Component: 0.458155343793\\n',\n",
       " 'S000003592,S000001019,Cellular Component: 0.120514463903\\n',\n",
       " 'S000000327,S000003478,Cellular Component: 0.544101059604\\n',\n",
       " 'S000002610,S000002344,Cellular Component: 0.177751831825\\n',\n",
       " 'S000001117,S000004360,Cellular Component: 0.0110079433499\\n',\n",
       " 'S000002510,S000000112,Cellular Component: 0.50304963712\\n',\n",
       " 'S000003827,S000001742,Cellular Component: 0.120514463903\\n',\n",
       " 'S000003241,S000005854,Cellular Component: 0.140000142268\\n']"
      ]
     },
     "execution_count": 8,
     "metadata": {},
     "output_type": "execute_result"
    }
   ],
   "source": [
    "output[:10]\n",
    "#show the result"
   ]
  },
  {
   "cell_type": "code",
   "execution_count": 9,
   "metadata": {},
   "outputs": [
    {
     "name": "stdout",
     "output_type": "stream",
     "text": [
      "working with Biological Process ontology.....\n"
     ]
    }
   ],
   "source": [
    "tscc.cluster(ontology = [\"P:3.5\"])\n",
    "#change to use Biological Process\n"
   ]
  },
  {
   "cell_type": "markdown",
   "metadata": {},
   "source": [
    "Changing the settings to use Biological Process and cutoff 3.5"
   ]
  },
  {
   "cell_type": "code",
   "execution_count": 13,
   "metadata": {},
   "outputs": [
    {
     "name": "stdout",
     "output_type": "stream",
     "text": [
      "S000003568 not found in annotations\n",
      "S000006380 not found in annotations\n",
      "S000006380 not found in annotations\n",
      "S000003568 not found in annotations\n",
      "S000002248 not found in annotations\n"
     ]
    },
    {
     "data": {
      "text/plain": [
       "'true positive is 0.579288'"
      ]
     },
     "execution_count": 13,
     "metadata": {},
     "output_type": "execute_result"
    }
   ],
   "source": [
    "tscc.evaluate(\"data/positives.sgd.p\",0.5,True)"
   ]
  },
  {
   "cell_type": "markdown",
   "metadata": {},
   "source": [
    "Evaluating the result by using a all positive or negative gene pairs file. If positive gene pairs are provided, using True. Otherwise using False"
   ]
  },
  {
   "cell_type": "code",
   "execution_count": 14,
   "metadata": {},
   "outputs": [
    {
     "name": "stdout",
     "output_type": "stream",
     "text": [
      "S000003568 not found in annotations\n",
      "S000006380 not found in annotations\n",
      "S000006380 not found in annotations\n",
      "S000002867 not found in annotations\n"
     ]
    },
    {
     "data": {
      "text/plain": [
       "'true negative is 0.981507'"
      ]
     },
     "execution_count": 14,
     "metadata": {},
     "output_type": "execute_result"
    }
   ],
   "source": [
    "tscc.evaluate(\"data/negatives.sgd.p\",0.5,False)"
   ]
  },
  {
   "cell_type": "markdown",
   "metadata": {},
   "source": [
    "Evaluating by negative gene pairs."
   ]
  },
  {
   "cell_type": "code",
   "execution_count": null,
   "metadata": {},
   "outputs": [],
   "source": []
  }
 ],
 "metadata": {
  "kernelspec": {
   "display_name": "Python 2",
   "language": "python",
   "name": "python2"
  },
  "language_info": {
   "codemirror_mode": {
    "name": "ipython",
    "version": 2
   },
   "file_extension": ".py",
   "mimetype": "text/x-python",
   "name": "python",
   "nbconvert_exporter": "python",
   "pygments_lexer": "ipython2",
   "version": "2.7.15"
  }
 },
 "nbformat": 4,
 "nbformat_minor": 2
}
