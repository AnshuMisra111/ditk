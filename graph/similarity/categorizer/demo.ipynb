{
 "cells": [
  {
   "cell_type": "markdown",
   "metadata": {},
   "source": [
    "# Semantic Similarity based on Graph\n",
    "# Categorizer\n",
    "\n",
    "Do gene enrichment analysis using categories instead of original gene ontology.\n",
    "\n",
    "Gene ontology are assigned to categories based on semantic similarity of gene ontologies.\n",
    "\n",
    "implement class Categorizer"
   ]
  },
  {
   "cell_type": "code",
   "execution_count": 10,
   "metadata": {},
   "outputs": [],
   "source": [
    "from main import Categorizer"
   ]
  },
  {
   "cell_type": "code",
   "execution_count": 11,
   "metadata": {},
   "outputs": [],
   "source": [
    "cate = Categorizer()      "
   ]
  },
  {
   "cell_type": "markdown",
   "metadata": {},
   "source": [
    "## initial instance"
   ]
  },
  {
   "cell_type": "code",
   "execution_count": 12,
   "metadata": {},
   "outputs": [
    {
     "name": "stdout",
     "output_type": "stream",
     "text": [
      "0.444360926591\n"
     ]
    }
   ],
   "source": [
    "g2 = 'GO:0051939' \n",
    "g1 = 'GO:0015812' \n",
    "\n",
    "    \n",
    "print cate.similarity(g2, g1)"
   ]
  },
  {
   "cell_type": "markdown",
   "metadata": {},
   "source": [
    "semantic similarity are only based on ontology structure\n",
    "\n",
    "calculated semantic similarity of two gene ontology terms"
   ]
  },
  {
   "cell_type": "code",
   "execution_count": 13,
   "metadata": {},
   "outputs": [
    {
     "name": "stdout",
     "output_type": "stream",
     "text": [
      "('Loading annotation file: ', './dataset/example_gene_association.fb')\n"
     ]
    }
   ],
   "source": [
    "cate.load_gene_annotation()\n",
    "      "
   ]
  },
  {
   "cell_type": "markdown",
   "metadata": {},
   "source": [
    "load gene annotation file"
   ]
  },
  {
   "cell_type": "code",
   "execution_count": 14,
   "metadata": {},
   "outputs": [
    {
     "name": "stdout",
     "output_type": "stream",
     "text": [
      "('Loading category file: ', './dataset/example_categories.txt')\n",
      "Expanding category definition...\n",
      "Category # = 9\n",
      "Cell cycle -> 296 terms\n",
      "Cytoskeleton -> 243 terms\n",
      "Metabolism -> 8071 terms\n",
      "Protein folding -> 15 terms\n",
      "Protein synthesis -> 730 terms\n",
      "Proteolysis -> 83 terms\n",
      "Signaling -> 1518 terms\n",
      "Splicing -> 25 terms\n",
      "Transport -> 2271 terms\n"
     ]
    }
   ],
   "source": [
    "cate.load_def_file()"
   ]
  },
  {
   "cell_type": "markdown",
   "metadata": {},
   "source": [
    "load category definition file and finish assign gene ontology terms to categories"
   ]
  },
  {
   "cell_type": "code",
   "execution_count": 15,
   "metadata": {},
   "outputs": [
    {
     "name": "stdout",
     "output_type": "stream",
     "text": [
      "('Loading genes: ', './dataset/example_genes.txt')\n",
      "-----------------\n",
      "Categorizing... \n",
      "Loading GO structure and GOterm similarity scores...\n",
      "100.0 %                          \r"
     ]
    }
   ],
   "source": [
    "res = cate.run(\"./dataset/example_genes.txt\")"
   ]
  },
  {
   "cell_type": "markdown",
   "metadata": {},
   "source": [
    "run enrichment analysis with a interesting gene list"
   ]
  },
  {
   "cell_type": "code",
   "execution_count": 9,
   "metadata": {},
   "outputs": [
    {
     "name": "stdout",
     "output_type": "stream",
     "text": [
      "Cell cycle\t30\tshot,Chro,14-3-3epsilon,Bub3,mor,ssp,14-3-3zeta,Pten,crol,Dp,Dhc64C,pum,Cka,Tango6,smt3,brm,polo,BubR1,zip,lwr,Spt5,Sin3A,nej,p53,pzg,Klp61F,Aos1,Ald,skpA,alph\n",
      "Cytoskeleton\t32\tshot,Hel25E,Chro,lilli,Hsp83,Bub3,arm,Slu7,lkb1,Galphai,Rpn1,Pten,hts,Dhc64C,Pi3K68D,smt3,Atx2,vib,polo,BubR1,LamC,zip,T-cp1,Spt5,chic,Rab11,Tektin-C,Khc-73,Klp61F,pnut,CalpA,skpA\n",
      "Metabolism\t116\tttk,Prosalpha5,ocm,SelD,lilli,TH1,skd,Sec23,th,IntS2,IntS1,IntS4,mor,IntS9,IntS8,ssp,arm,Akt1,Hmgcr,faf,Pdsw,14-3-3zeta,Spp,Cpsf100,eff,lkb1,Tao,Sec61alpha,Cpsf73,en,Galphai,Nipped-A,Rpn1,nonC,Asph,Gpdh,Pten,crol,Uba1,Rab5,Rheb,Smg5,gol,IntS11,Dp,Dhc64C,Pi3K68D,e(y)1,ATPsyn-b,rn,Trip1,pum,Rpn3,Nelf-E,omd,smt3,Prosbeta1,RhoGAP92B,Chrac-14,ZC3H3,Rpt5,Prp19,Rpt1,Tor,CHIP,sol,brm,polo,CkIIalpha,BubR1,hay,lwr,Pfk,Sir2,Eip75B,Spt5,Sin3A,nej,Mlf,Rpd3,p53,Nelf-A,Src42A,Uba2,Got1,Nnp-1,Pi3K92E,Mcm6,PyK,Upf1,Arf102F,Upf2,Taf4,lic,hiw,Rpn10,Mmp2,bin3,CkIIbeta,betaTub56D,Aos1,Mef2,Hsf,Rtc1,pnut,defl,CalpA,NELF-B,Jra,Ald,eIF3-S9,Pgk,Pgi,Hsromega,skpA,alph\n",
      "Protein folding\t10\tHsp83,14-3-3zeta,Hsc70-5,Hsc70-4,Hsc70Cb,DnaJ-1,T-cp1,Tpr2,Hop,mrj\n",
      "Protein synthesis\t54\tttk,ocm,lilli,TH1,skd,th,Hsp83,mor,ssp,arm,faf,14-3-3zeta,eff,en,Nipped-A,Pten,crol,Hsc70-3,Rheb,Hsc70-4,gol,Dp,e(y)1,rn,pum,Nelf-E,Atx2,brm,CkIIalpha,BubR1,LamC,Sir2,Eip75B,Spt5,Sin3A,nej,Mlf,Rpd3,p53,Nelf-A,Uba2,Pi3K92E,Taf4,tara,hiw,bin3,Aos1,Mef2,Hsf,CalpA,NELF-B,Jra,Hsromega,skpA\n",
      "Proteolysis\t16\tProsalpha5,faf,eff,Rpn1,Rpn3,Prosbeta1,Rpt5,Rpt1,sol,Uba2,Rpn10,Mmp2,Aos1,CalpA,Hsromega,skpA\n",
      "Signaling\t47\tChc,skd,14-3-3epsilon,th,arm,Akt1,14-3-3zeta,lkb1,Tao,TSG101,Galphai,Nipped-A,Pten,crol,MESR4,Uba1,Rab5,Rheb,Dp,Pi3K68D,Rab1,pum,Cka,smt3,porin,brm,CkIIalpha,lwr,Eip75B,Sin3A,nej,p53,raw,Src42A,Rab11,Pi3K92E,RhoGAPp190,rin,Arf102F,pzg,lic,hiw,Mmp2,Jra,Hsromega,skpA,alph\n",
      "Splicing\t17\tl(2)35Df,Hel25E,cactin,Slu7,crn,Cdc5,Hsc70-4,mub,pea,Tango4,CG9667,Prp19,Srp54,hay,CG3605,CG6197,rin\n",
      "Transport\t57\tChc,Nup98-96,Nup107,Hel25E,lilli,Sec23,ATP7,Akt1,faf,Tao,Sec61alpha,TSG101,Nipped-A,nonC,alphaSnap,Nup160,Gpdh,Rab5,Hsc70-4,Dhc64C,Pi3K68D,ATPsyn-b,Rab1,Cka,Madm,Tango6,Tango4,smt3,Atx2,Khc,RhoGAP92B,porin,ZC3H3,Tor,Unc-76,brm,sesB,polo,Nup358,lwr,T-cp1,chic,nej,Itp-r83A,Nup62,Src42A,CG6197,Karybeta3,Rab11,Arf102F,mge,Nup153,Nup154,Klp61F,Syx1A,CalpA,Jra\n",
      "Uncategorized\t28\tUbc-E2H,Traf-like,CG11583,CG9947,CG9300,CG16908,dark,CG7357,mahj,CG11700,M6,CG9775,CG30349,CG4294,CG43707,spag,CG5537,CG31111,Cap,CG1109,CG14438,CG5274,CG42818,Lac,CLIP-190,vnc,cpo,Ssrp\n"
     ]
    }
   ],
   "source": [
    "print('\\n'.join(res))"
   ]
  },
  {
   "cell_type": "markdown",
   "metadata": {},
   "source": [
    "------------\n",
    "enrichment result\n",
    "\n",
    "category, assigned gene number, and assigned gene name\n",
    "\n",
    "This gene list is more likely to relate to Metabolism and Signaling"
   ]
  },
  {
   "cell_type": "code",
   "execution_count": null,
   "metadata": {},
   "outputs": [],
   "source": []
  }
 ],
 "metadata": {
  "kernelspec": {
   "display_name": "Python 2",
   "language": "python",
   "name": "python2"
  },
  "language_info": {
   "codemirror_mode": {
    "name": "ipython",
    "version": 2
   },
   "file_extension": ".py",
   "mimetype": "text/x-python",
   "name": "python",
   "nbconvert_exporter": "python",
   "pygments_lexer": "ipython2",
   "version": "2.7.15"
  }
 },
 "nbformat": 4,
 "nbformat_minor": 2
}
