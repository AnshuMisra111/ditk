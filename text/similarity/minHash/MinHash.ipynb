{
 "cells": [
  {
   "cell_type": "markdown",
   "metadata": {},
   "source": [
    "## MinHash "
   ]
  },
  {
   "cell_type": "code",
   "execution_count": null,
   "metadata": {},
   "outputs": [],
   "source": [
    "import sys\n",
    "sys.path.insert(0, 'C://Users//malla//OneDrive//Documents//548ProjectCode//MinHash')\n",
    "import MinHash2"
   ]
  },
  {
   "cell_type": "markdown",
   "metadata": {},
   "source": [
    "Import the class file MinHash in the file: MinHash"
   ]
  },
  {
   "cell_type": "code",
   "execution_count": null,
   "metadata": {},
   "outputs": [],
   "source": [
    "from MinHash2 import MinHash"
   ]
  },
  {
   "cell_type": "markdown",
   "metadata": {},
   "source": [
    "A 32-bit hash function based on SHA1.\n",
    "Args:\n",
    "    data (bytes): the data to generate 32-bit integer hash from.\n",
    "Returns:\n",
    "    int: an integer hash value that can be encoded using 32 bits.\n"
   ]
  },
  {
   "cell_type": "code",
   "execution_count": null,
   "metadata": {},
   "outputs": [],
   "source": [
    "def sha1_hash32(data):\n",
    "    return struct.unpack('<I', hashlib.sha1(data).digest()[:4])[0]"
   ]
  },
  {
   "cell_type": "markdown",
   "metadata": {},
   "source": [
    "Create an object for MinHash with parameters : hashfunc=sha1_hash32, num_perm=128, seed=1"
   ]
  },
  {
   "cell_type": "code",
   "execution_count": null,
   "metadata": {},
   "outputs": [],
   "source": [
    "minHash=MinHash(hashfunc=sha1_hash32, num_perm=128, seed=1)"
   ]
  },
  {
   "cell_type": "markdown",
   "metadata": {},
   "source": [
    "## Read Dataset\n",
    "Read the Benchmark Dataset: SICK into a DataFrame"
   ]
  },
  {
   "cell_type": "code",
   "execution_count": null,
   "metadata": {},
   "outputs": [],
   "source": [
    "input_df= minHash.read_dataset(\"C:/Users/malla/OneDrive/Documents//548ProjectCode//MinHash//sick.xlsx\") "
   ]
  },
  {
   "cell_type": "markdown",
   "metadata": {},
   "source": [
    "## Predict Embeddings"
   ]
  },
  {
   "cell_type": "code",
   "execution_count": null,
   "metadata": {},
   "outputs": [],
   "source": [
    "#Predict embeddings for a word or a list of words\n",
    "print(minHash.generate_embeddings(['Man']))"
   ]
  },
  {
   "cell_type": "markdown",
   "metadata": {},
   "source": [
    "## Predict Similarity Score"
   ]
  },
  {
   "cell_type": "code",
   "execution_count": null,
   "metadata": {},
   "outputs": [],
   "source": [
    "# Predicted similarity score list and actual similarity score list\n",
    "predict_similarity_list=[]\n",
    "actual_similarity_list=[]"
   ]
  },
  {
   "cell_type": "markdown",
   "metadata": {},
   "source": [
    "Traverse through the dataframe and retrieve the sentences."
   ]
  },
  {
   "cell_type": "code",
   "execution_count": null,
   "metadata": {},
   "outputs": [],
   "source": [
    "for index, row in input_df.iterrows():\n",
    "        # Compute the similarity score using PREDICT_SIMILARITY\n",
    "        predicted_similarity_score=minHash.predict_similarity(row['sentence_A'],row['sentence_B'])\n",
    "        actual_similarity_list.append(row['relatedness_score']/5.0)\n",
    "        predict_similarity_list.append(predicted_similarity_score)    \n"
   ]
  },
  {
   "cell_type": "markdown",
   "metadata": {},
   "source": [
    "## Evaluation on Benchmark Dataset\n",
    "PearsonR and SpearmanR Coefficients : Evaluate the correlation between 2 datasets and outputs a value [-1 to 1] : 0 implies no correlation. "
   ]
  },
  {
   "cell_type": "code",
   "execution_count": null,
   "metadata": {},
   "outputs": [],
   "source": [
    "pearsonr, spearmanr =minHash.evaluate(actual_similarity_list,predict_similarity_list)\n"
   ]
  },
  {
   "cell_type": "code",
   "execution_count": null,
   "metadata": {},
   "outputs": [],
   "source": [
    "print('Pearsonr Coefficient : '+str(pearsonr))"
   ]
  },
  {
   "cell_type": "code",
   "execution_count": null,
   "metadata": {},
   "outputs": [],
   "source": [
    "print('Spearmanr Coefficient :'+str(spearmanr))\n"
   ]
  }
 ],
 "metadata": {
  "kernelspec": {
   "display_name": "Python 3",
   "language": "python",
   "name": "python3"
  },
  "language_info": {
   "codemirror_mode": {
    "name": "ipython",
    "version": 3
   },
   "file_extension": ".py",
   "mimetype": "text/x-python",
   "name": "python",
   "nbconvert_exporter": "python",
   "pygments_lexer": "ipython3",
   "version": "3.6.5"
  }
 },
 "nbformat": 4,
 "nbformat_minor": 2
}
