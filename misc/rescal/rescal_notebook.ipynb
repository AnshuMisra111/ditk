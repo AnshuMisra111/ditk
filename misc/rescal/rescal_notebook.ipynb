{
 "cells": [
  {
   "cell_type": "code",
   "execution_count": 1,
   "metadata": {},
   "outputs": [],
   "source": [
    "import os \n",
    "from rescal_model import RESCALModel\n",
    "import sys"
   ]
  },
  {
   "cell_type": "code",
   "execution_count": 13,
   "metadata": {},
   "outputs": [],
   "source": [
    "dir_path = os.getcwd()"
   ]
  },
  {
   "cell_type": "markdown",
   "metadata": {},
   "source": [
    "# Benchmark 1: Alyawarra kinship data"
   ]
  },
  {
   "cell_type": "code",
   "execution_count": 21,
   "metadata": {},
   "outputs": [
    {
     "name": "stdout",
     "output_type": "stream",
     "text": [
      "26\n",
      "(104, 104)\n"
     ]
    }
   ],
   "source": [
    "model1 = RESCALModel()\n",
    "X = model1.read_dataset(dir_path+'\\\\rescal_input_alyawarradata.mat', 'Rs')"
   ]
  },
  {
   "cell_type": "markdown",
   "metadata": {},
   "source": [
    "## Number of predicates ($m$)"
   ]
  },
  {
   "cell_type": "code",
   "execution_count": 23,
   "metadata": {},
   "outputs": [
    {
     "name": "stdout",
     "output_type": "stream",
     "text": [
      "26\n"
     ]
    }
   ],
   "source": [
    "print(len(X))"
   ]
  },
  {
   "cell_type": "markdown",
   "metadata": {},
   "source": [
    "## Shape of each slice of tensor ($n \\times n$)"
   ]
  },
  {
   "cell_type": "code",
   "execution_count": 22,
   "metadata": {},
   "outputs": [
    {
     "name": "stdout",
     "output_type": "stream",
     "text": [
      "(104, 104)\n"
     ]
    }
   ],
   "source": [
    "print(X[0].shape)"
   ]
  },
  {
   "cell_type": "markdown",
   "metadata": {},
   "source": [
    "## Rank of factorization ($r$)"
   ]
  },
  {
   "cell_type": "code",
   "execution_count": 26,
   "metadata": {},
   "outputs": [],
   "source": [
    "r = 50"
   ]
  },
  {
   "attachments": {},
   "cell_type": "markdown",
   "metadata": {},
   "source": [
    "## Tensor factorization with $r=50$\n",
    "Rescal factorizes each slice of tensor X into 2 matrices $A$ and $R_k$ using Alternating Least Square (ALS) approach\n",
    "\n",
    "$X_k \\approx AR_kA^T,\\;for\\:k=1, 2, ... , m$"
   ]
  },
  {
   "cell_type": "code",
   "execution_count": 27,
   "metadata": {},
   "outputs": [
    {
     "name": "stderr",
     "output_type": "stream",
     "text": [
      "INFO:RESCAL:[  0] fit: 0.56712 | delta: 5.7e-01 | secs: 0.01561\n",
      "INFO:RESCAL:[  1] fit: 0.70437 | delta: 1.4e-01 | secs: 0.02878\n",
      "INFO:RESCAL:[  2] fit: 0.76122 | delta: 5.7e-02 | secs: 0.02074\n",
      "INFO:RESCAL:[  3] fit: 0.79202 | delta: 3.1e-02 | secs: 0.01994\n",
      "INFO:RESCAL:[  4] fit: 0.80691 | delta: 1.5e-02 | secs: 0.02391\n",
      "INFO:RESCAL:[  5] fit: 0.81332 | delta: 6.4e-03 | secs: 0.02316\n",
      "INFO:RESCAL:[  6] fit: 0.81605 | delta: 2.7e-03 | secs: 0.02173\n",
      "INFO:RESCAL:[  7] fit: 0.81731 | delta: 1.3e-03 | secs: 0.02118\n",
      "INFO:RESCAL:[  8] fit: 0.81796 | delta: 6.5e-04 | secs: 0.02218\n"
     ]
    }
   ],
   "source": [
    "A1, R1 = model1.factorize(r)"
   ]
  },
  {
   "attachments": {},
   "cell_type": "markdown",
   "metadata": {},
   "source": [
    "Matrix $A$ contains the latent component representation of the entities in the domain"
   ]
  },
  {
   "cell_type": "code",
   "execution_count": 28,
   "metadata": {},
   "outputs": [
    {
     "name": "stdout",
     "output_type": "stream",
     "text": [
      "[[-0.01866022 -0.24521252 -0.06537011 ...  0.1182805   0.0753205\n",
      "  -0.32346119]\n",
      " [-0.09319873  0.10135903 -0.30187383 ...  0.0492742   0.06627871\n",
      "  -0.41141527]\n",
      " [-0.16971458 -0.28753119  0.50219753 ...  0.18329012 -0.3381763\n",
      "  -0.27997479]\n",
      " ...\n",
      " [ 0.11913258 -0.06904108  0.10243166 ... -0.14522711  0.08433567\n",
      "  -0.30550361]\n",
      " [-0.13842802  0.23622349  0.11526633 ... -0.06898151  0.13737167\n",
      "  -0.47613208]\n",
      " [ 0.27620494  0.13375145 -0.06351159 ...  0.1774887  -0.19434449\n",
      "  -0.3965437 ]]\n"
     ]
    }
   ],
   "source": [
    "print(A1)"
   ]
  },
  {
   "cell_type": "markdown",
   "metadata": {},
   "source": [
    "Shape of $A$ ($n \\times r$)"
   ]
  },
  {
   "cell_type": "code",
   "execution_count": 30,
   "metadata": {},
   "outputs": [
    {
     "name": "stdout",
     "output_type": "stream",
     "text": [
      "(104, 50)\n"
     ]
    }
   ],
   "source": [
    "print(A1.shape)"
   ]
  },
  {
   "cell_type": "markdown",
   "metadata": {},
   "source": [
    "Matrix $R_k$ models the interactions of the latent components in the k-th predicate"
   ]
  },
  {
   "cell_type": "code",
   "execution_count": 31,
   "metadata": {},
   "outputs": [
    {
     "name": "stdout",
     "output_type": "stream",
     "text": [
      "[[-0.01944174  0.05945384 -0.038171   ... -0.00404594  0.00618765\n",
      "  -0.0308563 ]\n",
      " [ 0.05733311 -0.11467548  0.06628435 ...  0.00573783  0.05944878\n",
      "   0.06158951]\n",
      " [-0.04567612  0.0523801   0.01071414 ...  0.05241692  0.04684309\n",
      "   0.00813717]\n",
      " ...\n",
      " [ 0.01047327  0.02314163  0.05487377 ...  0.00511111  0.0145343\n",
      "  -0.03974114]\n",
      " [ 0.01780702  0.04265517  0.06262719 ...  0.03222524 -0.03308642\n",
      "  -0.04988432]\n",
      " [-0.02830994  0.06852687  0.00937319 ... -0.03215061 -0.03550797\n",
      "   0.12352861]]\n"
     ]
    }
   ],
   "source": [
    "print(R1[0])"
   ]
  },
  {
   "cell_type": "markdown",
   "metadata": {},
   "source": [
    "Shape of $R_k$ ($r \\times r$)"
   ]
  },
  {
   "cell_type": "code",
   "execution_count": null,
   "metadata": {},
   "outputs": [],
   "source": []
  }
 ],
 "metadata": {
  "kernelspec": {
   "display_name": "Python 3",
   "language": "python",
   "name": "python3"
  },
  "language_info": {
   "codemirror_mode": {
    "name": "ipython",
    "version": 3
   },
   "file_extension": ".py",
   "mimetype": "text/x-python",
   "name": "python",
   "nbconvert_exporter": "python",
   "pygments_lexer": "ipython3",
   "version": "3.7.0"
  }
 },
 "nbformat": 4,
 "nbformat_minor": 2
}
