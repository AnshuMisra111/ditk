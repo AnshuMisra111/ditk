{
 "cells": [
  {
   "cell_type": "code",
   "execution_count": 17,
   "metadata": {},
   "outputs": [],
   "source": [
    "import os \n",
    "from rescal_model import RESCALModel\n",
    "import sys"
   ]
  },
  {
   "cell_type": "markdown",
   "metadata": {},
   "source": [
    "# Benchmark 1: Alyawarra kinship data"
   ]
  },
  {
   "cell_type": "code",
   "execution_count": 18,
   "metadata": {},
   "outputs": [],
   "source": [
    "model1 = RESCALModel()\n",
    "X = model1.read_dataset(os.getcwd()+'\\\\benchmark1\\\\rescal_input_alyawarradata.mat', 'Rs')"
   ]
  },
  {
   "cell_type": "markdown",
   "metadata": {},
   "source": [
    "## Number of predicates ($m$)"
   ]
  },
  {
   "cell_type": "code",
   "execution_count": 19,
   "metadata": {},
   "outputs": [
    {
     "name": "stdout",
     "output_type": "stream",
     "text": [
      "26\n"
     ]
    }
   ],
   "source": [
    "print(len(X))"
   ]
  },
  {
   "cell_type": "markdown",
   "metadata": {},
   "source": [
    "## Shape of each slice of tensor ($n \\times n$)"
   ]
  },
  {
   "cell_type": "code",
   "execution_count": 20,
   "metadata": {},
   "outputs": [
    {
     "name": "stdout",
     "output_type": "stream",
     "text": [
      "(104, 104)\n"
     ]
    }
   ],
   "source": [
    "print(X[0].shape)"
   ]
  },
  {
   "cell_type": "markdown",
   "metadata": {},
   "source": [
    "## Rank of factorization ($r$)"
   ]
  },
  {
   "cell_type": "code",
   "execution_count": 21,
   "metadata": {},
   "outputs": [],
   "source": [
    "r = 50"
   ]
  },
  {
   "cell_type": "markdown",
   "metadata": {},
   "source": [
    "## Tensor factorization with $r=50$\n",
    "Rescal factorizes each slice of tensor X into 2 matrices $A$ and $R_k$ using Alternating Least Square (ALS) approach\n",
    "\n",
    "$X_k \\approx AR_kA^T,\\;for\\:k=1, 2, ... , m$"
   ]
  },
  {
   "cell_type": "code",
   "execution_count": 22,
   "metadata": {
    "scrolled": true
   },
   "outputs": [
    {
     "name": "stderr",
     "output_type": "stream",
     "text": [
      "INFO:RESCAL:[  0] fit: 0.58176 | delta: 5.8e-01 | secs: 0.01361\n",
      "INFO:RESCAL:[  1] fit: 0.70900 | delta: 1.3e-01 | secs: 0.03702\n",
      "INFO:RESCAL:[  2] fit: 0.76527 | delta: 5.6e-02 | secs: 0.02593\n",
      "INFO:RESCAL:[  3] fit: 0.79524 | delta: 3.0e-02 | secs: 0.02454\n",
      "INFO:RESCAL:[  4] fit: 0.80874 | delta: 1.4e-02 | secs: 0.02458\n",
      "INFO:RESCAL:[  5] fit: 0.81426 | delta: 5.5e-03 | secs: 0.01963\n",
      "INFO:RESCAL:[  6] fit: 0.81657 | delta: 2.3e-03 | secs: 0.02892\n",
      "INFO:RESCAL:[  7] fit: 0.81764 | delta: 1.1e-03 | secs: 0.02493\n",
      "INFO:RESCAL:[  8] fit: 0.81820 | delta: 5.6e-04 | secs: 0.03092\n"
     ]
    }
   ],
   "source": [
    "A1, R1 = model1.factorize(r)"
   ]
  },
  {
   "cell_type": "markdown",
   "metadata": {},
   "source": [
    "## Matrix $A$ contains the latent component representation of the entities in the domain"
   ]
  },
  {
   "cell_type": "code",
   "execution_count": 23,
   "metadata": {},
   "outputs": [
    {
     "name": "stdout",
     "output_type": "stream",
     "text": [
      "[[-0.01368813  0.1812085  -0.18251201 ... -0.15812467  0.05151897\n",
      "  -0.31931646]\n",
      " [ 0.10554886  0.00871292 -0.34205654 ... -0.12527772  0.04689308\n",
      "  -0.4163375 ]\n",
      " [-0.02269086 -0.16493713  0.19580615 ...  0.06744303 -0.26713003\n",
      "  -0.30351533]\n",
      " ...\n",
      " [-0.07166691  0.06640762 -0.34817091 ...  0.30826677  0.03729921\n",
      "  -0.29186425]\n",
      " [ 0.19305299 -0.12509444  0.07845929 ... -0.0055975   0.05294014\n",
      "  -0.46705561]\n",
      " [-0.10595755 -0.06277095 -0.30730867 ... -0.1500461  -0.19493177\n",
      "  -0.38445873]]\n"
     ]
    }
   ],
   "source": [
    "print(A1)"
   ]
  },
  {
   "cell_type": "markdown",
   "metadata": {},
   "source": [
    "## Shape of $A$ ($n \\times r$)"
   ]
  },
  {
   "cell_type": "code",
   "execution_count": 24,
   "metadata": {},
   "outputs": [
    {
     "name": "stdout",
     "output_type": "stream",
     "text": [
      "(104, 50)\n"
     ]
    }
   ],
   "source": [
    "print(A1.shape)"
   ]
  },
  {
   "cell_type": "markdown",
   "metadata": {},
   "source": [
    "## Matrix $R_k$ models the interactions of the latent components in the k-th predicate"
   ]
  },
  {
   "cell_type": "code",
   "execution_count": 25,
   "metadata": {},
   "outputs": [
    {
     "name": "stdout",
     "output_type": "stream",
     "text": [
      "[[-0.08571054  0.05569732  0.04036777 ...  0.00672771  0.02540543\n",
      "  -0.01749452]\n",
      " [ 0.05353351 -0.11611896  0.08703989 ... -0.02505809 -0.06562603\n",
      "  -0.0952362 ]\n",
      " [ 0.00938007  0.09275408 -0.01627604 ... -0.06460518  0.05598936\n",
      "  -0.00761776]\n",
      " ...\n",
      " [ 0.01877111  0.0017941  -0.06267289 ... -0.00418809  0.00012907\n",
      "   0.03389138]\n",
      " [-0.00380127 -0.04715767  0.0184775  ...  0.01011285 -0.03646143\n",
      "  -0.07919764]\n",
      " [-0.0283129  -0.09220294  0.00376541 ...  0.03015159 -0.0637244\n",
      "   0.12118211]]\n"
     ]
    }
   ],
   "source": [
    "print(R1[0])"
   ]
  },
  {
   "cell_type": "markdown",
   "metadata": {},
   "source": [
    "## Shape of $R_k$ ($r \\times r$)"
   ]
  },
  {
   "cell_type": "code",
   "execution_count": 26,
   "metadata": {},
   "outputs": [
    {
     "name": "stdout",
     "output_type": "stream",
     "text": [
      "(50, 50)\n"
     ]
    }
   ],
   "source": [
    "print(R1[0].shape)"
   ]
  },
  {
   "cell_type": "markdown",
   "metadata": {},
   "source": [
    "## Save matrices to txt files and load them back"
   ]
  },
  {
   "cell_type": "code",
   "execution_count": 27,
   "metadata": {},
   "outputs": [
    {
     "name": "stdout",
     "output_type": "stream",
     "text": [
      "[[-0.12153519 -0.13431805 -0.19294858 ...  0.12244789 -0.13448148\n",
      "  -0.33652847]\n",
      " [ 0.14288304 -0.0063402  -0.02964552 ... -0.0736359  -0.05171589\n",
      "  -0.43410974]\n",
      " [ 0.43226877 -0.00052827 -0.02063994 ... -0.13428839  0.06117607\n",
      "  -0.2815986 ]\n",
      " ...\n",
      " [ 0.13453518 -0.09481617  0.34942655 ... -0.31441742 -0.04371322\n",
      "  -0.29731147]\n",
      " [ 0.20900997  0.06922798  0.01551271 ... -0.15134335 -0.06948929\n",
      "  -0.46052085]\n",
      " [ 0.07244612  0.12880857 -0.37725693 ...  0.22373262  0.13053774\n",
      "  -0.3890556 ]]\n",
      "\n",
      "[[-0.09660659 -0.06167038 -0.02808791 ... -0.00770328 -0.00546235\n",
      "   0.01177473]\n",
      " [-0.05963265 -0.13919658  0.05874502 ... -0.01654981 -0.05567043\n",
      "   0.07856133]\n",
      " [-0.00152283  0.01936553 -0.02854187 ... -0.05287543  0.03139199\n",
      "  -0.03258019]\n",
      " ...\n",
      " [-0.02092981  0.01183785 -0.0569907  ...  0.05211154 -0.00891527\n",
      "  -0.05509378]\n",
      " [-0.0094615  -0.04386755  0.02568944 ... -0.00098676 -0.03354644\n",
      "   0.08492345]\n",
      " [-0.00448898  0.0927219  -0.03584417 ... -0.04787778  0.07619653\n",
      "   0.12584558]]\n"
     ]
    }
   ],
   "source": [
    "model1.save_model(os.getcwd()+'\\\\benchmark1')\n",
    "A1_load, R1_load = model1.load_model(os.getcwd()+'\\\\benchmark1')\n",
    "print(A1_load)\n",
    "print()\n",
    "print(R1_load[0])"
   ]
  },
  {
   "cell_type": "markdown",
   "metadata": {},
   "source": [
    "## Evaluation: 10-fold cross validation\n",
    "For both training and testing data, compute mean and standard deviation of Precision Recall Area Under Curve (PR AUC)"
   ]
  },
  {
   "cell_type": "code",
   "execution_count": 28,
   "metadata": {},
   "outputs": [
    {
     "name": "stderr",
     "output_type": "stream",
     "text": [
      "INFO:RESCAL:Train Fold 0\n",
      "INFO:RESCAL:[  0] fit: 0.57700 | delta: 5.8e-01 | secs: 0.03125\n",
      "INFO:RESCAL:[  1] fit: 0.70012 | delta: 1.2e-01 | secs: 0.02449\n",
      "INFO:RESCAL:[  2] fit: 0.75648 | delta: 5.6e-02 | secs: 0.02612\n",
      "INFO:RESCAL:[  3] fit: 0.78706 | delta: 3.1e-02 | secs: 0.02471\n",
      "INFO:RESCAL:[  4] fit: 0.80150 | delta: 1.4e-02 | secs: 0.02448\n",
      "INFO:RESCAL:[  5] fit: 0.80774 | delta: 6.2e-03 | secs: 0.02590\n",
      "INFO:RESCAL:[  6] fit: 0.81044 | delta: 2.7e-03 | secs: 0.02493\n",
      "INFO:RESCAL:[  7] fit: 0.81170 | delta: 1.3e-03 | secs: 0.02478\n",
      "INFO:RESCAL:[  8] fit: 0.81236 | delta: 6.6e-04 | secs: 0.02783\n",
      "INFO:RESCAL:Test Fold 0\n",
      "INFO:RESCAL:[  0] fit: 0.56979 | delta: 5.7e-01 | secs: 0.02394\n",
      "INFO:RESCAL:[  1] fit: 0.69855 | delta: 1.3e-01 | secs: 0.02492\n",
      "INFO:RESCAL:[  2] fit: 0.75718 | delta: 5.9e-02 | secs: 0.03488\n",
      "INFO:RESCAL:[  3] fit: 0.78819 | delta: 3.1e-02 | secs: 0.02595\n",
      "INFO:RESCAL:[  4] fit: 0.80328 | delta: 1.5e-02 | secs: 0.02695\n",
      "INFO:RESCAL:[  5] fit: 0.80992 | delta: 6.6e-03 | secs: 0.03989\n",
      "INFO:RESCAL:[  6] fit: 0.81277 | delta: 2.9e-03 | secs: 0.02796\n",
      "INFO:RESCAL:[  7] fit: 0.81409 | delta: 1.3e-03 | secs: 0.02792\n",
      "INFO:RESCAL:[  8] fit: 0.81476 | delta: 6.7e-04 | secs: 0.03091\n",
      "INFO:RESCAL:Train Fold 1\n",
      "INFO:RESCAL:[  0] fit: 0.58712 | delta: 5.9e-01 | secs: 0.02394\n",
      "INFO:RESCAL:[  1] fit: 0.70299 | delta: 1.2e-01 | secs: 0.02593\n",
      "INFO:RESCAL:[  2] fit: 0.75793 | delta: 5.5e-02 | secs: 0.03104\n",
      "INFO:RESCAL:[  3] fit: 0.78763 | delta: 3.0e-02 | secs: 0.02692\n",
      "INFO:RESCAL:[  4] fit: 0.80184 | delta: 1.4e-02 | secs: 0.02344\n",
      "INFO:RESCAL:[  5] fit: 0.80802 | delta: 6.2e-03 | secs: 0.02892\n",
      "INFO:RESCAL:[  6] fit: 0.81071 | delta: 2.7e-03 | secs: 0.02486\n",
      "INFO:RESCAL:[  7] fit: 0.81196 | delta: 1.3e-03 | secs: 0.02882\n",
      "INFO:RESCAL:[  8] fit: 0.81260 | delta: 6.4e-04 | secs: 0.02683\n",
      "INFO:RESCAL:Test Fold 1\n",
      "INFO:RESCAL:[  0] fit: 0.57300 | delta: 5.7e-01 | secs: 0.02093\n",
      "INFO:RESCAL:[  1] fit: 0.70029 | delta: 1.3e-01 | secs: 0.02707\n",
      "INFO:RESCAL:[  2] fit: 0.75835 | delta: 5.8e-02 | secs: 0.02493\n",
      "INFO:RESCAL:[  3] fit: 0.79040 | delta: 3.2e-02 | secs: 0.03007\n",
      "INFO:RESCAL:[  4] fit: 0.80517 | delta: 1.5e-02 | secs: 0.02864\n",
      "INFO:RESCAL:[  5] fit: 0.81127 | delta: 6.1e-03 | secs: 0.02787\n",
      "INFO:RESCAL:[  6] fit: 0.81377 | delta: 2.5e-03 | secs: 0.02826\n",
      "INFO:RESCAL:[  7] fit: 0.81488 | delta: 1.1e-03 | secs: 0.02494\n",
      "INFO:RESCAL:[  8] fit: 0.81544 | delta: 5.6e-04 | secs: 0.02029\n",
      "INFO:RESCAL:Train Fold 2\n",
      "INFO:RESCAL:[  0] fit: 0.55315 | delta: 5.5e-01 | secs: 0.02242\n",
      "INFO:RESCAL:[  1] fit: 0.68994 | delta: 1.4e-01 | secs: 0.02460\n",
      "INFO:RESCAL:[  2] fit: 0.75010 | delta: 6.0e-02 | secs: 0.02597\n",
      "INFO:RESCAL:[  3] fit: 0.78287 | delta: 3.3e-02 | secs: 0.02550\n",
      "INFO:RESCAL:[  4] fit: 0.79961 | delta: 1.7e-02 | secs: 0.02484\n",
      "INFO:RESCAL:[  5] fit: 0.80702 | delta: 7.4e-03 | secs: 0.02321\n",
      "INFO:RESCAL:[  6] fit: 0.81018 | delta: 3.2e-03 | secs: 0.02671\n",
      "INFO:RESCAL:[  7] fit: 0.81164 | delta: 1.5e-03 | secs: 0.02715\n",
      "INFO:RESCAL:[  8] fit: 0.81240 | delta: 7.6e-04 | secs: 0.02773\n",
      "INFO:RESCAL:Test Fold 2\n",
      "INFO:RESCAL:[  0] fit: 0.56236 | delta: 5.6e-01 | secs: 0.01562\n",
      "INFO:RESCAL:[  1] fit: 0.69880 | delta: 1.4e-01 | secs: 0.03587\n",
      "INFO:RESCAL:[  2] fit: 0.75694 | delta: 5.8e-02 | secs: 0.02893\n",
      "INFO:RESCAL:[  3] fit: 0.78780 | delta: 3.1e-02 | secs: 0.02887\n",
      "INFO:RESCAL:[  4] fit: 0.80329 | delta: 1.5e-02 | secs: 0.02894\n",
      "INFO:RESCAL:[  5] fit: 0.80996 | delta: 6.7e-03 | secs: 0.02691\n",
      "INFO:RESCAL:[  6] fit: 0.81272 | delta: 2.8e-03 | secs: 0.02199\n",
      "INFO:RESCAL:[  7] fit: 0.81400 | delta: 1.3e-03 | secs: 0.02680\n",
      "INFO:RESCAL:[  8] fit: 0.81469 | delta: 6.9e-04 | secs: 0.02546\n",
      "INFO:RESCAL:Train Fold 3\n",
      "INFO:RESCAL:[  0] fit: 0.57882 | delta: 5.8e-01 | secs: 0.02076\n",
      "INFO:RESCAL:[  1] fit: 0.70432 | delta: 1.3e-01 | secs: 0.02343\n",
      "INFO:RESCAL:[  2] fit: 0.76075 | delta: 5.6e-02 | secs: 0.02391\n",
      "INFO:RESCAL:[  3] fit: 0.79056 | delta: 3.0e-02 | secs: 0.02222\n",
      "INFO:RESCAL:[  4] fit: 0.80415 | delta: 1.4e-02 | secs: 0.01974\n",
      "INFO:RESCAL:[  5] fit: 0.80973 | delta: 5.6e-03 | secs: 0.02590\n",
      "INFO:RESCAL:[  6] fit: 0.81203 | delta: 2.3e-03 | secs: 0.02457\n",
      "INFO:RESCAL:[  7] fit: 0.81306 | delta: 1.0e-03 | secs: 0.02547\n",
      "INFO:RESCAL:[  8] fit: 0.81357 | delta: 5.1e-04 | secs: 0.01995\n",
      "INFO:RESCAL:Test Fold 3\n",
      "INFO:RESCAL:[  0] fit: 0.57771 | delta: 5.8e-01 | secs: 0.02101\n",
      "INFO:RESCAL:[  1] fit: 0.70192 | delta: 1.2e-01 | secs: 0.02812\n",
      "INFO:RESCAL:[  2] fit: 0.75985 | delta: 5.8e-02 | secs: 0.02386\n",
      "INFO:RESCAL:[  3] fit: 0.79114 | delta: 3.1e-02 | secs: 0.02676\n",
      "INFO:RESCAL:[  4] fit: 0.80550 | delta: 1.4e-02 | secs: 0.02394\n",
      "INFO:RESCAL:[  5] fit: 0.81146 | delta: 6.0e-03 | secs: 0.02719\n",
      "INFO:RESCAL:[  6] fit: 0.81390 | delta: 2.4e-03 | secs: 0.02294\n",
      "INFO:RESCAL:[  7] fit: 0.81496 | delta: 1.1e-03 | secs: 0.02281\n",
      "INFO:RESCAL:[  8] fit: 0.81547 | delta: 5.1e-04 | secs: 0.02687\n",
      "INFO:RESCAL:Train Fold 4\n",
      "INFO:RESCAL:[  0] fit: 0.56262 | delta: 5.6e-01 | secs: 0.03154\n",
      "INFO:RESCAL:[  1] fit: 0.69569 | delta: 1.3e-01 | secs: 0.02395\n",
      "INFO:RESCAL:[  2] fit: 0.75484 | delta: 5.9e-02 | secs: 0.02254\n",
      "INFO:RESCAL:[  3] fit: 0.78669 | delta: 3.2e-02 | secs: 0.02693\n",
      "INFO:RESCAL:[  4] fit: 0.80214 | delta: 1.5e-02 | secs: 0.02992\n",
      "INFO:RESCAL:[  5] fit: 0.80876 | delta: 6.6e-03 | secs: 0.02453\n",
      "INFO:RESCAL:[  6] fit: 0.81156 | delta: 2.8e-03 | secs: 0.02580\n",
      "INFO:RESCAL:[  7] fit: 0.81286 | delta: 1.3e-03 | secs: 0.02374\n",
      "INFO:RESCAL:[  8] fit: 0.81354 | delta: 6.8e-04 | secs: 0.02381\n",
      "INFO:RESCAL:Test Fold 4\n",
      "INFO:RESCAL:[  0] fit: 0.54880 | delta: 5.5e-01 | secs: 0.02098\n",
      "INFO:RESCAL:[  1] fit: 0.68775 | delta: 1.4e-01 | secs: 0.02321\n",
      "INFO:RESCAL:[  2] fit: 0.75157 | delta: 6.4e-02 | secs: 0.02463\n",
      "INFO:RESCAL:[  3] fit: 0.78581 | delta: 3.4e-02 | secs: 0.02588\n",
      "INFO:RESCAL:[  4] fit: 0.80287 | delta: 1.7e-02 | secs: 0.02535\n",
      "INFO:RESCAL:[  5] fit: 0.81042 | delta: 7.5e-03 | secs: 0.02499\n",
      "INFO:RESCAL:[  6] fit: 0.81355 | delta: 3.1e-03 | secs: 0.02381\n",
      "INFO:RESCAL:[  7] fit: 0.81491 | delta: 1.4e-03 | secs: 0.02272\n",
      "INFO:RESCAL:[  8] fit: 0.81555 | delta: 6.5e-04 | secs: 0.02394\n",
      "INFO:RESCAL:Train Fold 5\n",
      "INFO:RESCAL:[  0] fit: 0.55600 | delta: 5.6e-01 | secs: 0.02598\n",
      "INFO:RESCAL:[  1] fit: 0.69157 | delta: 1.4e-01 | secs: 0.02482\n",
      "INFO:RESCAL:[  2] fit: 0.75190 | delta: 6.0e-02 | secs: 0.02593\n",
      "INFO:RESCAL:[  3] fit: 0.78548 | delta: 3.4e-02 | secs: 0.02592\n",
      "INFO:RESCAL:[  4] fit: 0.80128 | delta: 1.6e-02 | secs: 0.02647\n",
      "INFO:RESCAL:[  5] fit: 0.80781 | delta: 6.5e-03 | secs: 0.02693\n",
      "INFO:RESCAL:[  6] fit: 0.81057 | delta: 2.8e-03 | secs: 0.02698\n",
      "INFO:RESCAL:[  7] fit: 0.81187 | delta: 1.3e-03 | secs: 0.02803\n",
      "INFO:RESCAL:[  8] fit: 0.81258 | delta: 7.1e-04 | secs: 0.02416\n",
      "INFO:RESCAL:Test Fold 5\n",
      "INFO:RESCAL:[  0] fit: 0.58200 | delta: 5.8e-01 | secs: 0.01564\n",
      "INFO:RESCAL:[  1] fit: 0.70307 | delta: 1.2e-01 | secs: 0.04041\n",
      "INFO:RESCAL:[  2] fit: 0.75977 | delta: 5.7e-02 | secs: 0.02326\n",
      "INFO:RESCAL:[  3] fit: 0.79008 | delta: 3.0e-02 | secs: 0.02394\n",
      "INFO:RESCAL:[  4] fit: 0.80407 | delta: 1.4e-02 | secs: 0.02195\n",
      "INFO:RESCAL:[  5] fit: 0.81021 | delta: 6.1e-03 | secs: 0.02382\n",
      "INFO:RESCAL:[  6] fit: 0.81302 | delta: 2.8e-03 | secs: 0.02022\n",
      "INFO:RESCAL:[  7] fit: 0.81441 | delta: 1.4e-03 | secs: 0.02593\n",
      "INFO:RESCAL:[  8] fit: 0.81517 | delta: 7.6e-04 | secs: 0.02493\n",
      "INFO:RESCAL:Train Fold 6\n",
      "INFO:RESCAL:[  0] fit: 0.58310 | delta: 5.8e-01 | secs: 0.02202\n",
      "INFO:RESCAL:[  1] fit: 0.70205 | delta: 1.2e-01 | secs: 0.02792\n",
      "INFO:RESCAL:[  2] fit: 0.75863 | delta: 5.7e-02 | secs: 0.02691\n",
      "INFO:RESCAL:[  3] fit: 0.78914 | delta: 3.1e-02 | secs: 0.02490\n",
      "INFO:RESCAL:[  4] fit: 0.80346 | delta: 1.4e-02 | secs: 0.02892\n",
      "INFO:RESCAL:[  5] fit: 0.80957 | delta: 6.1e-03 | secs: 0.02675\n",
      "INFO:RESCAL:[  6] fit: 0.81220 | delta: 2.6e-03 | secs: 0.02793\n",
      "INFO:RESCAL:[  7] fit: 0.81343 | delta: 1.2e-03 | secs: 0.02824\n",
      "INFO:RESCAL:[  8] fit: 0.81407 | delta: 6.4e-04 | secs: 0.02293\n",
      "INFO:RESCAL:Test Fold 6\n",
      "INFO:RESCAL:[  0] fit: 0.57409 | delta: 5.7e-01 | secs: 0.01562\n",
      "INFO:RESCAL:[  1] fit: 0.70288 | delta: 1.3e-01 | secs: 0.01963\n",
      "INFO:RESCAL:[  2] fit: 0.76179 | delta: 5.9e-02 | secs: 0.01895\n",
      "INFO:RESCAL:[  3] fit: 0.79165 | delta: 3.0e-02 | secs: 0.01995\n",
      "INFO:RESCAL:[  4] fit: 0.80562 | delta: 1.4e-02 | secs: 0.02368\n"
     ]
    },
    {
     "name": "stderr",
     "output_type": "stream",
     "text": [
      "INFO:RESCAL:[  5] fit: 0.81149 | delta: 5.9e-03 | secs: 0.02194\n",
      "INFO:RESCAL:[  6] fit: 0.81393 | delta: 2.4e-03 | secs: 0.02039\n",
      "INFO:RESCAL:[  7] fit: 0.81504 | delta: 1.1e-03 | secs: 0.02735\n",
      "INFO:RESCAL:[  8] fit: 0.81563 | delta: 5.9e-04 | secs: 0.02589\n",
      "INFO:RESCAL:Train Fold 7\n",
      "INFO:RESCAL:[  0] fit: 0.57137 | delta: 5.7e-01 | secs: 0.01950\n",
      "INFO:RESCAL:[  1] fit: 0.69863 | delta: 1.3e-01 | secs: 0.02098\n",
      "INFO:RESCAL:[  2] fit: 0.75581 | delta: 5.7e-02 | secs: 0.02464\n",
      "INFO:RESCAL:[  3] fit: 0.78551 | delta: 3.0e-02 | secs: 0.02158\n",
      "INFO:RESCAL:[  4] fit: 0.80047 | delta: 1.5e-02 | secs: 0.02179\n",
      "INFO:RESCAL:[  5] fit: 0.80791 | delta: 7.4e-03 | secs: 0.02547\n",
      "INFO:RESCAL:[  6] fit: 0.81123 | delta: 3.3e-03 | secs: 0.01993\n",
      "INFO:RESCAL:[  7] fit: 0.81273 | delta: 1.5e-03 | secs: 0.02369\n",
      "INFO:RESCAL:[  8] fit: 0.81348 | delta: 7.5e-04 | secs: 0.02191\n",
      "INFO:RESCAL:Test Fold 7\n",
      "INFO:RESCAL:[  0] fit: 0.56859 | delta: 5.7e-01 | secs: 0.03874\n",
      "INFO:RESCAL:[  1] fit: 0.70089 | delta: 1.3e-01 | secs: 0.02163\n",
      "INFO:RESCAL:[  2] fit: 0.76020 | delta: 5.9e-02 | secs: 0.02291\n",
      "INFO:RESCAL:[  3] fit: 0.79159 | delta: 3.1e-02 | secs: 0.02043\n",
      "INFO:RESCAL:[  4] fit: 0.80587 | delta: 1.4e-02 | secs: 0.02186\n",
      "INFO:RESCAL:[  5] fit: 0.81177 | delta: 5.9e-03 | secs: 0.02388\n",
      "INFO:RESCAL:[  6] fit: 0.81418 | delta: 2.4e-03 | secs: 0.01870\n",
      "INFO:RESCAL:[  7] fit: 0.81525 | delta: 1.1e-03 | secs: 0.02267\n",
      "INFO:RESCAL:[  8] fit: 0.81580 | delta: 5.5e-04 | secs: 0.02890\n",
      "INFO:RESCAL:Train Fold 8\n",
      "INFO:RESCAL:[  0] fit: 0.57951 | delta: 5.8e-01 | secs: 0.02044\n",
      "INFO:RESCAL:[  1] fit: 0.70402 | delta: 1.2e-01 | secs: 0.02952\n",
      "INFO:RESCAL:[  2] fit: 0.75970 | delta: 5.6e-02 | secs: 0.02295\n",
      "INFO:RESCAL:[  3] fit: 0.78944 | delta: 3.0e-02 | secs: 0.02294\n",
      "INFO:RESCAL:[  4] fit: 0.80374 | delta: 1.4e-02 | secs: 0.02108\n",
      "INFO:RESCAL:[  5] fit: 0.80987 | delta: 6.1e-03 | secs: 0.02431\n",
      "INFO:RESCAL:[  6] fit: 0.81245 | delta: 2.6e-03 | secs: 0.02375\n",
      "INFO:RESCAL:[  7] fit: 0.81362 | delta: 1.2e-03 | secs: 0.02811\n",
      "INFO:RESCAL:[  8] fit: 0.81422 | delta: 5.9e-04 | secs: 0.02193\n",
      "INFO:RESCAL:Test Fold 8\n",
      "INFO:RESCAL:[  0] fit: 0.57561 | delta: 5.8e-01 | secs: 0.03124\n",
      "INFO:RESCAL:[  1] fit: 0.69945 | delta: 1.2e-01 | secs: 0.02607\n",
      "INFO:RESCAL:[  2] fit: 0.75751 | delta: 5.8e-02 | secs: 0.02880\n",
      "INFO:RESCAL:[  3] fit: 0.78949 | delta: 3.2e-02 | secs: 0.02280\n",
      "INFO:RESCAL:[  4] fit: 0.80450 | delta: 1.5e-02 | secs: 0.02502\n",
      "INFO:RESCAL:[  5] fit: 0.81110 | delta: 6.6e-03 | secs: 0.02203\n",
      "INFO:RESCAL:[  6] fit: 0.81400 | delta: 2.9e-03 | secs: 0.02494\n",
      "INFO:RESCAL:[  7] fit: 0.81537 | delta: 1.4e-03 | secs: 0.02168\n",
      "INFO:RESCAL:[  8] fit: 0.81609 | delta: 7.2e-04 | secs: 0.02452\n",
      "INFO:RESCAL:Train Fold 9\n",
      "INFO:RESCAL:[  0] fit: 0.58610 | delta: 5.9e-01 | secs: 0.02242\n",
      "INFO:RESCAL:[  1] fit: 0.70151 | delta: 1.2e-01 | secs: 0.02689\n",
      "INFO:RESCAL:[  2] fit: 0.75790 | delta: 5.6e-02 | secs: 0.02788\n",
      "INFO:RESCAL:[  3] fit: 0.78829 | delta: 3.0e-02 | secs: 0.02301\n",
      "INFO:RESCAL:[  4] fit: 0.80241 | delta: 1.4e-02 | secs: 0.02278\n",
      "INFO:RESCAL:[  5] fit: 0.80850 | delta: 6.1e-03 | secs: 0.02501\n",
      "INFO:RESCAL:[  6] fit: 0.81119 | delta: 2.7e-03 | secs: 0.02373\n",
      "INFO:RESCAL:[  7] fit: 0.81248 | delta: 1.3e-03 | secs: 0.02499\n",
      "INFO:RESCAL:[  8] fit: 0.81317 | delta: 6.9e-04 | secs: 0.02387\n",
      "INFO:RESCAL:Test Fold 9\n",
      "INFO:RESCAL:[  0] fit: 0.57384 | delta: 5.7e-01 | secs: 0.02306\n",
      "INFO:RESCAL:[  1] fit: 0.70370 | delta: 1.3e-01 | secs: 0.02346\n",
      "INFO:RESCAL:[  2] fit: 0.76098 | delta: 5.7e-02 | secs: 0.02214\n",
      "INFO:RESCAL:[  3] fit: 0.79110 | delta: 3.0e-02 | secs: 0.02493\n",
      "INFO:RESCAL:[  4] fit: 0.80492 | delta: 1.4e-02 | secs: 0.02796\n",
      "INFO:RESCAL:[  5] fit: 0.81088 | delta: 6.0e-03 | secs: 0.02493\n",
      "INFO:RESCAL:[  6] fit: 0.81357 | delta: 2.7e-03 | secs: 0.02692\n",
      "INFO:RESCAL:[  7] fit: 0.81496 | delta: 1.4e-03 | secs: 0.02377\n",
      "INFO:RESCAL:[  8] fit: 0.81578 | delta: 8.2e-04 | secs: 0.02085\n"
     ]
    },
    {
     "name": "stdout",
     "output_type": "stream",
     "text": [
      "PR AUC training/test mean: 0.916/0.921\n",
      "PR AUC training/test standard deviation: 0.030/0.030\n"
     ]
    }
   ],
   "source": [
    "mean_train1, std_train1, mean_test1, std_test1 = model1.evaluate()\n",
    "print(\"PR AUC training/test mean: %.3f/%.3f\" %(mean_train1, mean_test1))\n",
    "print(\"PR AUC training/test standard deviation: %.3f/%.3f\" %(std_train1, std_test1))"
   ]
  },
  {
   "cell_type": "markdown",
   "metadata": {},
   "source": [
    "# Benchmark 2: UMLS dataset"
   ]
  },
  {
   "cell_type": "code",
   "execution_count": 29,
   "metadata": {},
   "outputs": [],
   "source": [
    "model2 = RESCALModel()\n",
    "X2 = model2.read_dataset(os.getcwd()+'\\\\benchmark2\\\\rescal_input_umls.mat', 'Rs')"
   ]
  },
  {
   "cell_type": "markdown",
   "metadata": {},
   "source": [
    "## Tensor factorization with $r=50$"
   ]
  },
  {
   "cell_type": "code",
   "execution_count": 30,
   "metadata": {},
   "outputs": [
    {
     "name": "stderr",
     "output_type": "stream",
     "text": [
      "INFO:RESCAL:[  0] fit: 0.81603 | delta: 8.2e-01 | secs: 0.07508\n",
      "INFO:RESCAL:[  1] fit: 0.85399 | delta: 3.8e-02 | secs: 0.05726\n",
      "INFO:RESCAL:[  2] fit: 0.86156 | delta: 7.6e-03 | secs: 0.05784\n",
      "INFO:RESCAL:[  3] fit: 0.86400 | delta: 2.4e-03 | secs: 0.05490\n",
      "INFO:RESCAL:[  4] fit: 0.86492 | delta: 9.3e-04 | secs: 0.04905\n"
     ]
    },
    {
     "name": "stdout",
     "output_type": "stream",
     "text": [
      "[[-0.37251859 -0.17126244 -0.25438756 ...  0.08340365  0.17627114\n",
      "  -0.80348998]\n",
      " [ 0.03971887  0.15285085 -0.09014183 ...  0.09636373  0.05674021\n",
      "  -0.08959834]\n",
      " [ 0.08183783 -0.38663234  0.41196811 ...  0.21496444  0.20525317\n",
      "  -0.08685161]\n",
      " ...\n",
      " [ 0.27017881  0.03368626  0.15856518 ...  0.14769298 -0.20885229\n",
      "  -0.21603422]\n",
      " [ 0.2520424   0.09279751  0.26025802 ...  0.19110763 -0.1897917\n",
      "  -0.29220382]\n",
      " [ 0.61129318 -0.15969682 -0.17140513 ...  0.32530941 -0.05231979\n",
      "  -0.38937459]]\n",
      "\n",
      "[[ 0.00370207 -0.00137972 -0.00061588 ... -0.01362687  0.00347582\n",
      "   0.0023683 ]\n",
      " [-0.00123718  0.00047669  0.00013656 ...  0.00491878 -0.00131598\n",
      "  -0.00096254]\n",
      " [-0.00067218  0.00011997 -0.0004416  ...  0.00020739 -0.0003865\n",
      "  -0.00013157]\n",
      " ...\n",
      " [-0.00595686  0.0028831   0.0015314  ...  0.05252767 -0.0126729\n",
      "  -0.01126272]\n",
      " [ 0.00111131 -0.00073727 -0.00085988 ... -0.01321018  0.00278032\n",
      "   0.00272735]\n",
      " [ 0.00050812 -0.00047089 -0.00043859 ... -0.01012903  0.00232156\n",
      "   0.00211033]]\n"
     ]
    }
   ],
   "source": [
    "A2, R2 = model2.factorize(50)\n",
    "print(A2)\n",
    "print()\n",
    "print(R2[0])"
   ]
  },
  {
   "cell_type": "markdown",
   "metadata": {},
   "source": [
    "## Evaluation"
   ]
  },
  {
   "cell_type": "code",
   "execution_count": 31,
   "metadata": {},
   "outputs": [
    {
     "name": "stderr",
     "output_type": "stream",
     "text": [
      "INFO:RESCAL:Train Fold 0\n",
      "INFO:RESCAL:[  0] fit: 0.81333 | delta: 8.1e-01 | secs: 0.05435\n",
      "INFO:RESCAL:[  1] fit: 0.85148 | delta: 3.8e-02 | secs: 0.05680\n",
      "INFO:RESCAL:[  2] fit: 0.85891 | delta: 7.4e-03 | secs: 0.05952\n",
      "INFO:RESCAL:[  3] fit: 0.86132 | delta: 2.4e-03 | secs: 0.06717\n",
      "INFO:RESCAL:[  4] fit: 0.86228 | delta: 9.6e-04 | secs: 0.06782\n",
      "INFO:RESCAL:Test Fold 0\n",
      "INFO:RESCAL:[  0] fit: 0.81664 | delta: 8.2e-01 | secs: 0.04751\n",
      "INFO:RESCAL:[  1] fit: 0.85315 | delta: 3.7e-02 | secs: 0.07053\n",
      "INFO:RESCAL:[  2] fit: 0.86036 | delta: 7.2e-03 | secs: 0.07322\n",
      "INFO:RESCAL:[  3] fit: 0.86271 | delta: 2.4e-03 | secs: 0.06698\n",
      "INFO:RESCAL:[  4] fit: 0.86363 | delta: 9.1e-04 | secs: 0.05695\n",
      "INFO:RESCAL:Train Fold 1\n",
      "INFO:RESCAL:[  0] fit: 0.81243 | delta: 8.1e-01 | secs: 0.03813\n",
      "INFO:RESCAL:[  1] fit: 0.85081 | delta: 3.8e-02 | secs: 0.05225\n",
      "INFO:RESCAL:[  2] fit: 0.85848 | delta: 7.7e-03 | secs: 0.06708\n",
      "INFO:RESCAL:[  3] fit: 0.86098 | delta: 2.5e-03 | secs: 0.05690\n",
      "INFO:RESCAL:[  4] fit: 0.86193 | delta: 9.5e-04 | secs: 0.06583\n",
      "INFO:RESCAL:Test Fold 1\n",
      "INFO:RESCAL:[  0] fit: 0.81401 | delta: 8.1e-01 | secs: 0.04243\n",
      "INFO:RESCAL:[  1] fit: 0.85210 | delta: 3.8e-02 | secs: 0.04379\n",
      "INFO:RESCAL:[  2] fit: 0.85976 | delta: 7.7e-03 | secs: 0.05093\n",
      "INFO:RESCAL:[  3] fit: 0.86225 | delta: 2.5e-03 | secs: 0.05009\n",
      "INFO:RESCAL:[  4] fit: 0.86320 | delta: 9.5e-04 | secs: 0.05233\n",
      "INFO:RESCAL:Train Fold 2\n",
      "INFO:RESCAL:[  0] fit: 0.81207 | delta: 8.1e-01 | secs: 0.03833\n",
      "INFO:RESCAL:[  1] fit: 0.85083 | delta: 3.9e-02 | secs: 0.04270\n",
      "INFO:RESCAL:[  2] fit: 0.85846 | delta: 7.6e-03 | secs: 0.06736\n",
      "INFO:RESCAL:[  3] fit: 0.86093 | delta: 2.5e-03 | secs: 0.05195\n",
      "INFO:RESCAL:[  4] fit: 0.86184 | delta: 9.1e-04 | secs: 0.05789\n",
      "INFO:RESCAL:Test Fold 2\n",
      "INFO:RESCAL:[  0] fit: 0.81358 | delta: 8.1e-01 | secs: 0.03124\n",
      "INFO:RESCAL:[  1] fit: 0.85187 | delta: 3.8e-02 | secs: 0.05781\n",
      "INFO:RESCAL:[  2] fit: 0.85974 | delta: 7.9e-03 | secs: 0.03811\n",
      "INFO:RESCAL:[  3] fit: 0.86227 | delta: 2.5e-03 | secs: 0.06217\n",
      "INFO:RESCAL:[  4] fit: 0.86321 | delta: 9.4e-04 | secs: 0.03607\n",
      "INFO:RESCAL:Train Fold 3\n",
      "INFO:RESCAL:[  0] fit: 0.80850 | delta: 8.1e-01 | secs: 0.04118\n",
      "INFO:RESCAL:[  1] fit: 0.84813 | delta: 4.0e-02 | secs: 0.03457\n",
      "INFO:RESCAL:[  2] fit: 0.85612 | delta: 8.0e-03 | secs: 0.04993\n",
      "INFO:RESCAL:[  3] fit: 0.85877 | delta: 2.7e-03 | secs: 0.05018\n",
      "INFO:RESCAL:[  4] fit: 0.85983 | delta: 1.1e-03 | secs: 0.05003\n",
      "INFO:RESCAL:[  5] fit: 0.86031 | delta: 4.8e-04 | secs: 0.05103\n",
      "INFO:RESCAL:Test Fold 3\n",
      "INFO:RESCAL:[  0] fit: 0.81222 | delta: 8.1e-01 | secs: 0.05222\n",
      "INFO:RESCAL:[  1] fit: 0.85164 | delta: 3.9e-02 | secs: 0.04106\n",
      "INFO:RESCAL:[  2] fit: 0.85921 | delta: 7.6e-03 | secs: 0.05066\n",
      "INFO:RESCAL:[  3] fit: 0.86169 | delta: 2.5e-03 | secs: 0.04905\n",
      "INFO:RESCAL:[  4] fit: 0.86261 | delta: 9.2e-04 | secs: 0.05681\n",
      "INFO:RESCAL:Train Fold 4\n",
      "INFO:RESCAL:[  0] fit: 0.80934 | delta: 8.1e-01 | secs: 0.05411\n",
      "INFO:RESCAL:[  1] fit: 0.84865 | delta: 3.9e-02 | secs: 0.04673\n",
      "INFO:RESCAL:[  2] fit: 0.85650 | delta: 7.8e-03 | secs: 0.04895\n",
      "INFO:RESCAL:[  3] fit: 0.85901 | delta: 2.5e-03 | secs: 0.05773\n",
      "INFO:RESCAL:[  4] fit: 0.86004 | delta: 1.0e-03 | secs: 0.04499\n",
      "INFO:RESCAL:[  5] fit: 0.86053 | delta: 5.0e-04 | secs: 0.04621\n",
      "INFO:RESCAL:Test Fold 4\n",
      "INFO:RESCAL:[  0] fit: 0.81255 | delta: 8.1e-01 | secs: 0.03124\n",
      "INFO:RESCAL:[  1] fit: 0.85158 | delta: 3.9e-02 | secs: 0.04399\n",
      "INFO:RESCAL:[  2] fit: 0.85920 | delta: 7.6e-03 | secs: 0.05047\n",
      "INFO:RESCAL:[  3] fit: 0.86158 | delta: 2.4e-03 | secs: 0.05496\n",
      "INFO:RESCAL:[  4] fit: 0.86247 | delta: 8.9e-04 | secs: 0.04408\n",
      "INFO:RESCAL:Train Fold 5\n",
      "INFO:RESCAL:[  0] fit: 0.80965 | delta: 8.1e-01 | secs: 0.04686\n",
      "INFO:RESCAL:[  1] fit: 0.84858 | delta: 3.9e-02 | secs: 0.04533\n",
      "INFO:RESCAL:[  2] fit: 0.85620 | delta: 7.6e-03 | secs: 0.04996\n",
      "INFO:RESCAL:[  3] fit: 0.85873 | delta: 2.5e-03 | secs: 0.05543\n",
      "INFO:RESCAL:[  4] fit: 0.85973 | delta: 1.0e-03 | secs: 0.04258\n",
      "INFO:RESCAL:[  5] fit: 0.86017 | delta: 4.4e-04 | secs: 0.05428\n",
      "INFO:RESCAL:Test Fold 5\n",
      "INFO:RESCAL:[  0] fit: 0.81211 | delta: 8.1e-01 | secs: 0.04686\n",
      "INFO:RESCAL:[  1] fit: 0.85069 | delta: 3.9e-02 | secs: 0.03743\n",
      "INFO:RESCAL:[  2] fit: 0.85846 | delta: 7.8e-03 | secs: 0.05991\n",
      "INFO:RESCAL:[  3] fit: 0.86103 | delta: 2.6e-03 | secs: 0.03808\n",
      "INFO:RESCAL:[  4] fit: 0.86205 | delta: 1.0e-03 | secs: 0.06199\n",
      "INFO:RESCAL:[  5] fit: 0.86249 | delta: 4.5e-04 | secs: 0.04756\n",
      "INFO:RESCAL:Train Fold 6\n",
      "INFO:RESCAL:[  0] fit: 0.80928 | delta: 8.1e-01 | secs: 0.05386\n",
      "INFO:RESCAL:[  1] fit: 0.84875 | delta: 3.9e-02 | secs: 0.05779\n",
      "INFO:RESCAL:[  2] fit: 0.85679 | delta: 8.0e-03 | secs: 0.05629\n",
      "INFO:RESCAL:[  3] fit: 0.85947 | delta: 2.7e-03 | secs: 0.05050\n",
      "INFO:RESCAL:[  4] fit: 0.86051 | delta: 1.0e-03 | secs: 0.03894\n",
      "INFO:RESCAL:[  5] fit: 0.86097 | delta: 4.6e-04 | secs: 0.04835\n",
      "INFO:RESCAL:Test Fold 6\n",
      "INFO:RESCAL:[  0] fit: 0.81262 | delta: 8.1e-01 | secs: 0.04133\n",
      "INFO:RESCAL:[  1] fit: 0.85144 | delta: 3.9e-02 | secs: 0.05342\n",
      "INFO:RESCAL:[  2] fit: 0.85916 | delta: 7.7e-03 | secs: 0.06004\n",
      "INFO:RESCAL:[  3] fit: 0.86177 | delta: 2.6e-03 | secs: 0.06184\n",
      "INFO:RESCAL:[  4] fit: 0.86278 | delta: 1.0e-03 | secs: 0.06689\n",
      "INFO:RESCAL:[  5] fit: 0.86321 | delta: 4.3e-04 | secs: 0.04710\n",
      "INFO:RESCAL:Train Fold 7\n",
      "INFO:RESCAL:[  0] fit: 0.81200 | delta: 8.1e-01 | secs: 0.04685\n",
      "INFO:RESCAL:[  1] fit: 0.85050 | delta: 3.9e-02 | secs: 0.03857\n",
      "INFO:RESCAL:[  2] fit: 0.85819 | delta: 7.7e-03 | secs: 0.05016\n",
      "INFO:RESCAL:[  3] fit: 0.86070 | delta: 2.5e-03 | secs: 0.04941\n",
      "INFO:RESCAL:[  4] fit: 0.86161 | delta: 9.1e-04 | secs: 0.04181\n",
      "INFO:RESCAL:Test Fold 7\n",
      "INFO:RESCAL:[  0] fit: 0.81454 | delta: 8.1e-01 | secs: 0.05046\n",
      "INFO:RESCAL:[  1] fit: 0.85231 | delta: 3.8e-02 | secs: 0.04588\n",
      "INFO:RESCAL:[  2] fit: 0.85987 | delta: 7.6e-03 | secs: 0.04103\n",
      "INFO:RESCAL:[  3] fit: 0.86233 | delta: 2.5e-03 | secs: 0.04889\n",
      "INFO:RESCAL:[  4] fit: 0.86322 | delta: 9.0e-04 | secs: 0.04390\n",
      "INFO:RESCAL:Train Fold 8\n",
      "INFO:RESCAL:[  0] fit: 0.81046 | delta: 8.1e-01 | secs: 0.05512\n",
      "INFO:RESCAL:[  1] fit: 0.84936 | delta: 3.9e-02 | secs: 0.05886\n",
      "INFO:RESCAL:[  2] fit: 0.85721 | delta: 7.9e-03 | secs: 0.05186\n",
      "INFO:RESCAL:[  3] fit: 0.85977 | delta: 2.6e-03 | secs: 0.05104\n",
      "INFO:RESCAL:[  4] fit: 0.86074 | delta: 9.7e-04 | secs: 0.05949\n",
      "INFO:RESCAL:Test Fold 8\n",
      "INFO:RESCAL:[  0] fit: 0.81217 | delta: 8.1e-01 | secs: 0.03124\n",
      "INFO:RESCAL:[  1] fit: 0.85086 | delta: 3.9e-02 | secs: 0.04362\n",
      "INFO:RESCAL:[  2] fit: 0.85858 | delta: 7.7e-03 | secs: 0.04096\n",
      "INFO:RESCAL:[  3] fit: 0.86111 | delta: 2.5e-03 | secs: 0.05091\n",
      "INFO:RESCAL:[  4] fit: 0.86207 | delta: 9.6e-04 | secs: 0.04350\n",
      "INFO:RESCAL:Train Fold 9\n",
      "INFO:RESCAL:[  0] fit: 0.81209 | delta: 8.1e-01 | secs: 0.03124\n",
      "INFO:RESCAL:[  1] fit: 0.85090 | delta: 3.9e-02 | secs: 0.04150\n",
      "INFO:RESCAL:[  2] fit: 0.85869 | delta: 7.8e-03 | secs: 0.04831\n",
      "INFO:RESCAL:[  3] fit: 0.86115 | delta: 2.5e-03 | secs: 0.04013\n",
      "INFO:RESCAL:[  4] fit: 0.86206 | delta: 9.1e-04 | secs: 0.04298\n",
      "INFO:RESCAL:Test Fold 9\n",
      "INFO:RESCAL:[  0] fit: 0.81425 | delta: 8.1e-01 | secs: 0.05173\n",
      "INFO:RESCAL:[  1] fit: 0.85237 | delta: 3.8e-02 | secs: 0.02919\n",
      "INFO:RESCAL:[  2] fit: 0.85989 | delta: 7.5e-03 | secs: 0.05932\n",
      "INFO:RESCAL:[  3] fit: 0.86232 | delta: 2.4e-03 | secs: 0.04007\n",
      "INFO:RESCAL:[  4] fit: 0.86323 | delta: 9.2e-04 | secs: 0.05005\n"
     ]
    },
    {
     "name": "stdout",
     "output_type": "stream",
     "text": [
      "PR AUC training/test mean: 0.489/0.480\n",
      "PR AUC training/test standard deviation: 0.118/0.141\n"
     ]
    }
   ],
   "source": [
    "mean_train2, std_train2, mean_test2, std_test2 = model2.evaluate()\n",
    "print(\"PR AUC training/test mean: %.3f/%.3f\" %(mean_train2, mean_test2))\n",
    "print(\"PR AUC training/test standard deviation: %.3f/%.3f\" %(std_train2, std_test2))"
   ]
  },
  {
   "cell_type": "markdown",
   "metadata": {},
   "source": [
    "# Benchmark 3: human disease-symptoms data resource"
   ]
  },
  {
   "cell_type": "code",
   "execution_count": 32,
   "metadata": {},
   "outputs": [],
   "source": [
    "model3 = RESCALModel()\n",
    "X3 = model3.read_dataset(os.getcwd()+'\\\\benchmark3\\\\rescal_input_diseases.mat', 'K')"
   ]
  },
  {
   "cell_type": "markdown",
   "metadata": {},
   "source": [
    "## Tensor factorization with $r=50$"
   ]
  },
  {
   "cell_type": "code",
   "execution_count": 33,
   "metadata": {},
   "outputs": [
    {
     "name": "stderr",
     "output_type": "stream",
     "text": [
      "INFO:RESCAL:[  0] fit: 0.93453 | delta: 9.3e-01 | secs: 0.60430\n",
      "INFO:RESCAL:[  1] fit: 0.93513 | delta: 6.0e-04 | secs: 0.59885\n"
     ]
    },
    {
     "name": "stdout",
     "output_type": "stream",
     "text": [
      "[[ 0.00446232 -0.0089613  -0.0283861  ... -0.00726947 -0.01805538\n",
      "  -0.00186346]\n",
      " [-0.19432559  0.10615873  0.32937182 ... -0.38323471 -0.26551574\n",
      "  -0.40343787]\n",
      " [ 0.21909547 -0.10338185  0.19540799 ...  0.03775649 -0.56021673\n",
      "  -0.34375652]\n",
      " ...\n",
      " [-0.2579827   0.24322704  0.4842665  ... -0.2944431  -0.48326003\n",
      "  -0.40817303]\n",
      " [-0.09524507 -0.17159799 -0.33451489 ... -0.08324661  0.01605023\n",
      "  -0.3603542 ]\n",
      " [ 0.08466193 -0.39363298  0.05904715 ... -0.43346224  0.5798173\n",
      "  -0.28820235]]\n",
      "\n",
      "[[-0.0970226   0.07249207  0.25100448 ...  0.11536157  0.09747333\n",
      "   0.2676122 ]\n",
      " [ 0.07249207 -0.0516804  -0.14992046 ... -0.00794668 -0.01766966\n",
      "  -0.05265964]\n",
      " [ 0.25100448 -0.14992046 -0.50351671 ...  0.01315085 -0.00633601\n",
      "  -0.12328693]\n",
      " ...\n",
      " [ 0.11536157 -0.00794668  0.01315085 ...  0.58452327  0.39274157\n",
      "   0.13546583]\n",
      " [ 0.09747333 -0.01766966 -0.00633601 ...  0.39274157  0.41411803\n",
      "   0.31993644]\n",
      " [ 0.2676122  -0.05265964 -0.12328693 ...  0.13546583  0.31993644\n",
      "   1.61585071]]\n"
     ]
    }
   ],
   "source": [
    "A3, R3 = model3.factorize(50)\n",
    "print(A3)\n",
    "print()\n",
    "print(R3[0])"
   ]
  },
  {
   "cell_type": "markdown",
   "metadata": {},
   "source": [
    "## Evaluation"
   ]
  },
  {
   "cell_type": "code",
   "execution_count": 34,
   "metadata": {},
   "outputs": [
    {
     "name": "stderr",
     "output_type": "stream",
     "text": [
      "INFO:RESCAL:Train Fold 0\n",
      "INFO:RESCAL:[  0] fit: 0.87639 | delta: 8.8e-01 | secs: 0.55189\n",
      "INFO:RESCAL:[  1] fit: 0.87830 | delta: 1.9e-03 | secs: 0.57327\n",
      "INFO:RESCAL:[  2] fit: 0.87868 | delta: 3.8e-04 | secs: 0.55382\n",
      "INFO:RESCAL:Test Fold 0\n",
      "INFO:RESCAL:[  0] fit: 0.90329 | delta: 9.0e-01 | secs: 0.56498\n",
      "INFO:RESCAL:[  1] fit: 0.90411 | delta: 8.2e-04 | secs: 0.56917\n",
      "INFO:RESCAL:Train Fold 1\n",
      "INFO:RESCAL:[  0] fit: 0.87601 | delta: 8.8e-01 | secs: 0.54882\n",
      "INFO:RESCAL:[  1] fit: 0.87825 | delta: 2.2e-03 | secs: 0.55421\n",
      "INFO:RESCAL:[  2] fit: 0.87867 | delta: 4.2e-04 | secs: 0.54397\n",
      "INFO:RESCAL:Test Fold 1\n",
      "INFO:RESCAL:[  0] fit: 0.90330 | delta: 9.0e-01 | secs: 0.54614\n",
      "INFO:RESCAL:[  1] fit: 0.90409 | delta: 7.9e-04 | secs: 0.56355\n",
      "INFO:RESCAL:Train Fold 2\n",
      "INFO:RESCAL:[  0] fit: 0.87628 | delta: 8.8e-01 | secs: 0.53786\n",
      "INFO:RESCAL:[  1] fit: 0.87835 | delta: 2.1e-03 | secs: 0.53902\n",
      "INFO:RESCAL:[  2] fit: 0.87876 | delta: 4.1e-04 | secs: 0.53811\n",
      "INFO:RESCAL:Test Fold 2\n",
      "INFO:RESCAL:[  0] fit: 0.90332 | delta: 9.0e-01 | secs: 0.54696\n",
      "INFO:RESCAL:[  1] fit: 0.90410 | delta: 7.8e-04 | secs: 0.56918\n",
      "INFO:RESCAL:Train Fold 3\n",
      "INFO:RESCAL:[  0] fit: 0.87616 | delta: 8.8e-01 | secs: 0.54436\n",
      "INFO:RESCAL:[  1] fit: 0.87839 | delta: 2.2e-03 | secs: 0.54820\n",
      "INFO:RESCAL:[  2] fit: 0.87881 | delta: 4.3e-04 | secs: 0.55410\n",
      "INFO:RESCAL:Test Fold 3\n",
      "INFO:RESCAL:[  0] fit: 0.90328 | delta: 9.0e-01 | secs: 0.55402\n",
      "INFO:RESCAL:[  1] fit: 0.90402 | delta: 7.4e-04 | secs: 0.57407\n",
      "INFO:RESCAL:Train Fold 4\n",
      "INFO:RESCAL:[  0] fit: 0.87626 | delta: 8.8e-01 | secs: 0.54775\n",
      "INFO:RESCAL:[  1] fit: 0.87840 | delta: 2.1e-03 | secs: 0.55726\n",
      "INFO:RESCAL:[  2] fit: 0.87876 | delta: 3.6e-04 | secs: 0.56723\n",
      "INFO:RESCAL:Test Fold 4\n",
      "INFO:RESCAL:[  0] fit: 0.90335 | delta: 9.0e-01 | secs: 0.70108\n",
      "INFO:RESCAL:[  1] fit: 0.90415 | delta: 8.0e-04 | secs: 0.63520\n",
      "INFO:RESCAL:Train Fold 5\n",
      "INFO:RESCAL:[  0] fit: 0.87604 | delta: 8.8e-01 | secs: 0.57581\n",
      "INFO:RESCAL:[  1] fit: 0.87841 | delta: 2.4e-03 | secs: 0.57742\n",
      "INFO:RESCAL:[  2] fit: 0.87886 | delta: 4.5e-04 | secs: 0.55299\n",
      "INFO:RESCAL:Test Fold 5\n",
      "INFO:RESCAL:[  0] fit: 0.90339 | delta: 9.0e-01 | secs: 0.55492\n",
      "INFO:RESCAL:[  1] fit: 0.90413 | delta: 7.4e-04 | secs: 0.58217\n",
      "INFO:RESCAL:Train Fold 6\n",
      "INFO:RESCAL:[  0] fit: 0.87616 | delta: 8.8e-01 | secs: 0.55239\n",
      "INFO:RESCAL:[  1] fit: 0.87830 | delta: 2.1e-03 | secs: 0.57431\n",
      "INFO:RESCAL:[  2] fit: 0.87870 | delta: 4.0e-04 | secs: 0.53384\n",
      "INFO:RESCAL:Test Fold 6\n",
      "INFO:RESCAL:[  0] fit: 0.90335 | delta: 9.0e-01 | secs: 0.55328\n",
      "INFO:RESCAL:[  1] fit: 0.90412 | delta: 7.7e-04 | secs: 0.57881\n",
      "INFO:RESCAL:Train Fold 7\n",
      "INFO:RESCAL:[  0] fit: 0.87604 | delta: 8.8e-01 | secs: 0.56601\n",
      "INFO:RESCAL:[  1] fit: 0.87817 | delta: 2.1e-03 | secs: 0.53490\n",
      "INFO:RESCAL:[  2] fit: 0.87853 | delta: 3.6e-04 | secs: 0.55646\n",
      "INFO:RESCAL:Test Fold 7\n",
      "INFO:RESCAL:[  0] fit: 0.90321 | delta: 9.0e-01 | secs: 0.57685\n",
      "INFO:RESCAL:[  1] fit: 0.90397 | delta: 7.6e-04 | secs: 0.61877\n",
      "INFO:RESCAL:Train Fold 8\n",
      "INFO:RESCAL:[  0] fit: 0.87638 | delta: 8.8e-01 | secs: 0.55959\n",
      "INFO:RESCAL:[  1] fit: 0.87839 | delta: 2.0e-03 | secs: 0.63855\n",
      "INFO:RESCAL:[  2] fit: 0.87881 | delta: 4.2e-04 | secs: 0.57373\n",
      "INFO:RESCAL:Test Fold 8\n",
      "INFO:RESCAL:[  0] fit: 0.90338 | delta: 9.0e-01 | secs: 0.62961\n",
      "INFO:RESCAL:[  1] fit: 0.90416 | delta: 7.8e-04 | secs: 0.62891\n",
      "INFO:RESCAL:Train Fold 9\n",
      "INFO:RESCAL:[  0] fit: 0.87608 | delta: 8.8e-01 | secs: 0.54666\n",
      "INFO:RESCAL:[  1] fit: 0.87834 | delta: 2.3e-03 | secs: 0.55352\n",
      "INFO:RESCAL:[  2] fit: 0.87872 | delta: 3.8e-04 | secs: 0.55924\n",
      "INFO:RESCAL:Test Fold 9\n",
      "INFO:RESCAL:[  0] fit: 0.90335 | delta: 9.0e-01 | secs: 0.56902\n",
      "INFO:RESCAL:[  1] fit: 0.90411 | delta: 7.7e-04 | secs: 0.59784\n"
     ]
    },
    {
     "name": "stdout",
     "output_type": "stream",
     "text": [
      "PR AUC training/test mean: 0.757/0.756\n",
      "PR AUC training/test standard deviation: 0.001/0.001\n"
     ]
    }
   ],
   "source": [
    "mean_train3, std_train3, mean_test3, std_test3 = model3.evaluate()\n",
    "print(\"PR AUC training/test mean: %.3f/%.3f\" %(mean_train3, mean_test3))\n",
    "print(\"PR AUC training/test standard deviation: %.3f/%.3f\" %(std_train3, std_test3))"
   ]
  },
  {
   "cell_type": "code",
   "execution_count": null,
   "metadata": {},
   "outputs": [],
   "source": []
  }
 ],
 "metadata": {
  "kernelspec": {
   "display_name": "Python 3",
   "language": "python",
   "name": "python3"
  },
  "language_info": {
   "codemirror_mode": {
    "name": "ipython",
    "version": 3
   },
   "file_extension": ".py",
   "mimetype": "text/x-python",
   "name": "python",
   "nbconvert_exporter": "python",
   "pygments_lexer": "ipython3",
   "version": "3.7.0"
  }
 },
 "nbformat": 4,
 "nbformat_minor": 2
}
