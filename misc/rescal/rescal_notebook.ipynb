{
 "cells": [
  {
   "cell_type": "code",
   "execution_count": 4,
   "metadata": {},
   "outputs": [],
   "source": [
    "import os \n",
    "from rescal_model import RESCALModel\n",
    "import sys"
   ]
  },
  {
   "cell_type": "markdown",
   "metadata": {},
   "source": [
    "# Benchmark 1: Alyawarra kinship data"
   ]
  },
  {
   "cell_type": "code",
   "execution_count": 5,
   "metadata": {},
   "outputs": [],
   "source": [
    "model1 = RESCALModel()\n",
    "X = model1.read_dataset(os.getcwd()+'\\\\benchmark1\\\\rescal_input_alyawarradata.mat', 'Rs')"
   ]
  },
  {
   "cell_type": "markdown",
   "metadata": {},
   "source": [
    "## Number of predicates ($m$)"
   ]
  },
  {
   "cell_type": "code",
   "execution_count": 6,
   "metadata": {},
   "outputs": [
    {
     "name": "stdout",
     "output_type": "stream",
     "text": [
      "26\n"
     ]
    }
   ],
   "source": [
    "print(len(X))"
   ]
  },
  {
   "cell_type": "markdown",
   "metadata": {},
   "source": [
    "## Shape of each slice of tensor ($n \\times n$)"
   ]
  },
  {
   "cell_type": "code",
   "execution_count": 7,
   "metadata": {},
   "outputs": [
    {
     "name": "stdout",
     "output_type": "stream",
     "text": [
      "(104, 104)\n"
     ]
    }
   ],
   "source": [
    "print(X[0].shape)"
   ]
  },
  {
   "cell_type": "markdown",
   "metadata": {},
   "source": [
    "## Rank of factorization ($r$)"
   ]
  },
  {
   "cell_type": "code",
   "execution_count": 8,
   "metadata": {},
   "outputs": [],
   "source": [
    "r = 50"
   ]
  },
  {
   "cell_type": "markdown",
   "metadata": {},
   "source": [
    "## Tensor factorization with $r=50$\n",
    "Rescal factorizes each slice of tensor X into 2 matrices $A$ and $R_k$ using Alternating Least Square (ALS) approach\n",
    "\n",
    "$X_k \\approx AR_kA^T,\\;for\\:k=1, 2, ... , m$"
   ]
  },
  {
   "cell_type": "code",
   "execution_count": 9,
   "metadata": {
    "scrolled": true
   },
   "outputs": [
    {
     "name": "stderr",
     "output_type": "stream",
     "text": [
      "INFO:RESCAL:[  0] fit: 0.58742 | delta: 5.9e-01 | secs: 0.02889\n",
      "INFO:RESCAL:[  1] fit: 0.70874 | delta: 1.2e-01 | secs: 0.02605\n",
      "INFO:RESCAL:[  2] fit: 0.76460 | delta: 5.6e-02 | secs: 0.02893\n",
      "INFO:RESCAL:[  3] fit: 0.79413 | delta: 3.0e-02 | secs: 0.04181\n",
      "INFO:RESCAL:[  4] fit: 0.80742 | delta: 1.3e-02 | secs: 0.03568\n",
      "INFO:RESCAL:[  5] fit: 0.81309 | delta: 5.7e-03 | secs: 0.03092\n",
      "INFO:RESCAL:[  6] fit: 0.81563 | delta: 2.5e-03 | secs: 0.03295\n",
      "INFO:RESCAL:[  7] fit: 0.81688 | delta: 1.2e-03 | secs: 0.03856\n",
      "INFO:RESCAL:[  8] fit: 0.81754 | delta: 6.6e-04 | secs: 0.03236\n"
     ]
    }
   ],
   "source": [
    "A1, R1 = model1.factorize(r)"
   ]
  },
  {
   "cell_type": "markdown",
   "metadata": {},
   "source": [
    "## Matrix $A$ contains the latent component representation of the entities in the domain"
   ]
  },
  {
   "cell_type": "code",
   "execution_count": 10,
   "metadata": {},
   "outputs": [
    {
     "name": "stdout",
     "output_type": "stream",
     "text": [
      "[[-0.08895653  0.14236985  0.11788327 ...  0.26650432  0.12298793\n",
      "   0.32778377]\n",
      " [ 0.12130986  0.00184876 -0.08225458 ...  0.0285237  -0.01637083\n",
      "   0.42199477]\n",
      " [ 0.13180202  0.02598964 -0.17744959 ... -0.04703289  0.01671648\n",
      "   0.29588571]\n",
      " ...\n",
      " [ 0.13151619 -0.02539297 -0.00727691 ... -0.21539883  0.0530544\n",
      "   0.31401749]\n",
      " [ 0.07343107 -0.09189324 -0.04857683 ... -0.04078883  0.05100282\n",
      "   0.46618083]\n",
      " [-0.19936275 -0.30501302 -0.04550286 ...  0.23861946 -0.00076335\n",
      "   0.36909164]]\n"
     ]
    }
   ],
   "source": [
    "print(A1)"
   ]
  },
  {
   "cell_type": "markdown",
   "metadata": {},
   "source": [
    "## Shape of $A$ ($n \\times r$)"
   ]
  },
  {
   "cell_type": "code",
   "execution_count": 11,
   "metadata": {},
   "outputs": [
    {
     "name": "stdout",
     "output_type": "stream",
     "text": [
      "(104, 50)\n"
     ]
    }
   ],
   "source": [
    "print(A1.shape)"
   ]
  },
  {
   "cell_type": "markdown",
   "metadata": {},
   "source": [
    "## Matrix $R_k$ models the interactions of the latent components in the k-th predicate"
   ]
  },
  {
   "cell_type": "code",
   "execution_count": 12,
   "metadata": {},
   "outputs": [
    {
     "name": "stdout",
     "output_type": "stream",
     "text": [
      "[[-0.05298081  0.01344864  0.04423119 ... -0.01612217 -0.01345469\n",
      "   0.01752797]\n",
      " [-0.01240607 -0.05152611  0.01070069 ... -0.0130523  -0.03444891\n",
      "   0.10918697]\n",
      " [ 0.04269095  0.01861163  0.0056755  ...  0.01379274  0.03133312\n",
      "   0.02853293]\n",
      " ...\n",
      " [-0.03540096 -0.04112311  0.00567597 ...  0.03560325  0.00800331\n",
      "   0.03948583]\n",
      " [-0.01669339 -0.03597238  0.03266643 ...  0.00399071 -0.03280139\n",
      "   0.0658602 ]\n",
      " [ 0.03503293  0.1079669   0.02725706 ...  0.03155712  0.05991559\n",
      "   0.12683266]]\n"
     ]
    }
   ],
   "source": [
    "print(R1[0])"
   ]
  },
  {
   "cell_type": "markdown",
   "metadata": {},
   "source": [
    "## Shape of $R_k$ ($r \\times r$)"
   ]
  },
  {
   "cell_type": "code",
   "execution_count": 13,
   "metadata": {},
   "outputs": [
    {
     "name": "stdout",
     "output_type": "stream",
     "text": [
      "(50, 50)\n"
     ]
    }
   ],
   "source": [
    "print(R1[0].shape)"
   ]
  },
  {
   "cell_type": "markdown",
   "metadata": {},
   "source": [
    "## Save matrices to txt files and load them back"
   ]
  },
  {
   "cell_type": "code",
   "execution_count": 14,
   "metadata": {},
   "outputs": [
    {
     "name": "stdout",
     "output_type": "stream",
     "text": [
      "[[-0.08895653  0.14236985  0.11788327 ...  0.26650432  0.12298793\n",
      "   0.32778377]\n",
      " [ 0.12130986  0.00184876 -0.08225458 ...  0.0285237  -0.01637083\n",
      "   0.42199477]\n",
      " [ 0.13180202  0.02598964 -0.17744959 ... -0.04703289  0.01671648\n",
      "   0.29588571]\n",
      " ...\n",
      " [ 0.13151619 -0.02539297 -0.00727691 ... -0.21539883  0.0530544\n",
      "   0.31401749]\n",
      " [ 0.07343107 -0.09189324 -0.04857683 ... -0.04078883  0.05100282\n",
      "   0.46618083]\n",
      " [-0.19936275 -0.30501302 -0.04550286 ...  0.23861946 -0.00076335\n",
      "   0.36909164]]\n",
      "\n",
      "[[-0.05298081  0.01344864  0.04423119 ... -0.01612217 -0.01345469\n",
      "   0.01752797]\n",
      " [-0.01240607 -0.05152611  0.01070069 ... -0.0130523  -0.03444891\n",
      "   0.10918697]\n",
      " [ 0.04269095  0.01861163  0.0056755  ...  0.01379274  0.03133312\n",
      "   0.02853293]\n",
      " ...\n",
      " [-0.03540096 -0.04112311  0.00567597 ...  0.03560325  0.00800331\n",
      "   0.03948583]\n",
      " [-0.01669339 -0.03597238  0.03266643 ...  0.00399071 -0.03280139\n",
      "   0.0658602 ]\n",
      " [ 0.03503293  0.1079669   0.02725706 ...  0.03155712  0.05991559\n",
      "   0.12683266]]\n"
     ]
    }
   ],
   "source": [
    "model1.save_model(os.getcwd()+'\\\\benchmark1')\n",
    "A1_load, R1_load = model1.load_model(os.getcwd()+'\\\\benchmark1')\n",
    "print(A1_load)\n",
    "print()\n",
    "print(R1_load[0])"
   ]
  },
  {
   "cell_type": "markdown",
   "metadata": {},
   "source": [
    "## Evaluation: 10-fold cross validation\n",
    "For both training and testing data, compute mean and standard deviation of Precision Recall Area Under Curve (PR AUC)"
   ]
  },
  {
   "cell_type": "code",
   "execution_count": 15,
   "metadata": {},
   "outputs": [
    {
     "name": "stderr",
     "output_type": "stream",
     "text": [
      "INFO:RESCAL:Train Fold 0\n",
      "INFO:RESCAL:[  0] fit: 0.55494 | delta: 5.5e-01 | secs: 0.03013\n",
      "INFO:RESCAL:[  1] fit: 0.69432 | delta: 1.4e-01 | secs: 0.03391\n",
      "INFO:RESCAL:[  2] fit: 0.75465 | delta: 6.0e-02 | secs: 0.02995\n",
      "INFO:RESCAL:[  3] fit: 0.78683 | delta: 3.2e-02 | secs: 0.02688\n",
      "INFO:RESCAL:[  4] fit: 0.80240 | delta: 1.6e-02 | secs: 0.02475\n",
      "INFO:RESCAL:[  5] fit: 0.80899 | delta: 6.6e-03 | secs: 0.03363\n",
      "INFO:RESCAL:[  6] fit: 0.81176 | delta: 2.8e-03 | secs: 0.03662\n",
      "INFO:RESCAL:[  7] fit: 0.81303 | delta: 1.3e-03 | secs: 0.02693\n",
      "INFO:RESCAL:[  8] fit: 0.81366 | delta: 6.4e-04 | secs: 0.03100\n",
      "INFO:RESCAL:Test Fold 0\n",
      "INFO:RESCAL:[  0] fit: 0.57267 | delta: 5.7e-01 | secs: 0.03299\n",
      "INFO:RESCAL:[  1] fit: 0.69693 | delta: 1.2e-01 | secs: 0.03244\n",
      "INFO:RESCAL:[  2] fit: 0.75513 | delta: 5.8e-02 | secs: 0.02994\n",
      "INFO:RESCAL:[  3] fit: 0.78686 | delta: 3.2e-02 | secs: 0.02892\n",
      "INFO:RESCAL:[  4] fit: 0.80263 | delta: 1.6e-02 | secs: 0.02494\n",
      "INFO:RESCAL:[  5] fit: 0.80994 | delta: 7.3e-03 | secs: 0.02990\n",
      "INFO:RESCAL:[  6] fit: 0.81333 | delta: 3.4e-03 | secs: 0.02992\n",
      "INFO:RESCAL:[  7] fit: 0.81498 | delta: 1.6e-03 | secs: 0.02693\n",
      "INFO:RESCAL:[  8] fit: 0.81583 | delta: 8.5e-04 | secs: 0.02473\n",
      "INFO:RESCAL:Train Fold 1\n",
      "INFO:RESCAL:[  0] fit: 0.57793 | delta: 5.8e-01 | secs: 0.02159\n",
      "INFO:RESCAL:[  1] fit: 0.69871 | delta: 1.2e-01 | secs: 0.03165\n",
      "INFO:RESCAL:[  2] fit: 0.75562 | delta: 5.7e-02 | secs: 0.03092\n",
      "INFO:RESCAL:[  3] fit: 0.78714 | delta: 3.2e-02 | secs: 0.02892\n",
      "INFO:RESCAL:[  4] fit: 0.80210 | delta: 1.5e-02 | secs: 0.02490\n",
      "INFO:RESCAL:[  5] fit: 0.80850 | delta: 6.4e-03 | secs: 0.02992\n",
      "INFO:RESCAL:[  6] fit: 0.81122 | delta: 2.7e-03 | secs: 0.03123\n",
      "INFO:RESCAL:[  7] fit: 0.81247 | delta: 1.3e-03 | secs: 0.03163\n",
      "INFO:RESCAL:[  8] fit: 0.81313 | delta: 6.6e-04 | secs: 0.03068\n",
      "INFO:RESCAL:Test Fold 1\n",
      "INFO:RESCAL:[  0] fit: 0.58585 | delta: 5.9e-01 | secs: 0.02297\n",
      "INFO:RESCAL:[  1] fit: 0.70286 | delta: 1.2e-01 | secs: 0.02795\n",
      "INFO:RESCAL:[  2] fit: 0.75905 | delta: 5.6e-02 | secs: 0.02399\n",
      "INFO:RESCAL:[  3] fit: 0.78960 | delta: 3.1e-02 | secs: 0.02691\n",
      "INFO:RESCAL:[  4] fit: 0.80417 | delta: 1.5e-02 | secs: 0.03092\n",
      "INFO:RESCAL:[  5] fit: 0.81049 | delta: 6.3e-03 | secs: 0.03282\n",
      "INFO:RESCAL:[  6] fit: 0.81326 | delta: 2.8e-03 | secs: 0.02992\n",
      "INFO:RESCAL:[  7] fit: 0.81457 | delta: 1.3e-03 | secs: 0.02992\n",
      "INFO:RESCAL:[  8] fit: 0.81527 | delta: 7.0e-04 | secs: 0.02481\n",
      "INFO:RESCAL:Train Fold 2\n",
      "INFO:RESCAL:[  0] fit: 0.56235 | delta: 5.6e-01 | secs: 0.02668\n",
      "INFO:RESCAL:[  1] fit: 0.69507 | delta: 1.3e-01 | secs: 0.02983\n",
      "INFO:RESCAL:[  2] fit: 0.75348 | delta: 5.8e-02 | secs: 0.02796\n",
      "INFO:RESCAL:[  3] fit: 0.78524 | delta: 3.2e-02 | secs: 0.02437\n",
      "INFO:RESCAL:[  4] fit: 0.80087 | delta: 1.6e-02 | secs: 0.02891\n",
      "INFO:RESCAL:[  5] fit: 0.80794 | delta: 7.1e-03 | secs: 0.02276\n",
      "INFO:RESCAL:[  6] fit: 0.81110 | delta: 3.2e-03 | secs: 0.03192\n",
      "INFO:RESCAL:[  7] fit: 0.81256 | delta: 1.5e-03 | secs: 0.02792\n",
      "INFO:RESCAL:[  8] fit: 0.81330 | delta: 7.4e-04 | secs: 0.02991\n",
      "INFO:RESCAL:Test Fold 2\n",
      "INFO:RESCAL:[  0] fit: 0.57304 | delta: 5.7e-01 | secs: 0.02693\n",
      "INFO:RESCAL:[  1] fit: 0.69656 | delta: 1.2e-01 | secs: 0.02877\n",
      "INFO:RESCAL:[  2] fit: 0.75542 | delta: 5.9e-02 | secs: 0.02394\n",
      "INFO:RESCAL:[  3] fit: 0.78745 | delta: 3.2e-02 | secs: 0.02890\n",
      "INFO:RESCAL:[  4] fit: 0.80263 | delta: 1.5e-02 | secs: 0.02793\n",
      "INFO:RESCAL:[  5] fit: 0.80920 | delta: 6.6e-03 | secs: 0.02153\n",
      "INFO:RESCAL:[  6] fit: 0.81206 | delta: 2.9e-03 | secs: 0.02854\n",
      "INFO:RESCAL:[  7] fit: 0.81342 | delta: 1.4e-03 | secs: 0.02021\n",
      "INFO:RESCAL:[  8] fit: 0.81415 | delta: 7.3e-04 | secs: 0.02798\n",
      "INFO:RESCAL:Train Fold 3\n",
      "INFO:RESCAL:[  0] fit: 0.55838 | delta: 5.6e-01 | secs: 0.02504\n",
      "INFO:RESCAL:[  1] fit: 0.68951 | delta: 1.3e-01 | secs: 0.02393\n",
      "INFO:RESCAL:[  2] fit: 0.75184 | delta: 6.2e-02 | secs: 0.02862\n",
      "INFO:RESCAL:[  3] fit: 0.78497 | delta: 3.3e-02 | secs: 0.02885\n",
      "INFO:RESCAL:[  4] fit: 0.80127 | delta: 1.6e-02 | secs: 0.02361\n",
      "INFO:RESCAL:[  5] fit: 0.80839 | delta: 7.1e-03 | secs: 0.03002\n",
      "INFO:RESCAL:[  6] fit: 0.81127 | delta: 2.9e-03 | secs: 0.02889\n",
      "INFO:RESCAL:[  7] fit: 0.81249 | delta: 1.2e-03 | secs: 0.02250\n",
      "INFO:RESCAL:[  8] fit: 0.81307 | delta: 5.9e-04 | secs: 0.02366\n",
      "INFO:RESCAL:Test Fold 3\n",
      "INFO:RESCAL:[  0] fit: 0.58165 | delta: 5.8e-01 | secs: 0.02094\n",
      "INFO:RESCAL:[  1] fit: 0.70150 | delta: 1.2e-01 | secs: 0.02910\n",
      "INFO:RESCAL:[  2] fit: 0.75722 | delta: 5.6e-02 | secs: 0.02493\n",
      "INFO:RESCAL:[  3] fit: 0.78836 | delta: 3.1e-02 | secs: 0.02893\n",
      "INFO:RESCAL:[  4] fit: 0.80366 | delta: 1.5e-02 | secs: 0.02593\n",
      "INFO:RESCAL:[  5] fit: 0.81039 | delta: 6.7e-03 | secs: 0.02298\n",
      "INFO:RESCAL:[  6] fit: 0.81330 | delta: 2.9e-03 | secs: 0.02891\n",
      "INFO:RESCAL:[  7] fit: 0.81463 | delta: 1.3e-03 | secs: 0.02394\n",
      "INFO:RESCAL:[  8] fit: 0.81528 | delta: 6.5e-04 | secs: 0.02992\n",
      "INFO:RESCAL:Train Fold 4\n",
      "INFO:RESCAL:[  0] fit: 0.57341 | delta: 5.7e-01 | secs: 0.02501\n",
      "INFO:RESCAL:[  1] fit: 0.69989 | delta: 1.3e-01 | secs: 0.02293\n",
      "INFO:RESCAL:[  2] fit: 0.75802 | delta: 5.8e-02 | secs: 0.02793\n",
      "INFO:RESCAL:[  3] fit: 0.78851 | delta: 3.0e-02 | secs: 0.02587\n",
      "INFO:RESCAL:[  4] fit: 0.80265 | delta: 1.4e-02 | secs: 0.02319\n",
      "INFO:RESCAL:[  5] fit: 0.80892 | delta: 6.3e-03 | secs: 0.03094\n",
      "INFO:RESCAL:[  6] fit: 0.81167 | delta: 2.8e-03 | secs: 0.02694\n",
      "INFO:RESCAL:[  7] fit: 0.81296 | delta: 1.3e-03 | secs: 0.02695\n",
      "INFO:RESCAL:[  8] fit: 0.81363 | delta: 6.7e-04 | secs: 0.02892\n",
      "INFO:RESCAL:Test Fold 4\n",
      "INFO:RESCAL:[  0] fit: 0.58561 | delta: 5.9e-01 | secs: 0.02400\n",
      "INFO:RESCAL:[  1] fit: 0.70120 | delta: 1.2e-01 | secs: 0.02394\n",
      "INFO:RESCAL:[  2] fit: 0.75780 | delta: 5.7e-02 | secs: 0.02394\n",
      "INFO:RESCAL:[  3] fit: 0.78857 | delta: 3.1e-02 | secs: 0.02993\n",
      "INFO:RESCAL:[  4] fit: 0.80337 | delta: 1.5e-02 | secs: 0.02694\n",
      "INFO:RESCAL:[  5] fit: 0.81001 | delta: 6.6e-03 | secs: 0.02575\n",
      "INFO:RESCAL:[  6] fit: 0.81294 | delta: 2.9e-03 | secs: 0.02892\n",
      "INFO:RESCAL:[  7] fit: 0.81434 | delta: 1.4e-03 | secs: 0.02202\n",
      "INFO:RESCAL:[  8] fit: 0.81509 | delta: 7.5e-04 | secs: 0.02633\n",
      "INFO:RESCAL:Train Fold 5\n",
      "INFO:RESCAL:[  0] fit: 0.56431 | delta: 5.6e-01 | secs: 0.02497\n",
      "INFO:RESCAL:[  1] fit: 0.69581 | delta: 1.3e-01 | secs: 0.02294\n",
      "INFO:RESCAL:[  2] fit: 0.75498 | delta: 5.9e-02 | secs: 0.02964\n",
      "INFO:RESCAL:[  3] fit: 0.78514 | delta: 3.0e-02 | secs: 0.02593\n",
      "INFO:RESCAL:[  4] fit: 0.80020 | delta: 1.5e-02 | secs: 0.02593\n",
      "INFO:RESCAL:[  5] fit: 0.80739 | delta: 7.2e-03 | secs: 0.02872\n",
      "INFO:RESCAL:[  6] fit: 0.81061 | delta: 3.2e-03 | secs: 0.02693\n",
      "INFO:RESCAL:[  7] fit: 0.81211 | delta: 1.5e-03 | secs: 0.02497\n",
      "INFO:RESCAL:[  8] fit: 0.81288 | delta: 7.7e-04 | secs: 0.02965\n",
      "INFO:RESCAL:Test Fold 5\n",
      "INFO:RESCAL:[  0] fit: 0.58640 | delta: 5.9e-01 | secs: 0.02462\n",
      "INFO:RESCAL:[  1] fit: 0.70263 | delta: 1.2e-01 | secs: 0.02130\n",
      "INFO:RESCAL:[  2] fit: 0.75775 | delta: 5.5e-02 | secs: 0.02294\n",
      "INFO:RESCAL:[  3] fit: 0.78899 | delta: 3.1e-02 | secs: 0.02094\n",
      "INFO:RESCAL:[  4] fit: 0.80403 | delta: 1.5e-02 | secs: 0.02394\n",
      "INFO:RESCAL:[  5] fit: 0.81069 | delta: 6.7e-03 | secs: 0.02356\n",
      "INFO:RESCAL:[  6] fit: 0.81355 | delta: 2.9e-03 | secs: 0.02241\n",
      "INFO:RESCAL:[  7] fit: 0.81484 | delta: 1.3e-03 | secs: 0.02397\n",
      "INFO:RESCAL:[  8] fit: 0.81549 | delta: 6.5e-04 | secs: 0.02294\n",
      "INFO:RESCAL:Train Fold 6\n",
      "INFO:RESCAL:[  0] fit: 0.56256 | delta: 5.6e-01 | secs: 0.02392\n",
      "INFO:RESCAL:[  1] fit: 0.69200 | delta: 1.3e-01 | secs: 0.02892\n",
      "INFO:RESCAL:[  2] fit: 0.75247 | delta: 6.0e-02 | secs: 0.02789\n",
      "INFO:RESCAL:[  3] fit: 0.78528 | delta: 3.3e-02 | secs: 0.02497\n",
      "INFO:RESCAL:[  4] fit: 0.80097 | delta: 1.6e-02 | secs: 0.02816\n",
      "INFO:RESCAL:[  5] fit: 0.80783 | delta: 6.9e-03 | secs: 0.02383\n",
      "INFO:RESCAL:[  6] fit: 0.81079 | delta: 3.0e-03 | secs: 0.02792\n",
      "INFO:RESCAL:[  7] fit: 0.81216 | delta: 1.4e-03 | secs: 0.02586\n",
      "INFO:RESCAL:[  8] fit: 0.81288 | delta: 7.1e-04 | secs: 0.02394\n",
      "INFO:RESCAL:Test Fold 6\n",
      "INFO:RESCAL:[  0] fit: 0.56490 | delta: 5.6e-01 | secs: 0.02189\n",
      "INFO:RESCAL:[  1] fit: 0.69825 | delta: 1.3e-01 | secs: 0.02198\n",
      "INFO:RESCAL:[  2] fit: 0.75729 | delta: 5.9e-02 | secs: 0.02747\n",
      "INFO:RESCAL:[  3] fit: 0.78915 | delta: 3.2e-02 | secs: 0.02802\n",
      "INFO:RESCAL:[  4] fit: 0.80426 | delta: 1.5e-02 | secs: 0.02992\n",
      "INFO:RESCAL:[  5] fit: 0.81085 | delta: 6.6e-03 | secs: 0.02398\n"
     ]
    },
    {
     "name": "stderr",
     "output_type": "stream",
     "text": [
      "INFO:RESCAL:[  6] fit: 0.81370 | delta: 2.8e-03 | secs: 0.03098\n",
      "INFO:RESCAL:[  7] fit: 0.81502 | delta: 1.3e-03 | secs: 0.02997\n",
      "INFO:RESCAL:[  8] fit: 0.81570 | delta: 6.8e-04 | secs: 0.03049\n",
      "INFO:RESCAL:Train Fold 7\n",
      "INFO:RESCAL:[  0] fit: 0.54798 | delta: 5.5e-01 | secs: 0.02194\n",
      "INFO:RESCAL:[  1] fit: 0.69454 | delta: 1.5e-01 | secs: 0.02866\n",
      "INFO:RESCAL:[  2] fit: 0.75430 | delta: 6.0e-02 | secs: 0.02394\n",
      "INFO:RESCAL:[  3] fit: 0.78586 | delta: 3.2e-02 | secs: 0.03092\n",
      "INFO:RESCAL:[  4] fit: 0.80068 | delta: 1.5e-02 | secs: 0.04485\n",
      "INFO:RESCAL:[  5] fit: 0.80706 | delta: 6.4e-03 | secs: 0.05186\n",
      "INFO:RESCAL:[  6] fit: 0.80999 | delta: 2.9e-03 | secs: 0.02992\n",
      "INFO:RESCAL:[  7] fit: 0.81154 | delta: 1.6e-03 | secs: 0.01995\n",
      "INFO:RESCAL:[  8] fit: 0.81248 | delta: 9.3e-04 | secs: 0.02593\n",
      "INFO:RESCAL:Test Fold 7\n",
      "INFO:RESCAL:[  0] fit: 0.56664 | delta: 5.7e-01 | secs: 0.02693\n",
      "INFO:RESCAL:[  1] fit: 0.70056 | delta: 1.3e-01 | secs: 0.03490\n",
      "INFO:RESCAL:[  2] fit: 0.75943 | delta: 5.9e-02 | secs: 0.02594\n",
      "INFO:RESCAL:[  3] fit: 0.79049 | delta: 3.1e-02 | secs: 0.02593\n",
      "INFO:RESCAL:[  4] fit: 0.80530 | delta: 1.5e-02 | secs: 0.02394\n",
      "INFO:RESCAL:[  5] fit: 0.81146 | delta: 6.2e-03 | secs: 0.02205\n",
      "INFO:RESCAL:[  6] fit: 0.81393 | delta: 2.5e-03 | secs: 0.02188\n",
      "INFO:RESCAL:[  7] fit: 0.81500 | delta: 1.1e-03 | secs: 0.02191\n",
      "INFO:RESCAL:[  8] fit: 0.81552 | delta: 5.2e-04 | secs: 0.02136\n",
      "INFO:RESCAL:Train Fold 8\n",
      "INFO:RESCAL:[  0] fit: 0.55434 | delta: 5.5e-01 | secs: 0.02393\n",
      "INFO:RESCAL:[  1] fit: 0.69426 | delta: 1.4e-01 | secs: 0.02593\n",
      "INFO:RESCAL:[  2] fit: 0.75520 | delta: 6.1e-02 | secs: 0.02394\n",
      "INFO:RESCAL:[  3] fit: 0.78744 | delta: 3.2e-02 | secs: 0.02995\n",
      "INFO:RESCAL:[  4] fit: 0.80277 | delta: 1.5e-02 | secs: 0.02394\n",
      "INFO:RESCAL:[  5] fit: 0.80908 | delta: 6.3e-03 | secs: 0.02196\n",
      "INFO:RESCAL:[  6] fit: 0.81160 | delta: 2.5e-03 | secs: 0.02394\n",
      "INFO:RESCAL:[  7] fit: 0.81270 | delta: 1.1e-03 | secs: 0.02596\n",
      "INFO:RESCAL:[  8] fit: 0.81327 | delta: 5.6e-04 | secs: 0.02593\n",
      "INFO:RESCAL:Test Fold 8\n",
      "INFO:RESCAL:[  0] fit: 0.57061 | delta: 5.7e-01 | secs: 0.03008\n",
      "INFO:RESCAL:[  1] fit: 0.69965 | delta: 1.3e-01 | secs: 0.03291\n",
      "INFO:RESCAL:[  2] fit: 0.75758 | delta: 5.8e-02 | secs: 0.03391\n",
      "INFO:RESCAL:[  3] fit: 0.78889 | delta: 3.1e-02 | secs: 0.02691\n",
      "INFO:RESCAL:[  4] fit: 0.80412 | delta: 1.5e-02 | secs: 0.04390\n",
      "INFO:RESCAL:[  5] fit: 0.81084 | delta: 6.7e-03 | secs: 0.03543\n",
      "INFO:RESCAL:[  6] fit: 0.81380 | delta: 3.0e-03 | secs: 0.03091\n",
      "INFO:RESCAL:[  7] fit: 0.81520 | delta: 1.4e-03 | secs: 0.03391\n",
      "INFO:RESCAL:[  8] fit: 0.81593 | delta: 7.3e-04 | secs: 0.02893\n",
      "INFO:RESCAL:Train Fold 9\n",
      "INFO:RESCAL:[  0] fit: 0.56886 | delta: 5.7e-01 | secs: 0.02493\n",
      "INFO:RESCAL:[  1] fit: 0.70013 | delta: 1.3e-01 | secs: 0.02194\n",
      "INFO:RESCAL:[  2] fit: 0.75923 | delta: 5.9e-02 | secs: 0.02794\n",
      "INFO:RESCAL:[  3] fit: 0.79034 | delta: 3.1e-02 | secs: 0.03489\n",
      "INFO:RESCAL:[  4] fit: 0.80437 | delta: 1.4e-02 | secs: 0.02593\n",
      "INFO:RESCAL:[  5] fit: 0.81004 | delta: 5.7e-03 | secs: 0.03192\n",
      "INFO:RESCAL:[  6] fit: 0.81236 | delta: 2.3e-03 | secs: 0.02892\n",
      "INFO:RESCAL:[  7] fit: 0.81339 | delta: 1.0e-03 | secs: 0.02493\n",
      "INFO:RESCAL:[  8] fit: 0.81390 | delta: 5.1e-04 | secs: 0.02548\n",
      "INFO:RESCAL:Test Fold 9\n",
      "INFO:RESCAL:[  0] fit: 0.58725 | delta: 5.9e-01 | secs: 0.02593\n",
      "INFO:RESCAL:[  1] fit: 0.70589 | delta: 1.2e-01 | secs: 0.02893\n",
      "INFO:RESCAL:[  2] fit: 0.76132 | delta: 5.5e-02 | secs: 0.02792\n",
      "INFO:RESCAL:[  3] fit: 0.79120 | delta: 3.0e-02 | secs: 0.02294\n",
      "INFO:RESCAL:[  4] fit: 0.80525 | delta: 1.4e-02 | secs: 0.03391\n",
      "INFO:RESCAL:[  5] fit: 0.81130 | delta: 6.1e-03 | secs: 0.02493\n",
      "INFO:RESCAL:[  6] fit: 0.81393 | delta: 2.6e-03 | secs: 0.02990\n",
      "INFO:RESCAL:[  7] fit: 0.81515 | delta: 1.2e-03 | secs: 0.03691\n",
      "INFO:RESCAL:[  8] fit: 0.81579 | delta: 6.4e-04 | secs: 0.03191\n"
     ]
    },
    {
     "name": "stdout",
     "output_type": "stream",
     "text": [
      "PR AUC training/test mean: 0.907/0.922\n",
      "PR AUC training/test standard deviation: 0.024/0.034\n"
     ]
    }
   ],
   "source": [
    "mean_train1, std_train1, mean_test1, std_test1 = model1.evaluate()\n",
    "print(\"PR AUC training/test mean: %.3f/%.3f\" %(mean_train1, mean_test1))\n",
    "print(\"PR AUC training/test standard deviation: %.3f/%.3f\" %(std_train1, std_test1))"
   ]
  },
  {
   "cell_type": "markdown",
   "metadata": {},
   "source": [
    "# Benchmark 2: UMLS dataset"
   ]
  },
  {
   "cell_type": "code",
   "execution_count": 16,
   "metadata": {},
   "outputs": [],
   "source": [
    "model2 = RESCALModel()\n",
    "X2 = model2.read_dataset(os.getcwd()+'\\\\benchmark2\\\\rescal_input_umls.mat', 'Rs')"
   ]
  },
  {
   "cell_type": "markdown",
   "metadata": {},
   "source": [
    "## Tensor factorization with $r=50$"
   ]
  },
  {
   "cell_type": "code",
   "execution_count": 17,
   "metadata": {},
   "outputs": [
    {
     "name": "stderr",
     "output_type": "stream",
     "text": [
      "INFO:RESCAL:[  0] fit: 0.81603 | delta: 8.2e-01 | secs: 0.08390\n",
      "INFO:RESCAL:[  1] fit: 0.85399 | delta: 3.8e-02 | secs: 0.07124\n",
      "INFO:RESCAL:[  2] fit: 0.86156 | delta: 7.6e-03 | secs: 0.06571\n",
      "INFO:RESCAL:[  3] fit: 0.86400 | delta: 2.4e-03 | secs: 0.04893\n",
      "INFO:RESCAL:[  4] fit: 0.86492 | delta: 9.3e-04 | secs: 0.04921\n"
     ]
    },
    {
     "name": "stdout",
     "output_type": "stream",
     "text": [
      "[[ 0.37251859 -0.17126244 -0.25438756 ... -0.08340365  0.17627114\n",
      "   0.80348998]\n",
      " [-0.03971887  0.15285085 -0.09014183 ... -0.09636373  0.05674021\n",
      "   0.08959834]\n",
      " [-0.08183783 -0.38663234  0.41196811 ... -0.21496444  0.20525317\n",
      "   0.08685161]\n",
      " ...\n",
      " [-0.27017881  0.03368626  0.15856518 ... -0.14769298 -0.20885229\n",
      "   0.21603422]\n",
      " [-0.2520424   0.09279751  0.26025802 ... -0.19110763 -0.1897917\n",
      "   0.29220382]\n",
      " [-0.61129318 -0.15969682 -0.17140513 ... -0.32530941 -0.05231979\n",
      "   0.38937459]]\n",
      "\n",
      "[[ 0.00370207  0.00137972  0.00061588 ... -0.01362687 -0.00347582\n",
      "   0.0023683 ]\n",
      " [ 0.00123718  0.00047669  0.00013656 ... -0.00491878 -0.00131598\n",
      "   0.00096254]\n",
      " [ 0.00067218  0.00011997 -0.0004416  ... -0.00020739 -0.0003865\n",
      "   0.00013157]\n",
      " ...\n",
      " [-0.00595686 -0.0028831  -0.0015314  ...  0.05252767  0.0126729\n",
      "  -0.01126272]\n",
      " [-0.00111131 -0.00073727 -0.00085988 ...  0.01321018  0.00278032\n",
      "  -0.00272735]\n",
      " [ 0.00050812  0.00047089  0.00043859 ... -0.01012903 -0.00232156\n",
      "   0.00211033]]\n"
     ]
    }
   ],
   "source": [
    "A2, R2 = model2.factorize(50)\n",
    "print(A2)\n",
    "print()\n",
    "print(R2[0])"
   ]
  },
  {
   "cell_type": "markdown",
   "metadata": {},
   "source": [
    "## Evaluation"
   ]
  },
  {
   "cell_type": "code",
   "execution_count": 18,
   "metadata": {},
   "outputs": [
    {
     "name": "stderr",
     "output_type": "stream",
     "text": [
      "INFO:RESCAL:Train Fold 0\n",
      "INFO:RESCAL:[  0] fit: 0.81054 | delta: 8.1e-01 | secs: 0.05029\n",
      "INFO:RESCAL:[  1] fit: 0.84955 | delta: 3.9e-02 | secs: 0.06007\n",
      "INFO:RESCAL:[  2] fit: 0.85708 | delta: 7.5e-03 | secs: 0.05275\n",
      "INFO:RESCAL:[  3] fit: 0.85945 | delta: 2.4e-03 | secs: 0.06152\n",
      "INFO:RESCAL:[  4] fit: 0.86032 | delta: 8.7e-04 | secs: 0.05792\n",
      "INFO:RESCAL:Test Fold 0\n",
      "INFO:RESCAL:[  0] fit: 0.81107 | delta: 8.1e-01 | secs: 0.04568\n",
      "INFO:RESCAL:[  1] fit: 0.85074 | delta: 4.0e-02 | secs: 0.05027\n",
      "INFO:RESCAL:[  2] fit: 0.85862 | delta: 7.9e-03 | secs: 0.04829\n",
      "INFO:RESCAL:[  3] fit: 0.86117 | delta: 2.5e-03 | secs: 0.04588\n",
      "INFO:RESCAL:[  4] fit: 0.86211 | delta: 9.5e-04 | secs: 0.04129\n",
      "INFO:RESCAL:Train Fold 1\n",
      "INFO:RESCAL:[  0] fit: 0.81174 | delta: 8.1e-01 | secs: 0.03840\n",
      "INFO:RESCAL:[  1] fit: 0.85046 | delta: 3.9e-02 | secs: 0.05270\n",
      "INFO:RESCAL:[  2] fit: 0.85805 | delta: 7.6e-03 | secs: 0.04882\n",
      "INFO:RESCAL:[  3] fit: 0.86052 | delta: 2.5e-03 | secs: 0.05300\n",
      "INFO:RESCAL:[  4] fit: 0.86147 | delta: 9.5e-04 | secs: 0.04460\n",
      "INFO:RESCAL:Test Fold 1\n",
      "INFO:RESCAL:[  0] fit: 0.81288 | delta: 8.1e-01 | secs: 0.04540\n",
      "INFO:RESCAL:[  1] fit: 0.85170 | delta: 3.9e-02 | secs: 0.05111\n",
      "INFO:RESCAL:[  2] fit: 0.85920 | delta: 7.5e-03 | secs: 0.05452\n",
      "INFO:RESCAL:[  3] fit: 0.86168 | delta: 2.5e-03 | secs: 0.04686\n",
      "INFO:RESCAL:[  4] fit: 0.86261 | delta: 9.3e-04 | secs: 0.05493\n",
      "INFO:RESCAL:Train Fold 2\n",
      "INFO:RESCAL:[  0] fit: 0.81252 | delta: 8.1e-01 | secs: 0.04450\n",
      "INFO:RESCAL:[  1] fit: 0.85140 | delta: 3.9e-02 | secs: 0.05393\n",
      "INFO:RESCAL:[  2] fit: 0.85895 | delta: 7.5e-03 | secs: 0.05010\n",
      "INFO:RESCAL:[  3] fit: 0.86144 | delta: 2.5e-03 | secs: 0.05667\n",
      "INFO:RESCAL:[  4] fit: 0.86239 | delta: 9.5e-04 | secs: 0.04966\n",
      "INFO:RESCAL:Test Fold 2\n",
      "INFO:RESCAL:[  0] fit: 0.81429 | delta: 8.1e-01 | secs: 0.03491\n",
      "INFO:RESCAL:[  1] fit: 0.85257 | delta: 3.8e-02 | secs: 0.04289\n",
      "INFO:RESCAL:[  2] fit: 0.86023 | delta: 7.7e-03 | secs: 0.05485\n",
      "INFO:RESCAL:[  3] fit: 0.86271 | delta: 2.5e-03 | secs: 0.04089\n",
      "INFO:RESCAL:[  4] fit: 0.86366 | delta: 9.4e-04 | secs: 0.04253\n",
      "INFO:RESCAL:Train Fold 3\n",
      "INFO:RESCAL:[  0] fit: 0.81124 | delta: 8.1e-01 | secs: 0.03191\n",
      "INFO:RESCAL:[  1] fit: 0.84962 | delta: 3.8e-02 | secs: 0.04252\n",
      "INFO:RESCAL:[  2] fit: 0.85744 | delta: 7.8e-03 | secs: 0.04189\n",
      "INFO:RESCAL:[  3] fit: 0.85998 | delta: 2.5e-03 | secs: 0.04947\n",
      "INFO:RESCAL:[  4] fit: 0.86096 | delta: 9.7e-04 | secs: 0.04585\n",
      "INFO:RESCAL:Test Fold 3\n",
      "INFO:RESCAL:[  0] fit: 0.81195 | delta: 8.1e-01 | secs: 0.03391\n",
      "INFO:RESCAL:[  1] fit: 0.85059 | delta: 3.9e-02 | secs: 0.04146\n",
      "INFO:RESCAL:[  2] fit: 0.85841 | delta: 7.8e-03 | secs: 0.05992\n",
      "INFO:RESCAL:[  3] fit: 0.86094 | delta: 2.5e-03 | secs: 0.06236\n",
      "INFO:RESCAL:[  4] fit: 0.86191 | delta: 9.7e-04 | secs: 0.05335\n",
      "INFO:RESCAL:Train Fold 4\n",
      "INFO:RESCAL:[  0] fit: 0.80950 | delta: 8.1e-01 | secs: 0.04687\n",
      "INFO:RESCAL:[  1] fit: 0.84899 | delta: 3.9e-02 | secs: 0.06582\n",
      "INFO:RESCAL:[  2] fit: 0.85682 | delta: 7.8e-03 | secs: 0.05186\n",
      "INFO:RESCAL:[  3] fit: 0.85942 | delta: 2.6e-03 | secs: 0.07081\n",
      "INFO:RESCAL:[  4] fit: 0.86043 | delta: 1.0e-03 | secs: 0.08278\n",
      "INFO:RESCAL:[  5] fit: 0.86088 | delta: 4.5e-04 | secs: 0.06382\n",
      "INFO:RESCAL:Test Fold 4\n",
      "INFO:RESCAL:[  0] fit: 0.81264 | delta: 8.1e-01 | secs: 0.04787\n",
      "INFO:RESCAL:[  1] fit: 0.85121 | delta: 3.9e-02 | secs: 0.05985\n",
      "INFO:RESCAL:[  2] fit: 0.85887 | delta: 7.7e-03 | secs: 0.04616\n",
      "INFO:RESCAL:[  3] fit: 0.86135 | delta: 2.5e-03 | secs: 0.04288\n",
      "INFO:RESCAL:[  4] fit: 0.86230 | delta: 9.5e-04 | secs: 0.04920\n",
      "INFO:RESCAL:Train Fold 5\n",
      "INFO:RESCAL:[  0] fit: 0.81130 | delta: 8.1e-01 | secs: 0.11228\n",
      "INFO:RESCAL:[  1] fit: 0.84970 | delta: 3.8e-02 | secs: 0.08685\n",
      "INFO:RESCAL:[  2] fit: 0.85756 | delta: 7.9e-03 | secs: 0.10223\n",
      "INFO:RESCAL:[  3] fit: 0.86018 | delta: 2.6e-03 | secs: 0.07764\n",
      "INFO:RESCAL:[  4] fit: 0.86120 | delta: 1.0e-03 | secs: 0.07464\n",
      "INFO:RESCAL:[  5] fit: 0.86163 | delta: 4.3e-04 | secs: 0.08106\n",
      "INFO:RESCAL:Test Fold 5\n",
      "INFO:RESCAL:[  0] fit: 0.81422 | delta: 8.1e-01 | secs: 0.05245\n",
      "INFO:RESCAL:[  1] fit: 0.85221 | delta: 3.8e-02 | secs: 0.07197\n",
      "INFO:RESCAL:[  2] fit: 0.85982 | delta: 7.6e-03 | secs: 0.07084\n",
      "INFO:RESCAL:[  3] fit: 0.86233 | delta: 2.5e-03 | secs: 0.06947\n",
      "INFO:RESCAL:[  4] fit: 0.86331 | delta: 9.8e-04 | secs: 0.06392\n",
      "INFO:RESCAL:Train Fold 6\n",
      "INFO:RESCAL:[  0] fit: 0.81005 | delta: 8.1e-01 | secs: 0.04705\n",
      "INFO:RESCAL:[  1] fit: 0.84906 | delta: 3.9e-02 | secs: 0.05361\n",
      "INFO:RESCAL:[  2] fit: 0.85681 | delta: 7.8e-03 | secs: 0.05186\n",
      "INFO:RESCAL:[  3] fit: 0.85931 | delta: 2.5e-03 | secs: 0.05433\n",
      "INFO:RESCAL:[  4] fit: 0.86026 | delta: 9.6e-04 | secs: 0.04859\n",
      "INFO:RESCAL:Test Fold 6\n",
      "INFO:RESCAL:[  0] fit: 0.81397 | delta: 8.1e-01 | secs: 0.04290\n",
      "INFO:RESCAL:[  1] fit: 0.85167 | delta: 3.8e-02 | secs: 0.05573\n",
      "INFO:RESCAL:[  2] fit: 0.85920 | delta: 7.5e-03 | secs: 0.04447\n",
      "INFO:RESCAL:[  3] fit: 0.86162 | delta: 2.4e-03 | secs: 0.05407\n",
      "INFO:RESCAL:[  4] fit: 0.86253 | delta: 9.0e-04 | secs: 0.06214\n",
      "INFO:RESCAL:Train Fold 7\n",
      "INFO:RESCAL:[  0] fit: 0.81263 | delta: 8.1e-01 | secs: 0.04034\n",
      "INFO:RESCAL:[  1] fit: 0.85095 | delta: 3.8e-02 | secs: 0.04912\n",
      "INFO:RESCAL:[  2] fit: 0.85848 | delta: 7.5e-03 | secs: 0.05781\n",
      "INFO:RESCAL:[  3] fit: 0.86087 | delta: 2.4e-03 | secs: 0.05884\n",
      "INFO:RESCAL:[  4] fit: 0.86175 | delta: 8.8e-04 | secs: 0.05683\n",
      "INFO:RESCAL:Test Fold 7\n",
      "INFO:RESCAL:[  0] fit: 0.81332 | delta: 8.1e-01 | secs: 0.04846\n",
      "INFO:RESCAL:[  1] fit: 0.85188 | delta: 3.9e-02 | secs: 0.05648\n",
      "INFO:RESCAL:[  2] fit: 0.85946 | delta: 7.6e-03 | secs: 0.06775\n",
      "INFO:RESCAL:[  3] fit: 0.86198 | delta: 2.5e-03 | secs: 0.06679\n",
      "INFO:RESCAL:[  4] fit: 0.86297 | delta: 9.8e-04 | secs: 0.05701\n",
      "INFO:RESCAL:Train Fold 8\n",
      "INFO:RESCAL:[  0] fit: 0.81055 | delta: 8.1e-01 | secs: 0.05118\n",
      "INFO:RESCAL:[  1] fit: 0.84927 | delta: 3.9e-02 | secs: 0.05381\n",
      "INFO:RESCAL:[  2] fit: 0.85699 | delta: 7.7e-03 | secs: 0.06004\n",
      "INFO:RESCAL:[  3] fit: 0.85949 | delta: 2.5e-03 | secs: 0.05797\n",
      "INFO:RESCAL:[  4] fit: 0.86048 | delta: 9.9e-04 | secs: 0.05810\n",
      "INFO:RESCAL:Test Fold 8\n",
      "INFO:RESCAL:[  0] fit: 0.81421 | delta: 8.1e-01 | secs: 0.03592\n",
      "INFO:RESCAL:[  1] fit: 0.85230 | delta: 3.8e-02 | secs: 0.03895\n",
      "INFO:RESCAL:[  2] fit: 0.85983 | delta: 7.5e-03 | secs: 0.04887\n",
      "INFO:RESCAL:[  3] fit: 0.86221 | delta: 2.4e-03 | secs: 0.05585\n",
      "INFO:RESCAL:[  4] fit: 0.86309 | delta: 8.8e-04 | secs: 0.04255\n",
      "INFO:RESCAL:Train Fold 9\n",
      "INFO:RESCAL:[  0] fit: 0.81071 | delta: 8.1e-01 | secs: 0.04395\n",
      "INFO:RESCAL:[  1] fit: 0.84972 | delta: 3.9e-02 | secs: 0.05632\n",
      "INFO:RESCAL:[  2] fit: 0.85772 | delta: 8.0e-03 | secs: 0.04995\n",
      "INFO:RESCAL:[  3] fit: 0.86033 | delta: 2.6e-03 | secs: 0.05165\n",
      "INFO:RESCAL:[  4] fit: 0.86133 | delta: 1.0e-03 | secs: 0.05983\n",
      "INFO:RESCAL:Test Fold 9\n",
      "INFO:RESCAL:[  0] fit: 0.81378 | delta: 8.1e-01 | secs: 0.04760\n",
      "INFO:RESCAL:[  1] fit: 0.85223 | delta: 3.8e-02 | secs: 0.05485\n",
      "INFO:RESCAL:[  2] fit: 0.85990 | delta: 7.7e-03 | secs: 0.05469\n",
      "INFO:RESCAL:[  3] fit: 0.86229 | delta: 2.4e-03 | secs: 0.05139\n",
      "INFO:RESCAL:[  4] fit: 0.86314 | delta: 8.5e-04 | secs: 0.04688\n"
     ]
    },
    {
     "name": "stdout",
     "output_type": "stream",
     "text": [
      "PR AUC training/test mean: 0.432/0.495\n",
      "PR AUC training/test standard deviation: 0.135/0.120\n"
     ]
    }
   ],
   "source": [
    "mean_train2, std_train2, mean_test2, std_test2 = model2.evaluate()\n",
    "print(\"PR AUC training/test mean: %.3f/%.3f\" %(mean_train2, mean_test2))\n",
    "print(\"PR AUC training/test standard deviation: %.3f/%.3f\" %(std_train2, std_test2))"
   ]
  },
  {
   "cell_type": "markdown",
   "metadata": {},
   "source": [
    "# Benchmark 3: human disease-symptoms data resource"
   ]
  },
  {
   "cell_type": "code",
   "execution_count": 19,
   "metadata": {},
   "outputs": [],
   "source": [
    "model3 = RESCALModel()\n",
    "X3 = model3.read_dataset(os.getcwd()+'\\\\benchmark3\\\\rescal_input_diseases.mat', 'K')"
   ]
  },
  {
   "cell_type": "markdown",
   "metadata": {},
   "source": [
    "## Tensor factorization with $r=50$"
   ]
  },
  {
   "cell_type": "code",
   "execution_count": 20,
   "metadata": {},
   "outputs": [
    {
     "name": "stderr",
     "output_type": "stream",
     "text": [
      "INFO:RESCAL:[  0] fit: 0.93453 | delta: 9.3e-01 | secs: 0.84738\n",
      "INFO:RESCAL:[  1] fit: 0.93513 | delta: 6.0e-04 | secs: 0.86365\n"
     ]
    },
    {
     "name": "stdout",
     "output_type": "stream",
     "text": [
      "[[ 0.00446232  0.0089613   0.0283861  ...  0.00726947  0.01805538\n",
      "   0.00186346]\n",
      " [-0.19432559 -0.10615873 -0.32937182 ...  0.38323471  0.26551574\n",
      "   0.40343787]\n",
      " [ 0.21909547  0.10338185 -0.19540799 ... -0.03775649  0.56021673\n",
      "   0.34375652]\n",
      " ...\n",
      " [-0.2579827  -0.24322704 -0.4842665  ...  0.2944431   0.48326003\n",
      "   0.40817303]\n",
      " [-0.09524507  0.17159799  0.33451489 ...  0.08324661 -0.01605023\n",
      "   0.3603542 ]\n",
      " [ 0.08466193  0.39363298 -0.05904715 ...  0.43346224 -0.5798173\n",
      "   0.28820235]]\n",
      "\n",
      "[[-0.0970226  -0.07249207 -0.25100448 ... -0.11536157 -0.09747333\n",
      "  -0.2676122 ]\n",
      " [-0.07249207 -0.0516804  -0.14992046 ... -0.00794668 -0.01766966\n",
      "  -0.05265964]\n",
      " [-0.25100448 -0.14992046 -0.50351671 ...  0.01315085 -0.00633601\n",
      "  -0.12328693]\n",
      " ...\n",
      " [-0.11536157 -0.00794668  0.01315085 ...  0.58452327  0.39274157\n",
      "   0.13546583]\n",
      " [-0.09747333 -0.01766966 -0.00633601 ...  0.39274157  0.41411803\n",
      "   0.31993644]\n",
      " [-0.2676122  -0.05265964 -0.12328693 ...  0.13546583  0.31993644\n",
      "   1.61585071]]\n"
     ]
    }
   ],
   "source": [
    "A3, R3 = model3.factorize(50)\n",
    "print(A3)\n",
    "print()\n",
    "print(R3[0])"
   ]
  },
  {
   "cell_type": "markdown",
   "metadata": {},
   "source": [
    "## Evaluation"
   ]
  },
  {
   "cell_type": "code",
   "execution_count": 21,
   "metadata": {},
   "outputs": [
    {
     "name": "stderr",
     "output_type": "stream",
     "text": [
      "INFO:RESCAL:Train Fold 0\n",
      "INFO:RESCAL:[  0] fit: 0.87640 | delta: 8.8e-01 | secs: 0.82113\n",
      "INFO:RESCAL:[  1] fit: 0.87855 | delta: 2.2e-03 | secs: 0.84390\n",
      "INFO:RESCAL:[  2] fit: 0.87889 | delta: 3.4e-04 | secs: 0.80598\n",
      "INFO:RESCAL:Test Fold 0\n",
      "INFO:RESCAL:[  0] fit: 0.90340 | delta: 9.0e-01 | secs: 0.81347\n",
      "INFO:RESCAL:[  1] fit: 0.90415 | delta: 7.5e-04 | secs: 0.82185\n",
      "INFO:RESCAL:Train Fold 1\n",
      "INFO:RESCAL:[  0] fit: 0.87614 | delta: 8.8e-01 | secs: 0.78836\n",
      "INFO:RESCAL:[  1] fit: 0.87843 | delta: 2.3e-03 | secs: 0.81283\n",
      "INFO:RESCAL:[  2] fit: 0.87881 | delta: 3.8e-04 | secs: 0.82484\n",
      "INFO:RESCAL:Test Fold 1\n",
      "INFO:RESCAL:[  0] fit: 0.90338 | delta: 9.0e-01 | secs: 0.82386\n",
      "INFO:RESCAL:[  1] fit: 0.90412 | delta: 7.4e-04 | secs: 0.80010\n",
      "INFO:RESCAL:Train Fold 2\n",
      "INFO:RESCAL:[  0] fit: 0.87651 | delta: 8.8e-01 | secs: 0.79586\n",
      "INFO:RESCAL:[  1] fit: 0.87838 | delta: 1.9e-03 | secs: 0.83276\n",
      "INFO:RESCAL:[  2] fit: 0.87870 | delta: 3.3e-04 | secs: 0.81482\n",
      "INFO:RESCAL:Test Fold 2\n",
      "INFO:RESCAL:[  0] fit: 0.90322 | delta: 9.0e-01 | secs: 0.84379\n",
      "INFO:RESCAL:[  1] fit: 0.90400 | delta: 7.7e-04 | secs: 0.86269\n",
      "INFO:RESCAL:Train Fold 3\n",
      "INFO:RESCAL:[  0] fit: 0.87603 | delta: 8.8e-01 | secs: 0.81355\n",
      "INFO:RESCAL:[  1] fit: 0.87841 | delta: 2.4e-03 | secs: 0.82770\n",
      "INFO:RESCAL:[  2] fit: 0.87879 | delta: 3.8e-04 | secs: 0.81582\n",
      "INFO:RESCAL:Test Fold 3\n",
      "INFO:RESCAL:[  0] fit: 0.90332 | delta: 9.0e-01 | secs: 0.81093\n",
      "INFO:RESCAL:[  1] fit: 0.90413 | delta: 8.1e-04 | secs: 0.82675\n",
      "INFO:RESCAL:Train Fold 4\n",
      "INFO:RESCAL:[  0] fit: 0.87617 | delta: 8.8e-01 | secs: 0.79169\n",
      "INFO:RESCAL:[  1] fit: 0.87832 | delta: 2.1e-03 | secs: 0.80104\n",
      "INFO:RESCAL:[  2] fit: 0.87873 | delta: 4.1e-04 | secs: 0.77263\n",
      "INFO:RESCAL:Test Fold 4\n",
      "INFO:RESCAL:[  0] fit: 0.90327 | delta: 9.0e-01 | secs: 0.79594\n",
      "INFO:RESCAL:[  1] fit: 0.90405 | delta: 7.7e-04 | secs: 0.77892\n",
      "INFO:RESCAL:Train Fold 5\n",
      "INFO:RESCAL:[  0] fit: 0.87652 | delta: 8.8e-01 | secs: 0.76999\n",
      "INFO:RESCAL:[  1] fit: 0.87864 | delta: 2.1e-03 | secs: 0.78694\n",
      "INFO:RESCAL:[  2] fit: 0.87901 | delta: 3.6e-04 | secs: 0.78590\n",
      "INFO:RESCAL:Test Fold 5\n",
      "INFO:RESCAL:[  0] fit: 0.90337 | delta: 9.0e-01 | secs: 0.80283\n",
      "INFO:RESCAL:[  1] fit: 0.90414 | delta: 7.8e-04 | secs: 0.85664\n",
      "INFO:RESCAL:Train Fold 6\n",
      "INFO:RESCAL:[  0] fit: 0.87622 | delta: 8.8e-01 | secs: 0.76602\n",
      "INFO:RESCAL:[  1] fit: 0.87838 | delta: 2.2e-03 | secs: 0.77208\n",
      "INFO:RESCAL:[  2] fit: 0.87882 | delta: 4.3e-04 | secs: 0.75900\n",
      "INFO:RESCAL:Test Fold 6\n",
      "INFO:RESCAL:[  0] fit: 0.90327 | delta: 9.0e-01 | secs: 0.79700\n",
      "INFO:RESCAL:[  1] fit: 0.90406 | delta: 7.9e-04 | secs: 0.82216\n",
      "INFO:RESCAL:Train Fold 7\n",
      "INFO:RESCAL:[  0] fit: 0.87599 | delta: 8.8e-01 | secs: 0.77608\n",
      "INFO:RESCAL:[  1] fit: 0.87840 | delta: 2.4e-03 | secs: 0.76883\n",
      "INFO:RESCAL:[  2] fit: 0.87885 | delta: 4.5e-04 | secs: 0.77291\n",
      "INFO:RESCAL:Test Fold 7\n",
      "INFO:RESCAL:[  0] fit: 0.90331 | delta: 9.0e-01 | secs: 0.80589\n",
      "INFO:RESCAL:[  1] fit: 0.90406 | delta: 7.5e-04 | secs: 0.81137\n",
      "INFO:RESCAL:Train Fold 8\n",
      "INFO:RESCAL:[  0] fit: 0.87633 | delta: 8.8e-01 | secs: 0.78097\n",
      "INFO:RESCAL:[  1] fit: 0.87846 | delta: 2.1e-03 | secs: 0.77107\n",
      "INFO:RESCAL:[  2] fit: 0.87883 | delta: 3.7e-04 | secs: 0.77990\n",
      "INFO:RESCAL:Test Fold 8\n",
      "INFO:RESCAL:[  0] fit: 0.90332 | delta: 9.0e-01 | secs: 0.83801\n",
      "INFO:RESCAL:[  1] fit: 0.90408 | delta: 7.7e-04 | secs: 0.84873\n",
      "INFO:RESCAL:Train Fold 9\n",
      "INFO:RESCAL:[  0] fit: 0.87626 | delta: 8.8e-01 | secs: 0.77082\n",
      "INFO:RESCAL:[  1] fit: 0.87856 | delta: 2.3e-03 | secs: 0.78890\n",
      "INFO:RESCAL:[  2] fit: 0.87893 | delta: 3.7e-04 | secs: 0.74175\n",
      "INFO:RESCAL:Test Fold 9\n",
      "INFO:RESCAL:[  0] fit: 0.90328 | delta: 9.0e-01 | secs: 0.83017\n",
      "INFO:RESCAL:[  1] fit: 0.90407 | delta: 7.9e-04 | secs: 0.83082\n"
     ]
    },
    {
     "name": "stdout",
     "output_type": "stream",
     "text": [
      "PR AUC training/test mean: 0.756/0.755\n",
      "PR AUC training/test standard deviation: 0.003/0.002\n"
     ]
    }
   ],
   "source": [
    "mean_train3, std_train3, mean_test3, std_test3 = model3.evaluate()\n",
    "print(\"PR AUC training/test mean: %.3f/%.3f\" %(mean_train3, mean_test3))\n",
    "print(\"PR AUC training/test standard deviation: %.3f/%.3f\" %(std_train3, std_test3))"
   ]
  },
  {
   "cell_type": "code",
   "execution_count": null,
   "metadata": {},
   "outputs": [],
   "source": []
  }
 ],
 "metadata": {
  "kernelspec": {
   "display_name": "Python 3",
   "language": "python",
   "name": "python3"
  },
  "language_info": {
   "codemirror_mode": {
    "name": "ipython",
    "version": 3
   },
   "file_extension": ".py",
   "mimetype": "text/x-python",
   "name": "python",
   "nbconvert_exporter": "python",
   "pygments_lexer": "ipython3",
   "version": "3.5.4"
  }
 },
 "nbformat": 4,
 "nbformat_minor": 2
}
